{
  "cells": [
    {
      "attachments": {},
      "cell_type": "markdown",
      "metadata": {
        "id": "3PrN_6cueikq"
      },
      "source": [
        "# **Importing the Dataset :**"
      ]
    },
    {
      "cell_type": "code",
      "execution_count": null,
      "metadata": {
        "id": "SpMRYpAxaPEt"
      },
      "outputs": [],
      "source": [
        "import numpy as np\n",
        "import pandas as pd\n",
        "import matplotlib.pyplot as plt\n",
        "import seaborn as sns"
      ]
    },
    {
      "cell_type": "code",
      "execution_count": null,
      "metadata": {
        "colab": {
          "base_uri": "https://localhost:8080/"
        },
        "id": "GhVgT4ORZ8Tj",
        "outputId": "deb061b4-b96a-4082-81b3-2ce78b9e785f"
      },
      "outputs": [
        {
          "name": "stdout",
          "output_type": "stream",
          "text": [
            "Drive already mounted at /content/drive; to attempt to forcibly remount, call drive.mount(\"/content/drive\", force_remount=True).\n"
          ]
        }
      ],
      "source": [
        "from google.colab import drive\n",
        "drive.mount('/content/drive')\n",
        "import pandas as pd\n",
        "data = '/content/drive/My Drive/spam.csv'"
      ]
    },
    {
      "cell_type": "code",
      "execution_count": null,
      "metadata": {
        "colab": {
          "base_uri": "https://localhost:8080/"
        },
        "id": "QjyL4W6Dg67a",
        "outputId": "6679c9d5-f915-49e9-9f51-d2d0c25a21e8"
      },
      "outputs": [
        {
          "name": "stdout",
          "output_type": "stream",
          "text": [
            "Looking in indexes: https://pypi.org/simple, https://us-python.pkg.dev/colab-wheels/public/simple/\n",
            "Requirement already satisfied: chardet in /usr/local/lib/python3.10/dist-packages (4.0.0)\n"
          ]
        }
      ],
      "source": [
        "pip install chardet"
      ]
    },
    {
      "cell_type": "code",
      "execution_count": null,
      "metadata": {
        "colab": {
          "base_uri": "https://localhost:8080/"
        },
        "id": "8wUqrzIPdGvl",
        "outputId": "63ded4bd-ab0e-450a-f4cb-797df35b2f67"
      },
      "outputs": [
        {
          "data": {
            "text/plain": [
              "{'encoding': 'Windows-1252', 'confidence': 0.7270322499829184, 'language': ''}"
            ]
          },
          "execution_count": 120,
          "metadata": {},
          "output_type": "execute_result"
        }
      ],
      "source": [
        "import chardet\n",
        "with open(data, 'rb') as rawdata:\n",
        "    result = chardet.detect(rawdata.read(100000))\n",
        "result"
      ]
    },
    {
      "cell_type": "code",
      "execution_count": null,
      "metadata": {
        "colab": {
          "base_uri": "https://localhost:8080/",
          "height": 423
        },
        "id": "P2iCji2mb5vc",
        "outputId": "ca174917-0bec-42d2-d14f-42098eeda135"
      },
      "outputs": [
        {
          "data": {
            "text/html": [
              "\n",
              "  <div id=\"df-78bbba3f-2423-447d-9416-489b29a5d023\">\n",
              "    <div class=\"colab-df-container\">\n",
              "      <div>\n",
              "<style scoped>\n",
              "    .dataframe tbody tr th:only-of-type {\n",
              "        vertical-align: middle;\n",
              "    }\n",
              "\n",
              "    .dataframe tbody tr th {\n",
              "        vertical-align: top;\n",
              "    }\n",
              "\n",
              "    .dataframe thead th {\n",
              "        text-align: right;\n",
              "    }\n",
              "</style>\n",
              "<table border=\"1\" class=\"dataframe\">\n",
              "  <thead>\n",
              "    <tr style=\"text-align: right;\">\n",
              "      <th></th>\n",
              "      <th>v1</th>\n",
              "      <th>v2</th>\n",
              "      <th>Unnamed: 2</th>\n",
              "      <th>Unnamed: 3</th>\n",
              "      <th>Unnamed: 4</th>\n",
              "    </tr>\n",
              "  </thead>\n",
              "  <tbody>\n",
              "    <tr>\n",
              "      <th>0</th>\n",
              "      <td>ham</td>\n",
              "      <td>Go until jurong point, crazy.. Available only ...</td>\n",
              "      <td>NaN</td>\n",
              "      <td>NaN</td>\n",
              "      <td>NaN</td>\n",
              "    </tr>\n",
              "    <tr>\n",
              "      <th>1</th>\n",
              "      <td>ham</td>\n",
              "      <td>Ok lar... Joking wif u oni...</td>\n",
              "      <td>NaN</td>\n",
              "      <td>NaN</td>\n",
              "      <td>NaN</td>\n",
              "    </tr>\n",
              "    <tr>\n",
              "      <th>2</th>\n",
              "      <td>spam</td>\n",
              "      <td>Free entry in 2 a wkly comp to win FA Cup fina...</td>\n",
              "      <td>NaN</td>\n",
              "      <td>NaN</td>\n",
              "      <td>NaN</td>\n",
              "    </tr>\n",
              "    <tr>\n",
              "      <th>3</th>\n",
              "      <td>ham</td>\n",
              "      <td>U dun say so early hor... U c already then say...</td>\n",
              "      <td>NaN</td>\n",
              "      <td>NaN</td>\n",
              "      <td>NaN</td>\n",
              "    </tr>\n",
              "    <tr>\n",
              "      <th>4</th>\n",
              "      <td>ham</td>\n",
              "      <td>Nah I don't think he goes to usf, he lives aro...</td>\n",
              "      <td>NaN</td>\n",
              "      <td>NaN</td>\n",
              "      <td>NaN</td>\n",
              "    </tr>\n",
              "    <tr>\n",
              "      <th>...</th>\n",
              "      <td>...</td>\n",
              "      <td>...</td>\n",
              "      <td>...</td>\n",
              "      <td>...</td>\n",
              "      <td>...</td>\n",
              "    </tr>\n",
              "    <tr>\n",
              "      <th>5567</th>\n",
              "      <td>spam</td>\n",
              "      <td>This is the 2nd time we have tried 2 contact u...</td>\n",
              "      <td>NaN</td>\n",
              "      <td>NaN</td>\n",
              "      <td>NaN</td>\n",
              "    </tr>\n",
              "    <tr>\n",
              "      <th>5568</th>\n",
              "      <td>ham</td>\n",
              "      <td>Will Ì_ b going to esplanade fr home?</td>\n",
              "      <td>NaN</td>\n",
              "      <td>NaN</td>\n",
              "      <td>NaN</td>\n",
              "    </tr>\n",
              "    <tr>\n",
              "      <th>5569</th>\n",
              "      <td>ham</td>\n",
              "      <td>Pity, * was in mood for that. So...any other s...</td>\n",
              "      <td>NaN</td>\n",
              "      <td>NaN</td>\n",
              "      <td>NaN</td>\n",
              "    </tr>\n",
              "    <tr>\n",
              "      <th>5570</th>\n",
              "      <td>ham</td>\n",
              "      <td>The guy did some bitching but I acted like i'd...</td>\n",
              "      <td>NaN</td>\n",
              "      <td>NaN</td>\n",
              "      <td>NaN</td>\n",
              "    </tr>\n",
              "    <tr>\n",
              "      <th>5571</th>\n",
              "      <td>ham</td>\n",
              "      <td>Rofl. Its true to its name</td>\n",
              "      <td>NaN</td>\n",
              "      <td>NaN</td>\n",
              "      <td>NaN</td>\n",
              "    </tr>\n",
              "  </tbody>\n",
              "</table>\n",
              "<p>5572 rows × 5 columns</p>\n",
              "</div>\n",
              "      <button class=\"colab-df-convert\" onclick=\"convertToInteractive('df-78bbba3f-2423-447d-9416-489b29a5d023')\"\n",
              "              title=\"Convert this dataframe to an interactive table.\"\n",
              "              style=\"display:none;\">\n",
              "        \n",
              "  <svg xmlns=\"http://www.w3.org/2000/svg\" height=\"24px\"viewBox=\"0 0 24 24\"\n",
              "       width=\"24px\">\n",
              "    <path d=\"M0 0h24v24H0V0z\" fill=\"none\"/>\n",
              "    <path d=\"M18.56 5.44l.94 2.06.94-2.06 2.06-.94-2.06-.94-.94-2.06-.94 2.06-2.06.94zm-11 1L8.5 8.5l.94-2.06 2.06-.94-2.06-.94L8.5 2.5l-.94 2.06-2.06.94zm10 10l.94 2.06.94-2.06 2.06-.94-2.06-.94-.94-2.06-.94 2.06-2.06.94z\"/><path d=\"M17.41 7.96l-1.37-1.37c-.4-.4-.92-.59-1.43-.59-.52 0-1.04.2-1.43.59L10.3 9.45l-7.72 7.72c-.78.78-.78 2.05 0 2.83L4 21.41c.39.39.9.59 1.41.59.51 0 1.02-.2 1.41-.59l7.78-7.78 2.81-2.81c.8-.78.8-2.07 0-2.86zM5.41 20L4 18.59l7.72-7.72 1.47 1.35L5.41 20z\"/>\n",
              "  </svg>\n",
              "      </button>\n",
              "      \n",
              "  <style>\n",
              "    .colab-df-container {\n",
              "      display:flex;\n",
              "      flex-wrap:wrap;\n",
              "      gap: 12px;\n",
              "    }\n",
              "\n",
              "    .colab-df-convert {\n",
              "      background-color: #E8F0FE;\n",
              "      border: none;\n",
              "      border-radius: 50%;\n",
              "      cursor: pointer;\n",
              "      display: none;\n",
              "      fill: #1967D2;\n",
              "      height: 32px;\n",
              "      padding: 0 0 0 0;\n",
              "      width: 32px;\n",
              "    }\n",
              "\n",
              "    .colab-df-convert:hover {\n",
              "      background-color: #E2EBFA;\n",
              "      box-shadow: 0px 1px 2px rgba(60, 64, 67, 0.3), 0px 1px 3px 1px rgba(60, 64, 67, 0.15);\n",
              "      fill: #174EA6;\n",
              "    }\n",
              "\n",
              "    [theme=dark] .colab-df-convert {\n",
              "      background-color: #3B4455;\n",
              "      fill: #D2E3FC;\n",
              "    }\n",
              "\n",
              "    [theme=dark] .colab-df-convert:hover {\n",
              "      background-color: #434B5C;\n",
              "      box-shadow: 0px 1px 3px 1px rgba(0, 0, 0, 0.15);\n",
              "      filter: drop-shadow(0px 1px 2px rgba(0, 0, 0, 0.3));\n",
              "      fill: #FFFFFF;\n",
              "    }\n",
              "  </style>\n",
              "\n",
              "      <script>\n",
              "        const buttonEl =\n",
              "          document.querySelector('#df-78bbba3f-2423-447d-9416-489b29a5d023 button.colab-df-convert');\n",
              "        buttonEl.style.display =\n",
              "          google.colab.kernel.accessAllowed ? 'block' : 'none';\n",
              "\n",
              "        async function convertToInteractive(key) {\n",
              "          const element = document.querySelector('#df-78bbba3f-2423-447d-9416-489b29a5d023');\n",
              "          const dataTable =\n",
              "            await google.colab.kernel.invokeFunction('convertToInteractive',\n",
              "                                                     [key], {});\n",
              "          if (!dataTable) return;\n",
              "\n",
              "          const docLinkHtml = 'Like what you see? Visit the ' +\n",
              "            '<a target=\"_blank\" href=https://colab.research.google.com/notebooks/data_table.ipynb>data table notebook</a>'\n",
              "            + ' to learn more about interactive tables.';\n",
              "          element.innerHTML = '';\n",
              "          dataTable['output_type'] = 'display_data';\n",
              "          await google.colab.output.renderOutput(dataTable, element);\n",
              "          const docLink = document.createElement('div');\n",
              "          docLink.innerHTML = docLinkHtml;\n",
              "          element.appendChild(docLink);\n",
              "        }\n",
              "      </script>\n",
              "    </div>\n",
              "  </div>\n",
              "  "
            ],
            "text/plain": [
              "        v1                                                 v2 Unnamed: 2  \\\n",
              "0      ham  Go until jurong point, crazy.. Available only ...        NaN   \n",
              "1      ham                      Ok lar... Joking wif u oni...        NaN   \n",
              "2     spam  Free entry in 2 a wkly comp to win FA Cup fina...        NaN   \n",
              "3      ham  U dun say so early hor... U c already then say...        NaN   \n",
              "4      ham  Nah I don't think he goes to usf, he lives aro...        NaN   \n",
              "...    ...                                                ...        ...   \n",
              "5567  spam  This is the 2nd time we have tried 2 contact u...        NaN   \n",
              "5568   ham              Will Ì_ b going to esplanade fr home?        NaN   \n",
              "5569   ham  Pity, * was in mood for that. So...any other s...        NaN   \n",
              "5570   ham  The guy did some bitching but I acted like i'd...        NaN   \n",
              "5571   ham                         Rofl. Its true to its name        NaN   \n",
              "\n",
              "     Unnamed: 3 Unnamed: 4  \n",
              "0           NaN        NaN  \n",
              "1           NaN        NaN  \n",
              "2           NaN        NaN  \n",
              "3           NaN        NaN  \n",
              "4           NaN        NaN  \n",
              "...         ...        ...  \n",
              "5567        NaN        NaN  \n",
              "5568        NaN        NaN  \n",
              "5569        NaN        NaN  \n",
              "5570        NaN        NaN  \n",
              "5571        NaN        NaN  \n",
              "\n",
              "[5572 rows x 5 columns]"
            ]
          },
          "execution_count": 121,
          "metadata": {},
          "output_type": "execute_result"
        }
      ],
      "source": [
        "df=pd.read_csv(data,encoding='Windows-1252')\n",
        "df"
      ]
    },
    {
      "cell_type": "code",
      "execution_count": null,
      "metadata": {
        "colab": {
          "base_uri": "https://localhost:8080/",
          "height": 206
        },
        "id": "diZevLHKdTqb",
        "outputId": "5a2c4e16-7732-42d7-a89e-50376a989995"
      },
      "outputs": [
        {
          "data": {
            "text/html": [
              "\n",
              "  <div id=\"df-111c65e4-a427-4efc-943c-b64e0874be1f\">\n",
              "    <div class=\"colab-df-container\">\n",
              "      <div>\n",
              "<style scoped>\n",
              "    .dataframe tbody tr th:only-of-type {\n",
              "        vertical-align: middle;\n",
              "    }\n",
              "\n",
              "    .dataframe tbody tr th {\n",
              "        vertical-align: top;\n",
              "    }\n",
              "\n",
              "    .dataframe thead th {\n",
              "        text-align: right;\n",
              "    }\n",
              "</style>\n",
              "<table border=\"1\" class=\"dataframe\">\n",
              "  <thead>\n",
              "    <tr style=\"text-align: right;\">\n",
              "      <th></th>\n",
              "      <th>count</th>\n",
              "      <th>unique</th>\n",
              "      <th>top</th>\n",
              "      <th>freq</th>\n",
              "    </tr>\n",
              "  </thead>\n",
              "  <tbody>\n",
              "    <tr>\n",
              "      <th>v1</th>\n",
              "      <td>5572</td>\n",
              "      <td>2</td>\n",
              "      <td>ham</td>\n",
              "      <td>4825</td>\n",
              "    </tr>\n",
              "    <tr>\n",
              "      <th>v2</th>\n",
              "      <td>5572</td>\n",
              "      <td>5169</td>\n",
              "      <td>Sorry, I'll call later</td>\n",
              "      <td>30</td>\n",
              "    </tr>\n",
              "    <tr>\n",
              "      <th>Unnamed: 2</th>\n",
              "      <td>50</td>\n",
              "      <td>43</td>\n",
              "      <td>bt not his girlfrnd... G o o d n i g h t . . .@\"</td>\n",
              "      <td>3</td>\n",
              "    </tr>\n",
              "    <tr>\n",
              "      <th>Unnamed: 3</th>\n",
              "      <td>12</td>\n",
              "      <td>10</td>\n",
              "      <td>MK17 92H. 450Ppw 16\"</td>\n",
              "      <td>2</td>\n",
              "    </tr>\n",
              "    <tr>\n",
              "      <th>Unnamed: 4</th>\n",
              "      <td>6</td>\n",
              "      <td>5</td>\n",
              "      <td>GNT:-)\"</td>\n",
              "      <td>2</td>\n",
              "    </tr>\n",
              "  </tbody>\n",
              "</table>\n",
              "</div>\n",
              "      <button class=\"colab-df-convert\" onclick=\"convertToInteractive('df-111c65e4-a427-4efc-943c-b64e0874be1f')\"\n",
              "              title=\"Convert this dataframe to an interactive table.\"\n",
              "              style=\"display:none;\">\n",
              "        \n",
              "  <svg xmlns=\"http://www.w3.org/2000/svg\" height=\"24px\"viewBox=\"0 0 24 24\"\n",
              "       width=\"24px\">\n",
              "    <path d=\"M0 0h24v24H0V0z\" fill=\"none\"/>\n",
              "    <path d=\"M18.56 5.44l.94 2.06.94-2.06 2.06-.94-2.06-.94-.94-2.06-.94 2.06-2.06.94zm-11 1L8.5 8.5l.94-2.06 2.06-.94-2.06-.94L8.5 2.5l-.94 2.06-2.06.94zm10 10l.94 2.06.94-2.06 2.06-.94-2.06-.94-.94-2.06-.94 2.06-2.06.94z\"/><path d=\"M17.41 7.96l-1.37-1.37c-.4-.4-.92-.59-1.43-.59-.52 0-1.04.2-1.43.59L10.3 9.45l-7.72 7.72c-.78.78-.78 2.05 0 2.83L4 21.41c.39.39.9.59 1.41.59.51 0 1.02-.2 1.41-.59l7.78-7.78 2.81-2.81c.8-.78.8-2.07 0-2.86zM5.41 20L4 18.59l7.72-7.72 1.47 1.35L5.41 20z\"/>\n",
              "  </svg>\n",
              "      </button>\n",
              "      \n",
              "  <style>\n",
              "    .colab-df-container {\n",
              "      display:flex;\n",
              "      flex-wrap:wrap;\n",
              "      gap: 12px;\n",
              "    }\n",
              "\n",
              "    .colab-df-convert {\n",
              "      background-color: #E8F0FE;\n",
              "      border: none;\n",
              "      border-radius: 50%;\n",
              "      cursor: pointer;\n",
              "      display: none;\n",
              "      fill: #1967D2;\n",
              "      height: 32px;\n",
              "      padding: 0 0 0 0;\n",
              "      width: 32px;\n",
              "    }\n",
              "\n",
              "    .colab-df-convert:hover {\n",
              "      background-color: #E2EBFA;\n",
              "      box-shadow: 0px 1px 2px rgba(60, 64, 67, 0.3), 0px 1px 3px 1px rgba(60, 64, 67, 0.15);\n",
              "      fill: #174EA6;\n",
              "    }\n",
              "\n",
              "    [theme=dark] .colab-df-convert {\n",
              "      background-color: #3B4455;\n",
              "      fill: #D2E3FC;\n",
              "    }\n",
              "\n",
              "    [theme=dark] .colab-df-convert:hover {\n",
              "      background-color: #434B5C;\n",
              "      box-shadow: 0px 1px 3px 1px rgba(0, 0, 0, 0.15);\n",
              "      filter: drop-shadow(0px 1px 2px rgba(0, 0, 0, 0.3));\n",
              "      fill: #FFFFFF;\n",
              "    }\n",
              "  </style>\n",
              "\n",
              "      <script>\n",
              "        const buttonEl =\n",
              "          document.querySelector('#df-111c65e4-a427-4efc-943c-b64e0874be1f button.colab-df-convert');\n",
              "        buttonEl.style.display =\n",
              "          google.colab.kernel.accessAllowed ? 'block' : 'none';\n",
              "\n",
              "        async function convertToInteractive(key) {\n",
              "          const element = document.querySelector('#df-111c65e4-a427-4efc-943c-b64e0874be1f');\n",
              "          const dataTable =\n",
              "            await google.colab.kernel.invokeFunction('convertToInteractive',\n",
              "                                                     [key], {});\n",
              "          if (!dataTable) return;\n",
              "\n",
              "          const docLinkHtml = 'Like what you see? Visit the ' +\n",
              "            '<a target=\"_blank\" href=https://colab.research.google.com/notebooks/data_table.ipynb>data table notebook</a>'\n",
              "            + ' to learn more about interactive tables.';\n",
              "          element.innerHTML = '';\n",
              "          dataTable['output_type'] = 'display_data';\n",
              "          await google.colab.output.renderOutput(dataTable, element);\n",
              "          const docLink = document.createElement('div');\n",
              "          docLink.innerHTML = docLinkHtml;\n",
              "          element.appendChild(docLink);\n",
              "        }\n",
              "      </script>\n",
              "    </div>\n",
              "  </div>\n",
              "  "
            ],
            "text/plain": [
              "           count unique                                                top  \\\n",
              "v1          5572      2                                                ham   \n",
              "v2          5572   5169                             Sorry, I'll call later   \n",
              "Unnamed: 2    50     43   bt not his girlfrnd... G o o d n i g h t . . .@\"   \n",
              "Unnamed: 3    12     10                               MK17 92H. 450Ppw 16\"   \n",
              "Unnamed: 4     6      5                                            GNT:-)\"   \n",
              "\n",
              "            freq  \n",
              "v1          4825  \n",
              "v2            30  \n",
              "Unnamed: 2     3  \n",
              "Unnamed: 3     2  \n",
              "Unnamed: 4     2  "
            ]
          },
          "execution_count": 122,
          "metadata": {},
          "output_type": "execute_result"
        }
      ],
      "source": [
        "df.describe().transpose()"
      ]
    },
    {
      "cell_type": "code",
      "execution_count": null,
      "metadata": {
        "colab": {
          "base_uri": "https://localhost:8080/"
        },
        "id": "1UmvmxEvdojE",
        "outputId": "0b809a2a-ccba-4480-ecd8-eccbfa5bfa33"
      },
      "outputs": [
        {
          "name": "stdout",
          "output_type": "stream",
          "text": [
            "<class 'pandas.core.frame.DataFrame'>\n",
            "RangeIndex: 5572 entries, 0 to 5571\n",
            "Data columns (total 5 columns):\n",
            " #   Column      Non-Null Count  Dtype \n",
            "---  ------      --------------  ----- \n",
            " 0   v1          5572 non-null   object\n",
            " 1   v2          5572 non-null   object\n",
            " 2   Unnamed: 2  50 non-null     object\n",
            " 3   Unnamed: 3  12 non-null     object\n",
            " 4   Unnamed: 4  6 non-null      object\n",
            "dtypes: object(5)\n",
            "memory usage: 217.8+ KB\n"
          ]
        }
      ],
      "source": [
        "df.info()"
      ]
    },
    {
      "cell_type": "code",
      "execution_count": null,
      "metadata": {
        "colab": {
          "base_uri": "https://localhost:8080/"
        },
        "id": "82x8vAPYd0zb",
        "outputId": "290f5f90-be19-4c2c-afe2-ed31f43c37ef"
      },
      "outputs": [
        {
          "data": {
            "text/plain": [
              "(5572, 5)"
            ]
          },
          "execution_count": 124,
          "metadata": {},
          "output_type": "execute_result"
        }
      ],
      "source": [
        "df.shape"
      ]
    },
    {
      "cell_type": "code",
      "execution_count": null,
      "metadata": {
        "colab": {
          "base_uri": "https://localhost:8080/"
        },
        "id": "CHNy0zU6d4aU",
        "outputId": "245dc131-de66-4687-f471-4ef4d8982c5e"
      },
      "outputs": [
        {
          "data": {
            "text/plain": [
              "v1            object\n",
              "v2            object\n",
              "Unnamed: 2    object\n",
              "Unnamed: 3    object\n",
              "Unnamed: 4    object\n",
              "dtype: object"
            ]
          },
          "execution_count": 125,
          "metadata": {},
          "output_type": "execute_result"
        }
      ],
      "source": [
        "df.dtypes"
      ]
    },
    {
      "cell_type": "code",
      "execution_count": null,
      "metadata": {
        "colab": {
          "base_uri": "https://localhost:8080/"
        },
        "id": "CB1t3Q2Cd8F7",
        "outputId": "2f212f41-62d9-4eb2-f76b-41db3a149397"
      },
      "outputs": [
        {
          "data": {
            "text/plain": [
              "Index(['v1', 'v2', 'Unnamed: 2', 'Unnamed: 3', 'Unnamed: 4'], dtype='object')"
            ]
          },
          "execution_count": 126,
          "metadata": {},
          "output_type": "execute_result"
        }
      ],
      "source": [
        "df.columns"
      ]
    },
    {
      "cell_type": "code",
      "execution_count": null,
      "metadata": {
        "colab": {
          "base_uri": "https://localhost:8080/"
        },
        "id": "FEZ4U0hUd-R8",
        "outputId": "d6d69433-7615-43e7-d57b-152a9d0b5396"
      },
      "outputs": [
        {
          "data": {
            "text/plain": [
              "v1               0\n",
              "v2               0\n",
              "Unnamed: 2    5522\n",
              "Unnamed: 3    5560\n",
              "Unnamed: 4    5566\n",
              "dtype: int64"
            ]
          },
          "execution_count": 127,
          "metadata": {},
          "output_type": "execute_result"
        }
      ],
      "source": [
        "df.isnull().sum()"
      ]
    },
    {
      "cell_type": "code",
      "execution_count": null,
      "metadata": {
        "colab": {
          "base_uri": "https://localhost:8080/",
          "height": 423
        },
        "id": "hhj8TkOEeC_D",
        "outputId": "b6effb20-5af8-4750-9c14-c42e25843edd"
      },
      "outputs": [
        {
          "data": {
            "text/html": [
              "\n",
              "  <div id=\"df-f70ed596-5d4f-4a64-8998-1b3f9e34bd4e\">\n",
              "    <div class=\"colab-df-container\">\n",
              "      <div>\n",
              "<style scoped>\n",
              "    .dataframe tbody tr th:only-of-type {\n",
              "        vertical-align: middle;\n",
              "    }\n",
              "\n",
              "    .dataframe tbody tr th {\n",
              "        vertical-align: top;\n",
              "    }\n",
              "\n",
              "    .dataframe thead th {\n",
              "        text-align: right;\n",
              "    }\n",
              "</style>\n",
              "<table border=\"1\" class=\"dataframe\">\n",
              "  <thead>\n",
              "    <tr style=\"text-align: right;\">\n",
              "      <th></th>\n",
              "      <th>v1</th>\n",
              "      <th>v2</th>\n",
              "    </tr>\n",
              "  </thead>\n",
              "  <tbody>\n",
              "    <tr>\n",
              "      <th>0</th>\n",
              "      <td>ham</td>\n",
              "      <td>Go until jurong point, crazy.. Available only ...</td>\n",
              "    </tr>\n",
              "    <tr>\n",
              "      <th>1</th>\n",
              "      <td>ham</td>\n",
              "      <td>Ok lar... Joking wif u oni...</td>\n",
              "    </tr>\n",
              "    <tr>\n",
              "      <th>2</th>\n",
              "      <td>spam</td>\n",
              "      <td>Free entry in 2 a wkly comp to win FA Cup fina...</td>\n",
              "    </tr>\n",
              "    <tr>\n",
              "      <th>3</th>\n",
              "      <td>ham</td>\n",
              "      <td>U dun say so early hor... U c already then say...</td>\n",
              "    </tr>\n",
              "    <tr>\n",
              "      <th>4</th>\n",
              "      <td>ham</td>\n",
              "      <td>Nah I don't think he goes to usf, he lives aro...</td>\n",
              "    </tr>\n",
              "    <tr>\n",
              "      <th>...</th>\n",
              "      <td>...</td>\n",
              "      <td>...</td>\n",
              "    </tr>\n",
              "    <tr>\n",
              "      <th>5567</th>\n",
              "      <td>spam</td>\n",
              "      <td>This is the 2nd time we have tried 2 contact u...</td>\n",
              "    </tr>\n",
              "    <tr>\n",
              "      <th>5568</th>\n",
              "      <td>ham</td>\n",
              "      <td>Will Ì_ b going to esplanade fr home?</td>\n",
              "    </tr>\n",
              "    <tr>\n",
              "      <th>5569</th>\n",
              "      <td>ham</td>\n",
              "      <td>Pity, * was in mood for that. So...any other s...</td>\n",
              "    </tr>\n",
              "    <tr>\n",
              "      <th>5570</th>\n",
              "      <td>ham</td>\n",
              "      <td>The guy did some bitching but I acted like i'd...</td>\n",
              "    </tr>\n",
              "    <tr>\n",
              "      <th>5571</th>\n",
              "      <td>ham</td>\n",
              "      <td>Rofl. Its true to its name</td>\n",
              "    </tr>\n",
              "  </tbody>\n",
              "</table>\n",
              "<p>5572 rows × 2 columns</p>\n",
              "</div>\n",
              "      <button class=\"colab-df-convert\" onclick=\"convertToInteractive('df-f70ed596-5d4f-4a64-8998-1b3f9e34bd4e')\"\n",
              "              title=\"Convert this dataframe to an interactive table.\"\n",
              "              style=\"display:none;\">\n",
              "        \n",
              "  <svg xmlns=\"http://www.w3.org/2000/svg\" height=\"24px\"viewBox=\"0 0 24 24\"\n",
              "       width=\"24px\">\n",
              "    <path d=\"M0 0h24v24H0V0z\" fill=\"none\"/>\n",
              "    <path d=\"M18.56 5.44l.94 2.06.94-2.06 2.06-.94-2.06-.94-.94-2.06-.94 2.06-2.06.94zm-11 1L8.5 8.5l.94-2.06 2.06-.94-2.06-.94L8.5 2.5l-.94 2.06-2.06.94zm10 10l.94 2.06.94-2.06 2.06-.94-2.06-.94-.94-2.06-.94 2.06-2.06.94z\"/><path d=\"M17.41 7.96l-1.37-1.37c-.4-.4-.92-.59-1.43-.59-.52 0-1.04.2-1.43.59L10.3 9.45l-7.72 7.72c-.78.78-.78 2.05 0 2.83L4 21.41c.39.39.9.59 1.41.59.51 0 1.02-.2 1.41-.59l7.78-7.78 2.81-2.81c.8-.78.8-2.07 0-2.86zM5.41 20L4 18.59l7.72-7.72 1.47 1.35L5.41 20z\"/>\n",
              "  </svg>\n",
              "      </button>\n",
              "      \n",
              "  <style>\n",
              "    .colab-df-container {\n",
              "      display:flex;\n",
              "      flex-wrap:wrap;\n",
              "      gap: 12px;\n",
              "    }\n",
              "\n",
              "    .colab-df-convert {\n",
              "      background-color: #E8F0FE;\n",
              "      border: none;\n",
              "      border-radius: 50%;\n",
              "      cursor: pointer;\n",
              "      display: none;\n",
              "      fill: #1967D2;\n",
              "      height: 32px;\n",
              "      padding: 0 0 0 0;\n",
              "      width: 32px;\n",
              "    }\n",
              "\n",
              "    .colab-df-convert:hover {\n",
              "      background-color: #E2EBFA;\n",
              "      box-shadow: 0px 1px 2px rgba(60, 64, 67, 0.3), 0px 1px 3px 1px rgba(60, 64, 67, 0.15);\n",
              "      fill: #174EA6;\n",
              "    }\n",
              "\n",
              "    [theme=dark] .colab-df-convert {\n",
              "      background-color: #3B4455;\n",
              "      fill: #D2E3FC;\n",
              "    }\n",
              "\n",
              "    [theme=dark] .colab-df-convert:hover {\n",
              "      background-color: #434B5C;\n",
              "      box-shadow: 0px 1px 3px 1px rgba(0, 0, 0, 0.15);\n",
              "      filter: drop-shadow(0px 1px 2px rgba(0, 0, 0, 0.3));\n",
              "      fill: #FFFFFF;\n",
              "    }\n",
              "  </style>\n",
              "\n",
              "      <script>\n",
              "        const buttonEl =\n",
              "          document.querySelector('#df-f70ed596-5d4f-4a64-8998-1b3f9e34bd4e button.colab-df-convert');\n",
              "        buttonEl.style.display =\n",
              "          google.colab.kernel.accessAllowed ? 'block' : 'none';\n",
              "\n",
              "        async function convertToInteractive(key) {\n",
              "          const element = document.querySelector('#df-f70ed596-5d4f-4a64-8998-1b3f9e34bd4e');\n",
              "          const dataTable =\n",
              "            await google.colab.kernel.invokeFunction('convertToInteractive',\n",
              "                                                     [key], {});\n",
              "          if (!dataTable) return;\n",
              "\n",
              "          const docLinkHtml = 'Like what you see? Visit the ' +\n",
              "            '<a target=\"_blank\" href=https://colab.research.google.com/notebooks/data_table.ipynb>data table notebook</a>'\n",
              "            + ' to learn more about interactive tables.';\n",
              "          element.innerHTML = '';\n",
              "          dataTable['output_type'] = 'display_data';\n",
              "          await google.colab.output.renderOutput(dataTable, element);\n",
              "          const docLink = document.createElement('div');\n",
              "          docLink.innerHTML = docLinkHtml;\n",
              "          element.appendChild(docLink);\n",
              "        }\n",
              "      </script>\n",
              "    </div>\n",
              "  </div>\n",
              "  "
            ],
            "text/plain": [
              "        v1                                                 v2\n",
              "0      ham  Go until jurong point, crazy.. Available only ...\n",
              "1      ham                      Ok lar... Joking wif u oni...\n",
              "2     spam  Free entry in 2 a wkly comp to win FA Cup fina...\n",
              "3      ham  U dun say so early hor... U c already then say...\n",
              "4      ham  Nah I don't think he goes to usf, he lives aro...\n",
              "...    ...                                                ...\n",
              "5567  spam  This is the 2nd time we have tried 2 contact u...\n",
              "5568   ham              Will Ì_ b going to esplanade fr home?\n",
              "5569   ham  Pity, * was in mood for that. So...any other s...\n",
              "5570   ham  The guy did some bitching but I acted like i'd...\n",
              "5571   ham                         Rofl. Its true to its name\n",
              "\n",
              "[5572 rows x 2 columns]"
            ]
          },
          "execution_count": 128,
          "metadata": {},
          "output_type": "execute_result"
        }
      ],
      "source": [
        "df=df.drop(['Unnamed: 2','Unnamed: 3','Unnamed: 4'],axis=1)\n",
        "df"
      ]
    },
    {
      "cell_type": "code",
      "execution_count": null,
      "metadata": {
        "colab": {
          "base_uri": "https://localhost:8080/",
          "height": 423
        },
        "id": "FSeWRGISeJhr",
        "outputId": "ccd03e8d-8377-42b0-f7cd-b3e0c88a6e0b"
      },
      "outputs": [
        {
          "data": {
            "text/html": [
              "\n",
              "  <div id=\"df-9a68378c-14bc-4edf-b40f-38461e06d64d\">\n",
              "    <div class=\"colab-df-container\">\n",
              "      <div>\n",
              "<style scoped>\n",
              "    .dataframe tbody tr th:only-of-type {\n",
              "        vertical-align: middle;\n",
              "    }\n",
              "\n",
              "    .dataframe tbody tr th {\n",
              "        vertical-align: top;\n",
              "    }\n",
              "\n",
              "    .dataframe thead th {\n",
              "        text-align: right;\n",
              "    }\n",
              "</style>\n",
              "<table border=\"1\" class=\"dataframe\">\n",
              "  <thead>\n",
              "    <tr style=\"text-align: right;\">\n",
              "      <th></th>\n",
              "      <th>Class</th>\n",
              "      <th>SMS</th>\n",
              "    </tr>\n",
              "  </thead>\n",
              "  <tbody>\n",
              "    <tr>\n",
              "      <th>0</th>\n",
              "      <td>ham</td>\n",
              "      <td>Go until jurong point, crazy.. Available only ...</td>\n",
              "    </tr>\n",
              "    <tr>\n",
              "      <th>1</th>\n",
              "      <td>ham</td>\n",
              "      <td>Ok lar... Joking wif u oni...</td>\n",
              "    </tr>\n",
              "    <tr>\n",
              "      <th>2</th>\n",
              "      <td>spam</td>\n",
              "      <td>Free entry in 2 a wkly comp to win FA Cup fina...</td>\n",
              "    </tr>\n",
              "    <tr>\n",
              "      <th>3</th>\n",
              "      <td>ham</td>\n",
              "      <td>U dun say so early hor... U c already then say...</td>\n",
              "    </tr>\n",
              "    <tr>\n",
              "      <th>4</th>\n",
              "      <td>ham</td>\n",
              "      <td>Nah I don't think he goes to usf, he lives aro...</td>\n",
              "    </tr>\n",
              "    <tr>\n",
              "      <th>...</th>\n",
              "      <td>...</td>\n",
              "      <td>...</td>\n",
              "    </tr>\n",
              "    <tr>\n",
              "      <th>5567</th>\n",
              "      <td>spam</td>\n",
              "      <td>This is the 2nd time we have tried 2 contact u...</td>\n",
              "    </tr>\n",
              "    <tr>\n",
              "      <th>5568</th>\n",
              "      <td>ham</td>\n",
              "      <td>Will Ì_ b going to esplanade fr home?</td>\n",
              "    </tr>\n",
              "    <tr>\n",
              "      <th>5569</th>\n",
              "      <td>ham</td>\n",
              "      <td>Pity, * was in mood for that. So...any other s...</td>\n",
              "    </tr>\n",
              "    <tr>\n",
              "      <th>5570</th>\n",
              "      <td>ham</td>\n",
              "      <td>The guy did some bitching but I acted like i'd...</td>\n",
              "    </tr>\n",
              "    <tr>\n",
              "      <th>5571</th>\n",
              "      <td>ham</td>\n",
              "      <td>Rofl. Its true to its name</td>\n",
              "    </tr>\n",
              "  </tbody>\n",
              "</table>\n",
              "<p>5572 rows × 2 columns</p>\n",
              "</div>\n",
              "      <button class=\"colab-df-convert\" onclick=\"convertToInteractive('df-9a68378c-14bc-4edf-b40f-38461e06d64d')\"\n",
              "              title=\"Convert this dataframe to an interactive table.\"\n",
              "              style=\"display:none;\">\n",
              "        \n",
              "  <svg xmlns=\"http://www.w3.org/2000/svg\" height=\"24px\"viewBox=\"0 0 24 24\"\n",
              "       width=\"24px\">\n",
              "    <path d=\"M0 0h24v24H0V0z\" fill=\"none\"/>\n",
              "    <path d=\"M18.56 5.44l.94 2.06.94-2.06 2.06-.94-2.06-.94-.94-2.06-.94 2.06-2.06.94zm-11 1L8.5 8.5l.94-2.06 2.06-.94-2.06-.94L8.5 2.5l-.94 2.06-2.06.94zm10 10l.94 2.06.94-2.06 2.06-.94-2.06-.94-.94-2.06-.94 2.06-2.06.94z\"/><path d=\"M17.41 7.96l-1.37-1.37c-.4-.4-.92-.59-1.43-.59-.52 0-1.04.2-1.43.59L10.3 9.45l-7.72 7.72c-.78.78-.78 2.05 0 2.83L4 21.41c.39.39.9.59 1.41.59.51 0 1.02-.2 1.41-.59l7.78-7.78 2.81-2.81c.8-.78.8-2.07 0-2.86zM5.41 20L4 18.59l7.72-7.72 1.47 1.35L5.41 20z\"/>\n",
              "  </svg>\n",
              "      </button>\n",
              "      \n",
              "  <style>\n",
              "    .colab-df-container {\n",
              "      display:flex;\n",
              "      flex-wrap:wrap;\n",
              "      gap: 12px;\n",
              "    }\n",
              "\n",
              "    .colab-df-convert {\n",
              "      background-color: #E8F0FE;\n",
              "      border: none;\n",
              "      border-radius: 50%;\n",
              "      cursor: pointer;\n",
              "      display: none;\n",
              "      fill: #1967D2;\n",
              "      height: 32px;\n",
              "      padding: 0 0 0 0;\n",
              "      width: 32px;\n",
              "    }\n",
              "\n",
              "    .colab-df-convert:hover {\n",
              "      background-color: #E2EBFA;\n",
              "      box-shadow: 0px 1px 2px rgba(60, 64, 67, 0.3), 0px 1px 3px 1px rgba(60, 64, 67, 0.15);\n",
              "      fill: #174EA6;\n",
              "    }\n",
              "\n",
              "    [theme=dark] .colab-df-convert {\n",
              "      background-color: #3B4455;\n",
              "      fill: #D2E3FC;\n",
              "    }\n",
              "\n",
              "    [theme=dark] .colab-df-convert:hover {\n",
              "      background-color: #434B5C;\n",
              "      box-shadow: 0px 1px 3px 1px rgba(0, 0, 0, 0.15);\n",
              "      filter: drop-shadow(0px 1px 2px rgba(0, 0, 0, 0.3));\n",
              "      fill: #FFFFFF;\n",
              "    }\n",
              "  </style>\n",
              "\n",
              "      <script>\n",
              "        const buttonEl =\n",
              "          document.querySelector('#df-9a68378c-14bc-4edf-b40f-38461e06d64d button.colab-df-convert');\n",
              "        buttonEl.style.display =\n",
              "          google.colab.kernel.accessAllowed ? 'block' : 'none';\n",
              "\n",
              "        async function convertToInteractive(key) {\n",
              "          const element = document.querySelector('#df-9a68378c-14bc-4edf-b40f-38461e06d64d');\n",
              "          const dataTable =\n",
              "            await google.colab.kernel.invokeFunction('convertToInteractive',\n",
              "                                                     [key], {});\n",
              "          if (!dataTable) return;\n",
              "\n",
              "          const docLinkHtml = 'Like what you see? Visit the ' +\n",
              "            '<a target=\"_blank\" href=https://colab.research.google.com/notebooks/data_table.ipynb>data table notebook</a>'\n",
              "            + ' to learn more about interactive tables.';\n",
              "          element.innerHTML = '';\n",
              "          dataTable['output_type'] = 'display_data';\n",
              "          await google.colab.output.renderOutput(dataTable, element);\n",
              "          const docLink = document.createElement('div');\n",
              "          docLink.innerHTML = docLinkHtml;\n",
              "          element.appendChild(docLink);\n",
              "        }\n",
              "      </script>\n",
              "    </div>\n",
              "  </div>\n",
              "  "
            ],
            "text/plain": [
              "     Class                                                SMS\n",
              "0      ham  Go until jurong point, crazy.. Available only ...\n",
              "1      ham                      Ok lar... Joking wif u oni...\n",
              "2     spam  Free entry in 2 a wkly comp to win FA Cup fina...\n",
              "3      ham  U dun say so early hor... U c already then say...\n",
              "4      ham  Nah I don't think he goes to usf, he lives aro...\n",
              "...    ...                                                ...\n",
              "5567  spam  This is the 2nd time we have tried 2 contact u...\n",
              "5568   ham              Will Ì_ b going to esplanade fr home?\n",
              "5569   ham  Pity, * was in mood for that. So...any other s...\n",
              "5570   ham  The guy did some bitching but I acted like i'd...\n",
              "5571   ham                         Rofl. Its true to its name\n",
              "\n",
              "[5572 rows x 2 columns]"
            ]
          },
          "execution_count": 129,
          "metadata": {},
          "output_type": "execute_result"
        }
      ],
      "source": [
        "df=df.rename({'v1':'Class','v2':'SMS'},axis=1)\n",
        "df"
      ]
    },
    {
      "cell_type": "code",
      "execution_count": null,
      "metadata": {
        "colab": {
          "base_uri": "https://localhost:8080/",
          "height": 559
        },
        "id": "YmubvFp5eKzb",
        "outputId": "e44e3682-204e-4015-bf9b-1c5e6d5147ce"
      },
      "outputs": [
        {
          "data": {
            "text/plain": [
              "<Axes: xlabel='Class', ylabel='count'>"
            ]
          },
          "execution_count": 130,
          "metadata": {},
          "output_type": "execute_result"
        },
        {
          "data": {
            "image/png": "[encoded data removed]",
            "text/plain": [
              "<Figure size 600x600 with 1 Axes>"
            ]
          },
          "metadata": {},
          "output_type": "display_data"
        }
      ],
      "source": [
        "plt.figure(figsize=(6,6))\n",
        "x= df.Class.value_counts()\n",
        "sns.countplot(x= \"Class\",data= df)"
      ]
    },
    {
      "cell_type": "code",
      "execution_count": null,
      "metadata": {
        "colab": {
          "base_uri": "https://localhost:8080/"
        },
        "id": "mIoVTCY1etcb",
        "outputId": "ea5178c8-4f7f-4a1d-a1e0-34858149b82b"
      },
      "outputs": [
        {
          "name": "stderr",
          "output_type": "stream",
          "text": [
            "[nltk_data] Downloading package stopwords to /root/nltk_data...\n",
            "[nltk_data]   Package stopwords is already up-to-date!\n"
          ]
        }
      ],
      "source": [
        "import nltk\n",
        "import re\n",
        "nltk.download('stopwords')\n",
        "from nltk.corpus import stopwords\n",
        "eng = stopwords.words('english')"
      ]
    },
    {
      "attachments": {},
      "cell_type": "markdown",
      "metadata": {
        "id": "L_G1Zz3leEM-"
      },
      "source": [
        "# *Core logic for cleaning Data*"
      ]
    },
    {
      "cell_type": "code",
      "execution_count": null,
      "metadata": {
        "id": "F1PAl7ySe617"
      },
      "outputs": [],
      "source": [
        "def fix_text(text):\n",
        "    text = text.lower()\n",
        "    text = re.sub(r'[^0-9a-zA-Z]', ' ', text)\n",
        "    text = re.sub(r'\\s+', ' ', text)\n",
        "    text = \" \".join(word for word in text.split() if word not in eng)\n",
        "    return text"
      ]
    },
    {
      "cell_type": "code",
      "execution_count": null,
      "metadata": {
        "colab": {
          "base_uri": "https://localhost:8080/",
          "height": 206
        },
        "id": "ET-KOdczfbgL",
        "outputId": "576dd232-d333-4f9d-af84-ab9dc7cc7099"
      },
      "outputs": [
        {
          "data": {
            "text/html": [
              "\n",
              "  <div id=\"df-5c3fbd3b-875f-4c86-9e1f-b4c5e8807098\">\n",
              "    <div class=\"colab-df-container\">\n",
              "      <div>\n",
              "<style scoped>\n",
              "    .dataframe tbody tr th:only-of-type {\n",
              "        vertical-align: middle;\n",
              "    }\n",
              "\n",
              "    .dataframe tbody tr th {\n",
              "        vertical-align: top;\n",
              "    }\n",
              "\n",
              "    .dataframe thead th {\n",
              "        text-align: right;\n",
              "    }\n",
              "</style>\n",
              "<table border=\"1\" class=\"dataframe\">\n",
              "  <thead>\n",
              "    <tr style=\"text-align: right;\">\n",
              "      <th></th>\n",
              "      <th>Class</th>\n",
              "      <th>SMS</th>\n",
              "      <th>Cleaned_text</th>\n",
              "    </tr>\n",
              "  </thead>\n",
              "  <tbody>\n",
              "    <tr>\n",
              "      <th>0</th>\n",
              "      <td>ham</td>\n",
              "      <td>Go until jurong point, crazy.. Available only ...</td>\n",
              "      <td>go jurong point crazy available bugis n great ...</td>\n",
              "    </tr>\n",
              "    <tr>\n",
              "      <th>1</th>\n",
              "      <td>ham</td>\n",
              "      <td>Ok lar... Joking wif u oni...</td>\n",
              "      <td>ok lar joking wif u oni</td>\n",
              "    </tr>\n",
              "    <tr>\n",
              "      <th>2</th>\n",
              "      <td>spam</td>\n",
              "      <td>Free entry in 2 a wkly comp to win FA Cup fina...</td>\n",
              "      <td>free entry 2 wkly comp win fa cup final tkts 2...</td>\n",
              "    </tr>\n",
              "    <tr>\n",
              "      <th>3</th>\n",
              "      <td>ham</td>\n",
              "      <td>U dun say so early hor... U c already then say...</td>\n",
              "      <td>u dun say early hor u c already say</td>\n",
              "    </tr>\n",
              "    <tr>\n",
              "      <th>4</th>\n",
              "      <td>ham</td>\n",
              "      <td>Nah I don't think he goes to usf, he lives aro...</td>\n",
              "      <td>nah think goes usf lives around though</td>\n",
              "    </tr>\n",
              "  </tbody>\n",
              "</table>\n",
              "</div>\n",
              "      <button class=\"colab-df-convert\" onclick=\"convertToInteractive('df-5c3fbd3b-875f-4c86-9e1f-b4c5e8807098')\"\n",
              "              title=\"Convert this dataframe to an interactive table.\"\n",
              "              style=\"display:none;\">\n",
              "        \n",
              "  <svg xmlns=\"http://www.w3.org/2000/svg\" height=\"24px\"viewBox=\"0 0 24 24\"\n",
              "       width=\"24px\">\n",
              "    <path d=\"M0 0h24v24H0V0z\" fill=\"none\"/>\n",
              "    <path d=\"M18.56 5.44l.94 2.06.94-2.06 2.06-.94-2.06-.94-.94-2.06-.94 2.06-2.06.94zm-11 1L8.5 8.5l.94-2.06 2.06-.94-2.06-.94L8.5 2.5l-.94 2.06-2.06.94zm10 10l.94 2.06.94-2.06 2.06-.94-2.06-.94-.94-2.06-.94 2.06-2.06.94z\"/><path d=\"M17.41 7.96l-1.37-1.37c-.4-.4-.92-.59-1.43-.59-.52 0-1.04.2-1.43.59L10.3 9.45l-7.72 7.72c-.78.78-.78 2.05 0 2.83L4 21.41c.39.39.9.59 1.41.59.51 0 1.02-.2 1.41-.59l7.78-7.78 2.81-2.81c.8-.78.8-2.07 0-2.86zM5.41 20L4 18.59l7.72-7.72 1.47 1.35L5.41 20z\"/>\n",
              "  </svg>\n",
              "      </button>\n",
              "      \n",
              "  <style>\n",
              "    .colab-df-container {\n",
              "      display:flex;\n",
              "      flex-wrap:wrap;\n",
              "      gap: 12px;\n",
              "    }\n",
              "\n",
              "    .colab-df-convert {\n",
              "      background-color: #E8F0FE;\n",
              "      border: none;\n",
              "      border-radius: 50%;\n",
              "      cursor: pointer;\n",
              "      display: none;\n",
              "      fill: #1967D2;\n",
              "      height: 32px;\n",
              "      padding: 0 0 0 0;\n",
              "      width: 32px;\n",
              "    }\n",
              "\n",
              "    .colab-df-convert:hover {\n",
              "      background-color: #E2EBFA;\n",
              "      box-shadow: 0px 1px 2px rgba(60, 64, 67, 0.3), 0px 1px 3px 1px rgba(60, 64, 67, 0.15);\n",
              "      fill: #174EA6;\n",
              "    }\n",
              "\n",
              "    [theme=dark] .colab-df-convert {\n",
              "      background-color: #3B4455;\n",
              "      fill: #D2E3FC;\n",
              "    }\n",
              "\n",
              "    [theme=dark] .colab-df-convert:hover {\n",
              "      background-color: #434B5C;\n",
              "      box-shadow: 0px 1px 3px 1px rgba(0, 0, 0, 0.15);\n",
              "      filter: drop-shadow(0px 1px 2px rgba(0, 0, 0, 0.3));\n",
              "      fill: #FFFFFF;\n",
              "    }\n",
              "  </style>\n",
              "\n",
              "      <script>\n",
              "        const buttonEl =\n",
              "          document.querySelector('#df-5c3fbd3b-875f-4c86-9e1f-b4c5e8807098 button.colab-df-convert');\n",
              "        buttonEl.style.display =\n",
              "          google.colab.kernel.accessAllowed ? 'block' : 'none';\n",
              "\n",
              "        async function convertToInteractive(key) {\n",
              "          const element = document.querySelector('#df-5c3fbd3b-875f-4c86-9e1f-b4c5e8807098');\n",
              "          const dataTable =\n",
              "            await google.colab.kernel.invokeFunction('convertToInteractive',\n",
              "                                                     [key], {});\n",
              "          if (!dataTable) return;\n",
              "\n",
              "          const docLinkHtml = 'Like what you see? Visit the ' +\n",
              "            '<a target=\"_blank\" href=https://colab.research.google.com/notebooks/data_table.ipynb>data table notebook</a>'\n",
              "            + ' to learn more about interactive tables.';\n",
              "          element.innerHTML = '';\n",
              "          dataTable['output_type'] = 'display_data';\n",
              "          await google.colab.output.renderOutput(dataTable, element);\n",
              "          const docLink = document.createElement('div');\n",
              "          docLink.innerHTML = docLinkHtml;\n",
              "          element.appendChild(docLink);\n",
              "        }\n",
              "      </script>\n",
              "    </div>\n",
              "  </div>\n",
              "  "
            ],
            "text/plain": [
              "  Class                                                SMS  \\\n",
              "0   ham  Go until jurong point, crazy.. Available only ...   \n",
              "1   ham                      Ok lar... Joking wif u oni...   \n",
              "2  spam  Free entry in 2 a wkly comp to win FA Cup fina...   \n",
              "3   ham  U dun say so early hor... U c already then say...   \n",
              "4   ham  Nah I don't think he goes to usf, he lives aro...   \n",
              "\n",
              "                                        Cleaned_text  \n",
              "0  go jurong point crazy available bugis n great ...  \n",
              "1                            ok lar joking wif u oni  \n",
              "2  free entry 2 wkly comp win fa cup final tkts 2...  \n",
              "3                u dun say early hor u c already say  \n",
              "4             nah think goes usf lives around though  "
            ]
          },
          "execution_count": 133,
          "metadata": {},
          "output_type": "execute_result"
        }
      ],
      "source": [
        "df['Cleaned_text'] = df['SMS'].apply(fix_text)\n",
        "df.head()"
      ]
    },
    {
      "cell_type": "code",
      "execution_count": null,
      "metadata": {
        "id": "Kl4qh2sefmLs"
      },
      "outputs": [],
      "source": [
        "#df=df.drop(['SMS'],axis=1)\n",
        "#df"
      ]
    },
    {
      "cell_type": "code",
      "execution_count": null,
      "metadata": {
        "colab": {
          "base_uri": "https://localhost:8080/"
        },
        "id": "vNpoju_CKWxU",
        "outputId": "2f47f877-595d-47a7-d7a9-a43b858500b0"
      },
      "outputs": [
        {
          "data": {
            "text/plain": [
              "403"
            ]
          },
          "execution_count": 135,
          "metadata": {},
          "output_type": "execute_result"
        }
      ],
      "source": [
        "df.duplicated().sum()"
      ]
    },
    {
      "cell_type": "code",
      "execution_count": null,
      "metadata": {
        "id": "NvU4zfO_KYQd"
      },
      "outputs": [],
      "source": [
        "df=df.drop_duplicates(keep='first')"
      ]
    },
    {
      "cell_type": "code",
      "execution_count": null,
      "metadata": {
        "colab": {
          "base_uri": "https://localhost:8080/"
        },
        "id": "hJrZUd61KbdP",
        "outputId": "4e18a906-164f-4e31-fc20-0df9b2e6d812"
      },
      "outputs": [
        {
          "data": {
            "text/plain": [
              "(5169, 3)"
            ]
          },
          "execution_count": 137,
          "metadata": {},
          "output_type": "execute_result"
        }
      ],
      "source": [
        "df.shape\n"
      ]
    },
    {
      "cell_type": "code",
      "execution_count": null,
      "metadata": {
        "colab": {
          "base_uri": "https://localhost:8080/",
          "height": 527
        },
        "id": "4SXkkKs-Ce3_",
        "outputId": "0aac663b-6d36-4c35-c7d5-7d77d6ef25d2"
      },
      "outputs": [
        {
          "name": "stderr",
          "output_type": "stream",
          "text": [
            "<ipython-input-138-433f56baa6e0>:3: SettingWithCopyWarning: \n",
            "A value is trying to be set on a copy of a slice from a DataFrame.\n",
            "Try using .loc[row_indexer,col_indexer] = value instead\n",
            "\n",
            "See the caveats in the documentation: https://pandas.pydata.org/pandas-docs/stable/user_guide/indexing.html#returning-a-view-versus-a-copy\n",
            "  df['Class']=encoder.fit_transform(df['Class'])\n"
          ]
        },
        {
          "data": {
            "text/html": [
              "\n",
              "  <div id=\"df-66aa229b-e9aa-4d6a-92f0-a2ad743a1396\">\n",
              "    <div class=\"colab-df-container\">\n",
              "      <div>\n",
              "<style scoped>\n",
              "    .dataframe tbody tr th:only-of-type {\n",
              "        vertical-align: middle;\n",
              "    }\n",
              "\n",
              "    .dataframe tbody tr th {\n",
              "        vertical-align: top;\n",
              "    }\n",
              "\n",
              "    .dataframe thead th {\n",
              "        text-align: right;\n",
              "    }\n",
              "</style>\n",
              "<table border=\"1\" class=\"dataframe\">\n",
              "  <thead>\n",
              "    <tr style=\"text-align: right;\">\n",
              "      <th></th>\n",
              "      <th>Class</th>\n",
              "      <th>SMS</th>\n",
              "      <th>Cleaned_text</th>\n",
              "    </tr>\n",
              "  </thead>\n",
              "  <tbody>\n",
              "    <tr>\n",
              "      <th>0</th>\n",
              "      <td>0</td>\n",
              "      <td>Go until jurong point, crazy.. Available only ...</td>\n",
              "      <td>go jurong point crazy available bugis n great ...</td>\n",
              "    </tr>\n",
              "    <tr>\n",
              "      <th>1</th>\n",
              "      <td>0</td>\n",
              "      <td>Ok lar... Joking wif u oni...</td>\n",
              "      <td>ok lar joking wif u oni</td>\n",
              "    </tr>\n",
              "    <tr>\n",
              "      <th>2</th>\n",
              "      <td>1</td>\n",
              "      <td>Free entry in 2 a wkly comp to win FA Cup fina...</td>\n",
              "      <td>free entry 2 wkly comp win fa cup final tkts 2...</td>\n",
              "    </tr>\n",
              "    <tr>\n",
              "      <th>3</th>\n",
              "      <td>0</td>\n",
              "      <td>U dun say so early hor... U c already then say...</td>\n",
              "      <td>u dun say early hor u c already say</td>\n",
              "    </tr>\n",
              "    <tr>\n",
              "      <th>4</th>\n",
              "      <td>0</td>\n",
              "      <td>Nah I don't think he goes to usf, he lives aro...</td>\n",
              "      <td>nah think goes usf lives around though</td>\n",
              "    </tr>\n",
              "    <tr>\n",
              "      <th>...</th>\n",
              "      <td>...</td>\n",
              "      <td>...</td>\n",
              "      <td>...</td>\n",
              "    </tr>\n",
              "    <tr>\n",
              "      <th>5567</th>\n",
              "      <td>1</td>\n",
              "      <td>This is the 2nd time we have tried 2 contact u...</td>\n",
              "      <td>2nd time tried 2 contact u u 750 pound prize 2...</td>\n",
              "    </tr>\n",
              "    <tr>\n",
              "      <th>5568</th>\n",
              "      <td>0</td>\n",
              "      <td>Will Ì_ b going to esplanade fr home?</td>\n",
              "      <td>b going esplanade fr home</td>\n",
              "    </tr>\n",
              "    <tr>\n",
              "      <th>5569</th>\n",
              "      <td>0</td>\n",
              "      <td>Pity, * was in mood for that. So...any other s...</td>\n",
              "      <td>pity mood suggestions</td>\n",
              "    </tr>\n",
              "    <tr>\n",
              "      <th>5570</th>\n",
              "      <td>0</td>\n",
              "      <td>The guy did some bitching but I acted like i'd...</td>\n",
              "      <td>guy bitching acted like interested buying some...</td>\n",
              "    </tr>\n",
              "    <tr>\n",
              "      <th>5571</th>\n",
              "      <td>0</td>\n",
              "      <td>Rofl. Its true to its name</td>\n",
              "      <td>rofl true name</td>\n",
              "    </tr>\n",
              "  </tbody>\n",
              "</table>\n",
              "<p>5169 rows × 3 columns</p>\n",
              "</div>\n",
              "      <button class=\"colab-df-convert\" onclick=\"convertToInteractive('df-66aa229b-e9aa-4d6a-92f0-a2ad743a1396')\"\n",
              "              title=\"Convert this dataframe to an interactive table.\"\n",
              "              style=\"display:none;\">\n",
              "        \n",
              "  <svg xmlns=\"http://www.w3.org/2000/svg\" height=\"24px\"viewBox=\"0 0 24 24\"\n",
              "       width=\"24px\">\n",
              "    <path d=\"M0 0h24v24H0V0z\" fill=\"none\"/>\n",
              "    <path d=\"M18.56 5.44l.94 2.06.94-2.06 2.06-.94-2.06-.94-.94-2.06-.94 2.06-2.06.94zm-11 1L8.5 8.5l.94-2.06 2.06-.94-2.06-.94L8.5 2.5l-.94 2.06-2.06.94zm10 10l.94 2.06.94-2.06 2.06-.94-2.06-.94-.94-2.06-.94 2.06-2.06.94z\"/><path d=\"M17.41 7.96l-1.37-1.37c-.4-.4-.92-.59-1.43-.59-.52 0-1.04.2-1.43.59L10.3 9.45l-7.72 7.72c-.78.78-.78 2.05 0 2.83L4 21.41c.39.39.9.59 1.41.59.51 0 1.02-.2 1.41-.59l7.78-7.78 2.81-2.81c.8-.78.8-2.07 0-2.86zM5.41 20L4 18.59l7.72-7.72 1.47 1.35L5.41 20z\"/>\n",
              "  </svg>\n",
              "      </button>\n",
              "      \n",
              "  <style>\n",
              "    .colab-df-container {\n",
              "      display:flex;\n",
              "      flex-wrap:wrap;\n",
              "      gap: 12px;\n",
              "    }\n",
              "\n",
              "    .colab-df-convert {\n",
              "      background-color: #E8F0FE;\n",
              "      border: none;\n",
              "      border-radius: 50%;\n",
              "      cursor: pointer;\n",
              "      display: none;\n",
              "      fill: #1967D2;\n",
              "      height: 32px;\n",
              "      padding: 0 0 0 0;\n",
              "      width: 32px;\n",
              "    }\n",
              "\n",
              "    .colab-df-convert:hover {\n",
              "      background-color: #E2EBFA;\n",
              "      box-shadow: 0px 1px 2px rgba(60, 64, 67, 0.3), 0px 1px 3px 1px rgba(60, 64, 67, 0.15);\n",
              "      fill: #174EA6;\n",
              "    }\n",
              "\n",
              "    [theme=dark] .colab-df-convert {\n",
              "      background-color: #3B4455;\n",
              "      fill: #D2E3FC;\n",
              "    }\n",
              "\n",
              "    [theme=dark] .colab-df-convert:hover {\n",
              "      background-color: #434B5C;\n",
              "      box-shadow: 0px 1px 3px 1px rgba(0, 0, 0, 0.15);\n",
              "      filter: drop-shadow(0px 1px 2px rgba(0, 0, 0, 0.3));\n",
              "      fill: #FFFFFF;\n",
              "    }\n",
              "  </style>\n",
              "\n",
              "      <script>\n",
              "        const buttonEl =\n",
              "          document.querySelector('#df-66aa229b-e9aa-4d6a-92f0-a2ad743a1396 button.colab-df-convert');\n",
              "        buttonEl.style.display =\n",
              "          google.colab.kernel.accessAllowed ? 'block' : 'none';\n",
              "\n",
              "        async function convertToInteractive(key) {\n",
              "          const element = document.querySelector('#df-66aa229b-e9aa-4d6a-92f0-a2ad743a1396');\n",
              "          const dataTable =\n",
              "            await google.colab.kernel.invokeFunction('convertToInteractive',\n",
              "                                                     [key], {});\n",
              "          if (!dataTable) return;\n",
              "\n",
              "          const docLinkHtml = 'Like what you see? Visit the ' +\n",
              "            '<a target=\"_blank\" href=https://colab.research.google.com/notebooks/data_table.ipynb>data table notebook</a>'\n",
              "            + ' to learn more about interactive tables.';\n",
              "          element.innerHTML = '';\n",
              "          dataTable['output_type'] = 'display_data';\n",
              "          await google.colab.output.renderOutput(dataTable, element);\n",
              "          const docLink = document.createElement('div');\n",
              "          docLink.innerHTML = docLinkHtml;\n",
              "          element.appendChild(docLink);\n",
              "        }\n",
              "      </script>\n",
              "    </div>\n",
              "  </div>\n",
              "  "
            ],
            "text/plain": [
              "      Class                                                SMS  \\\n",
              "0         0  Go until jurong point, crazy.. Available only ...   \n",
              "1         0                      Ok lar... Joking wif u oni...   \n",
              "2         1  Free entry in 2 a wkly comp to win FA Cup fina...   \n",
              "3         0  U dun say so early hor... U c already then say...   \n",
              "4         0  Nah I don't think he goes to usf, he lives aro...   \n",
              "...     ...                                                ...   \n",
              "5567      1  This is the 2nd time we have tried 2 contact u...   \n",
              "5568      0              Will Ì_ b going to esplanade fr home?   \n",
              "5569      0  Pity, * was in mood for that. So...any other s...   \n",
              "5570      0  The guy did some bitching but I acted like i'd...   \n",
              "5571      0                         Rofl. Its true to its name   \n",
              "\n",
              "                                           Cleaned_text  \n",
              "0     go jurong point crazy available bugis n great ...  \n",
              "1                               ok lar joking wif u oni  \n",
              "2     free entry 2 wkly comp win fa cup final tkts 2...  \n",
              "3                   u dun say early hor u c already say  \n",
              "4                nah think goes usf lives around though  \n",
              "...                                                 ...  \n",
              "5567  2nd time tried 2 contact u u 750 pound prize 2...  \n",
              "5568                          b going esplanade fr home  \n",
              "5569                              pity mood suggestions  \n",
              "5570  guy bitching acted like interested buying some...  \n",
              "5571                                     rofl true name  \n",
              "\n",
              "[5169 rows x 3 columns]"
            ]
          },
          "execution_count": 138,
          "metadata": {},
          "output_type": "execute_result"
        }
      ],
      "source": [
        "from sklearn.preprocessing import LabelEncoder\n",
        "encoder=LabelEncoder()\n",
        "df['Class']=encoder.fit_transform(df['Class'])\n",
        "df\n",
        "#ham=0 and spam=1 form data"
      ]
    },
    {
      "attachments": {},
      "cell_type": "markdown",
      "metadata": {
        "id": "MEK6n-Z8bQky"
      },
      "source": [
        "Testing Reference data :"
      ]
    },
    {
      "cell_type": "code",
      "execution_count": null,
      "metadata": {
        "id": "UNlz3xaXJfmh"
      },
      "outputs": [],
      "source": [
        "#df['Characters_Count'] = df['SMS'].apply(len)\n",
        "#df"
      ]
    },
    {
      "cell_type": "code",
      "execution_count": null,
      "metadata": {
        "colab": {
          "base_uri": "https://localhost:8080/",
          "height": 35
        },
        "id": "KKzU2VnzKdOZ",
        "outputId": "1936d806-891e-4ed6-df64-2efc1907c1cc"
      },
      "outputs": [
        {
          "data": {
            "application/vnd.google.colaboratory.intrinsic+json": {
              "type": "string"
            },
            "text/plain": [
              "'\\nimport spacy\\nn = spacy.load(\"en_core_web_sm\")\\ndef nsize(x):\\n    word=n(x)\\n    return len(word)\\n\\ndf[\\'Words_count\\']=df[\\'SMS\\'].apply(nsize)\\ndf\\n'"
            ]
          },
          "execution_count": 157,
          "metadata": {},
          "output_type": "execute_result"
        }
      ],
      "source": [
        "\"\"\"\n",
        "import spacy\n",
        "n = spacy.load(\"en_core_web_sm\")\n",
        "def nsize(x):\n",
        "    word=n(x)\n",
        "    return len(word)\n",
        "\n",
        "df['Words_count']=df['SMS'].apply(nsize)\n",
        "df\n",
        "\"\"\""
      ]
    },
    {
      "attachments": {},
      "cell_type": "markdown",
      "metadata": {
        "id": "7lKWtVLmbVfq"
      },
      "source": [
        "Final Data Required :"
      ]
    },
    {
      "cell_type": "code",
      "execution_count": null,
      "metadata": {
        "colab": {
          "base_uri": "https://localhost:8080/"
        },
        "id": "Aw_PS4XQMfEi",
        "outputId": "ec862795-64d7-4055-a3de-0a43c20ee2bb"
      },
      "outputs": [
        {
          "name": "stdout",
          "output_type": "stream",
          "text": [
            "['free', 'entry', '2', 'wkly', 'comp', 'win', 'fa', 'cup', 'final', 'tkts', '21st', 'may', '2005', 'text', 'fa', '87121', 'receive', 'entry', 'question', 'std', 'txt', 'rate', 'c', 'apply', '08452810075over18', 'freemsg', 'hey', 'darling', '3', 'week', 'word', 'back', 'like', 'fun', 'still', 'tb', 'ok', 'xxx', 'std', 'chgs', 'send', '1', '50', 'rcv', 'winner', 'valued', 'network', 'customer', 'selected', 'receivea', '900', 'prize', 'reward', 'claim', 'call', '09061701461', 'claim', 'code', 'kl341', 'valid', '12', 'hours', 'mobile', '11', 'months', 'u', 'r', 'entitled', 'update', 'latest', 'colour', 'mobiles', 'camera', 'free', 'call', 'mobile', 'update', 'co', 'free', '08002986030', 'six', 'chances', 'win', 'cash', '100', '20', '000', 'pounds', 'txt', 'csh11', 'send', '87575', 'cost', '150p', 'day', '6days', '16', 'tsandcs', 'apply', 'reply', 'hl', '4', 'info', 'urgent', '1', 'week', 'free', 'membership', '100', '000', 'prize', 'jackpot', 'txt', 'word', 'claim', '81010', 'c', 'www', 'dbuk', 'net', 'lccltd', 'pobox', '4403ldnw1a7rw18', 'xxxmobilemovieclub', 'use', 'credit', 'click', 'wap', 'link', 'next', 'txt', 'message', 'click', 'http', 'wap', 'xxxmobilemovieclub', 'com', 'n', 'qjkgighjjgcbl', 'england', 'v', 'macedonia', 'dont', 'miss', 'goals', 'team', 'news', 'txt', 'ur', 'national', 'team', '87077', 'eg', 'england', '87077', 'try', 'wales', 'scotland', '4txt', '1', '20', 'poboxox36504w45wq', '16', 'thanks', 'subscription', 'ringtone', 'uk', 'mobile', 'charged', '5', 'month', 'please', 'confirm', 'replying', 'yes', 'reply', 'charged', '07732584351', 'rodger', 'burns', 'msg', 'tried', 'call', 'reply', 'sms', 'free', 'nokia', 'mobile', 'free', 'camcorder', 'please', 'call', '08000930705', 'delivery', 'tomorrow', 'sms', 'ac', 'sptv', 'new', 'jersey', 'devils', 'detroit', 'red', 'wings', 'play', 'ice', 'hockey', 'correct', 'incorrect', 'end', 'reply', 'end', 'sptv', 'congrats', '1', 'year', 'special', 'cinema', 'pass', '2', 'call', '09061209465', 'c', 'suprman', 'v', 'matrix3', 'starwars3', 'etc', '4', 'free', 'bx420', 'ip4', '5we', '150pm', 'dont', 'miss', 'valued', 'customer', 'pleased', 'advise', 'following', 'recent', 'review', 'mob', 'awarded', '1500', 'bonus', 'prize', 'call', '09066364589', 'urgent', 'ur', 'awarded', 'complimentary', 'trip', 'eurodisinc', 'trav', 'aco', 'entry41', '1000', 'claim', 'txt', 'dis', '87121', '18', '6', '1', '50', 'morefrmmob', 'shracomorsglsuplt', '10', 'ls1', '3aj', 'hear', 'new', 'divorce', 'barbie', 'comes', 'ken', 'stuff', 'please', 'call', 'customer', 'service', 'representative', '0800', '169', '6031', '10am', '9pm', 'guaranteed', '1000', 'cash', '5000', 'prize', 'free', 'ringtone', 'waiting', 'collected', 'simply', 'text', 'password', 'mix', '85069', 'verify', 'get', 'usher', 'britney', 'fml', 'gent', 'trying', 'contact', 'last', 'weekends', 'draw', 'shows', '1000', 'prize', 'guaranteed', 'call', '09064012160', 'claim', 'code', 'k52', 'valid', '12hrs', '150ppm', 'winner', 'u', 'specially', 'selected', '2', 'receive', '1000', '4', 'holiday', 'flights', 'inc', 'speak', 'live', 'operator', '2', 'claim', '0871277810910p', 'min', '18', 'private', '2004', 'account', 'statement', '07742676969', 'shows', '786', 'unredeemed', 'bonus', 'points', 'claim', 'call', '08719180248', 'identifier', 'code', '45239', 'expires', 'urgent', 'mobile', 'awarded', '2000', 'bonus', 'caller', 'prize', '5', '9', '03', 'final', 'try', 'contact', 'u', 'call', 'landline', '09064019788', 'box42wr29c', '150ppm', 'todays', 'voda', 'numbers', 'ending', '7548', 'selected', 'receive', '350', 'award', 'match', 'please', 'call', '08712300220', 'quoting', 'claim', 'code', '4041', 'standard', 'rates', 'app', 'sunshine', 'quiz', 'wkly', 'q', 'win', 'top', 'sony', 'dvd', 'player', 'u', 'know', 'country', 'algarve', 'txt', 'ansr', '82277', '1', '50', 'sp', 'tyrone', 'want', '2', 'get', 'laid', 'tonight', 'want', 'real', 'dogging', 'locations', 'sent', 'direct', '2', 'ur', 'mob', 'join', 'uk', 'largest', 'dogging', 'network', 'bt', 'txting', 'gravel', '69888', 'nt', 'ec2a', '31p', 'msg', '150p', 'rcv', 'msgs', 'chat', 'svc', 'free', 'hardcore', 'services', 'text', 'go', '69988', 'u', 'get', 'nothing', 'u', 'must', 'age', 'verify', 'yr', 'network', 'try', 'freemsg', 'replied', 'text', 'randy', 'sexy', 'female', 'live', 'local', 'luv', 'hear', 'u', 'netcollex', 'ltd', '08700621170150p', 'per', 'msg', 'reply', 'stop', 'end', 'customer', 'service', 'annoncement', 'new', 'years', 'delivery', 'waiting', 'please', 'call', '07046744435', 'arrange', 'delivery', 'winner', 'u', 'specially', 'selected', '2', 'receive', '1000', 'cash', '4', 'holiday', 'flights', 'inc', 'speak', 'live', 'operator', '2', 'claim', '0871277810810', 'pls', 'stop', 'bootydelious', '32', 'f', 'inviting', 'friend', 'reply', 'yes', '434', '434', 'see', 'www', 'sms', 'ac', 'u', 'bootydelious', 'stop', 'send', 'stop', 'frnd', '62468', 'bangbabes', 'ur', 'order', 'way', 'u', 'receive', 'service', 'msg', '2', 'download', 'ur', 'content', 'u', 'goto', 'wap', 'bangb', 'tv', 'ur', 'mobile', 'internet', 'service', 'menu', 'urgent', 'trying', 'contact', 'last', 'weekends', 'draw', 'shows', '900', 'prize', 'guaranteed', 'call', '09061701939', 'claim', 'code', 's89', 'valid', '12hrs', 'please', 'call', 'customer', 'service', 'representative', 'freephone', '0808', '145', '4742', '9am', '11pm', 'guaranteed', '1000', 'cash', '5000', 'prize', 'unique', 'enough', 'find', '30th', 'august', 'www', 'areyouunique', 'co', 'uk', '500', 'new', 'mobiles', '2004', 'must', 'go', 'txt', 'nokia', '89545', 'collect', 'today', '1', 'www', '4', 'tc', 'biz', '2optout', '087187262701', '50gbp', 'mtmsg18', 'u', 'meet', 'ur', 'dream', 'partner', 'soon', 'ur', 'career', '2', 'flyng', 'start', '2', 'find', 'free', 'txt', 'horo', 'followed', 'ur', 'star', 'sign', 'e', 'g', 'horo', 'aries', 'text', 'meet', 'someone', 'sexy', 'today', 'u', 'find', 'date', 'even', 'flirt', 'u', 'join', '4', '10p', 'reply', 'name', 'age', 'eg', 'sam', '25', '18', 'msg', 'recd', 'thirtyeight', 'pence', 'u', '447801259231', 'secret', 'admirer', 'looking', '2', 'make', 'contact', 'u', 'find', 'r', 'reveal', 'thinks', 'ur', 'special', 'call', '09058094597', 'congratulations', 'ur', 'awarded', '500', 'cd', 'vouchers', '125gift', 'guaranteed', 'free', 'entry', '2', '100', 'wkly', 'draw', 'txt', 'music', '87066', 'tncs', 'www', 'ldew', 'com1win150ppmx3age16', 'tried', 'contact', 'reply', 'offer', 'video', 'handset', '750', 'anytime', 'networks', 'mins', 'unlimited', 'text', 'camcorder', 'reply', 'call', '08000930705', 'hey', 'really', 'horny', 'want', 'chat', 'see', 'naked', 'text', 'hot', '69698', 'text', 'charged', '150pm', 'unsubscribe', 'text', 'stop', '69698', 'ur', 'ringtone', 'service', 'changed', '25', 'free', 'credits', 'go', 'club4mobiles', 'com', 'choose', 'content', 'stop', 'txt', 'club', 'stop', '87070', '150p', 'wk', 'club4', 'po', 'box1146', 'mk45', '2wt', 'ringtone', 'club', 'get', 'uk', 'singles', 'chart', 'mobile', 'week', 'choose', 'top', 'quality', 'ringtone', 'message', 'free', 'charge', 'hmv', 'bonus', 'special', '500', 'pounds', 'genuine', 'hmv', 'vouchers', 'answer', '4', 'easy', 'questions', 'play', 'send', 'hmv', '86688', 'info', 'www', '100percent', 'real', 'com', 'mobile', 'customer', 'may', 'claim', 'free', 'camera', 'phone', 'upgrade', 'pay', 'go', 'sim', 'card', 'loyalty', 'call', '0845', '021', '3680', 'offer', 'ends', '28thfeb', 'c', 'apply', 'sms', 'ac', 'blind', 'date', '4u', 'rodds1', '21', 'aberdeen', 'united', 'kingdom', 'check', 'http', 'img', 'sms', 'ac', 'w', 'icmb3cktz8r7', '4', 'blind', 'dates', 'send', 'hide', 'themob', 'check', 'newest', 'selection', 'content', 'games', 'tones', 'gossip', 'babes', 'sport', 'keep', 'mobile', 'fit', 'funky', 'text', 'wap', '82468', 'think', 'ur', 'smart', 'win', '200', 'week', 'weekly', 'quiz', 'text', 'play', '85222', 'cs', 'winnersclub', 'po', 'box', '84', 'm26', '3uz', '16', 'gbp1', '50', 'week', 'december', 'mobile', '11mths', 'entitled', 'update', 'latest', 'colour', 'camera', 'mobile', 'free', 'call', 'mobile', 'update', 'co', 'free', '08002986906', 'call', 'germany', '1', 'pence', 'per', 'minute', 'call', 'fixed', 'line', 'via', 'access', 'number', '0844', '861', '85', '85', 'prepayment', 'direct', 'access', 'valentines', 'day', 'special', 'win', '1000', 'quiz', 'take', 'partner', 'trip', 'lifetime', 'send', 'go', '83600', '150p', 'msg', 'rcvd', 'custcare', '08718720201', 'fancy', 'shag', 'interested', 'sextextuk', 'com', 'txt', 'xxuk', 'suzy', '69876', 'txts', 'cost', '1', '50', 'per', 'msg', 'tncs', 'website', 'x', 'ur', 'cash', 'balance', 'currently', '500', 'pounds', 'maximize', 'ur', 'cash', 'send', 'cash', '86688', '150p', 'msg', 'cc', '08708800282', 'hg', 'suite342', '2lands', 'row', 'w1j6hl', 'update', 'xmas', 'offer', 'latest', 'motorola', 'sonyericsson', 'nokia', 'free', 'bluetooth', 'double', 'mins', '1000', 'txt', 'orange', 'call', 'mobileupd8', '08000839402', 'call2optout', 'f4q', 'discount', 'code', 'rp176781', 'stop', 'messages', 'reply', 'stop', 'www', 'regalportfolio', 'co', 'uk', 'customer', 'services', '08717205546', 'thanks', 'ringtone', 'order', 'reference', 't91', 'charged', 'gbp', '4', 'per', 'week', 'unsubscribe', 'anytime', 'calling', 'customer', 'services', '09057039994', 'double', 'mins', 'txts', '4', '6months', 'free', 'bluetooth', 'orange', 'available', 'sony', 'nokia', 'motorola', 'phones', 'call', 'mobileupd8', '08000839402', 'call2optout', 'n9dx', '4mths', 'half', 'price', 'orange', 'line', 'rental', 'latest', 'camera', 'phones', '4', 'free', 'phone', '11mths', 'call', 'mobilesdirect', 'free', '08000938767', 'update', 'or2stoptxt', 'free', 'ringtone', 'text', 'first', '87131', 'poly', 'text', 'get', '87131', 'true', 'tone', 'help', '0845', '2814032', '16', '1st', 'free', 'tones', '3x', '150pw', 'e', 'nd', 'txt', 'stop', '100', 'dating', 'service', 'cal', 'l', '09064012103', 'box334sk38ch', 'free', 'entry', '250', 'weekly', 'competition', 'text', 'word', 'win', '80086', '18', 'c', 'www', 'txttowin', 'co', 'uk', 'send', 'logo', '2', 'ur', 'lover', '2', 'names', 'joined', 'heart', 'txt', 'love', 'name1', 'name2', 'mobno', 'eg', 'love', 'adam', 'eve', '07123456789', '87077', 'yahoo', 'pobox36504w45wq', 'txtno', '4', 'ads', '150p', 'someone', 'contacted', 'dating', 'service', 'entered', 'phone', 'fancy', 'find', 'call', 'landline', '09111032124', 'pobox12n146tf150p', 'urgent', 'mobile', 'number', 'awarded', '2000', 'prize', 'guaranteed', 'call', '09058094455', 'land', 'line', 'claim', '3030', 'valid', '12hrs', 'congrats', 'nokia', '3650', 'video', 'camera', 'phone', 'call', '09066382422', 'calls', 'cost', '150ppm', 'ave', 'call', '3mins', 'vary', 'mobiles', '16', 'close', '300603', 'post', 'bcm4284', 'ldn', 'wc1n3xx', 'loan', 'purpose', '500', '75', '000', 'homeowners', 'tenants', 'welcome', 'previously', 'refused', 'still', 'help', 'call', 'free', '0800', '1956669', 'text', 'back', 'help', 'upgrdcentre', 'orange', 'customer', 'may', 'claim', 'free', 'camera', 'phone', 'upgrade', 'loyalty', 'call', '0207', '153', '9153', 'offer', 'ends', '26th', 'july', 'c', 'apply', 'opt', 'available', 'okmail', 'dear', 'dave', 'final', 'notice', 'collect', '4', 'tenerife', 'holiday', '5000', 'cash', 'award', 'call', '09061743806', 'landline', 'tcs', 'sae', 'box326', 'cw25wx', '150ppm', 'want', '2', 'get', 'laid', 'tonight', 'want', 'real', 'dogging', 'locations', 'sent', 'direct', '2', 'ur', 'mob', 'join', 'uk', 'largest', 'dogging', 'network', 'txting', 'moan', '69888nyt', 'ec2a', '31p', 'msg', '150p', 'free', 'message', 'activate', '500', 'free', 'text', 'messages', 'replying', 'message', 'word', 'free', 'terms', 'conditions', 'visit', 'www', '07781482378', 'com', 'congrats', '1', 'year', 'special', 'cinema', 'pass', '2', 'call', '09061209465', 'c', 'suprman', 'v', 'matrix3', 'starwars3', 'etc', '4', 'free', 'bx420', 'ip4', '5we', '150pm', 'dont', 'miss', '123', 'congratulations', 'week', 'competition', 'draw', 'u', '1450', 'prize', 'claim', 'call', '09050002311', 'b4280703', 'cs', 'stop', 'sms', '08718727868', '18', '150ppm', 'guaranteed', 'latest', 'nokia', 'phone', '40gb', 'ipod', 'mp3', 'player', '500', 'prize', 'txt', 'word', 'collect', '83355', 'ibhltd', 'ldnw15h', '150p', 'mtmsgrcvd18', 'boltblue', 'tones', '150p', 'reply', 'poly', 'mono', 'eg', 'poly3', '1', 'cha', 'cha', 'slide', '2', 'yeah', '3', 'slow', 'jamz', '6', 'toxic', '8', 'come', 'stop', '4', 'tones', 'txt', 'credits', 'topped', 'http', 'www', 'bubbletext', 'com', 'renewal', 'pin', 'tgxxrz', 'urgent', 'mobile', 'awarded', '2', '000', 'bonus', 'caller', 'prize', '02', '09', '03', '2nd', 'attempt', 'contact', 'call', '0871', '872', '9755', 'box95qu', 'today', 'offer', 'claim', 'ur', '150', 'worth', 'discount', 'vouchers', 'text', 'yes', '85023', 'savamob', 'member', 'offers', 'mobile', 'cs', '08717898035', '3', '00', 'sub', '16', 'unsub', 'reply', 'x', 'recieve', 'tone', 'within', 'next', '24hrs', 'terms', 'conditions', 'please', 'see', 'channel', 'u', 'teletext', 'pg', '750', 'private', '2003', 'account', 'statement', '07815296484', 'shows', '800', 'un', 'redeemed', 'points', 'call', '08718738001', 'identifier', 'code', '41782', 'expires', '18', '11', '04', 'www', 'applausestore', 'com', 'monthlysubscription', '50p', 'msg', 'max6', 'month', 'csc', 'web', 'age16', '2stop', 'txt', 'stop', 'gent', 'trying', 'contact', 'last', 'weekends', 'draw', 'shows', '1000', 'prize', 'guaranteed', 'call', '09064012160', 'claim', 'code', 'k52', 'valid', '12hrs', '150ppm', '1', '000', 'cash', '2', '000', 'prize', 'claim', 'call09050000327', 'mobile', 'number', '5000', 'claim', 'calls', 'us', 'back', 'ring', 'claims', 'hot', 'line', '09050005321', 'tried', 'contact', 'reply', 'offer', '750', 'mins', '150', 'textand', 'new', 'video', 'phone', 'call', '08002988890', 'reply', 'free', 'delivery', 'tomorrow', 'ur', 'chance', 'win', '250', 'wkly', 'shopping', 'spree', 'txt', 'shop', '80878', 'c', 'www', 'txt', '2', 'shop', 'com', 'custcare', '08715705022', '1x150p', 'wk', 'specially', 'selected', 'receive', '2000', 'pound', 'award', 'call', '08712402050', 'lines', 'close', 'cost', '10ppm', '16', 'cs', 'apply', 'ag', 'promo', 'private', '2003', 'account', 'statement', '07753741225', 'shows', '800', 'un', 'redeemed', 'points', 'call', '08715203677', 'identifier', 'code', '42478', 'expires', '24', '10', '04', 'important', 'customer', 'service', 'announcement', 'call', 'freephone', '0800', '542', '0825', 'xclusive', 'clubsaisai', '2morow', '28', '5', 'soiree', 'speciale', 'zouk', 'nichols', 'paris', 'free', 'roses', '2', 'ladies', 'info', '07946746291', '07880867867', '22', 'days', 'kick', 'euro2004', 'u', 'kept', 'date', 'latest', 'news', 'results', 'daily', 'removed', 'send', 'get', 'txt', 'stop', '83222', 'new', 'textbuddy', 'chat', '2', 'horny', 'guys', 'ur', 'area', '4', '25p', 'free', '2', 'receive', 'search', 'postcode', 'gaytextbuddy', 'com', 'txt', 'one', 'name', '89693', 'todays', 'vodafone', 'numbers', 'ending', '4882', 'selected', 'receive', '350', 'award', 'number', 'matches', 'call', '09064019014', 'receive', '350', 'award', 'dear', 'voucher', 'holder', '2', 'claim', 'weeks', 'offer', 'pc', 'go', 'http', 'www', 'e', 'tlp', 'co', 'uk', 'expressoffer', 'ts', 'cs', 'apply', '2', 'stop', 'texts', 'txt', 'stop', '80062', 'private', '2003', 'account', 'statement', 'shows', '800', 'un', 'redeemed', 'points', 'call', '08715203694', 'identifier', 'code', '40533', 'expires', '31', '10', '04', '1', '000', 'cash', '2', '000', 'prize', 'claim', 'call09050000327', 'c', 'rstm', 'sw7', '3ss', '150ppm', '88800', '89034', 'premium', 'phone', 'services', 'call', '08718711108', 'sms', 'ac', 'sun0819', 'posts', 'hello', 'seem', 'cool', 'get', 'ur', '1st', 'ringtone', 'free', 'reply', 'msg', 'tone', 'gr8', 'top', '20', 'tones', 'phone', 'every', 'week', '1', '50', 'per', 'wk', '2', 'opt', 'send', 'stop', '08452810071', '16', 'hi', 'sue', '20', 'years', 'old', 'work', 'lapdancer', 'love', 'sex', 'text', 'live', 'bedroom', 'text', 'sue', '89555', 'textoperator', 'g2', '1da', '150ppmsg', '18', 'forwarded', '448712404000', 'please', 'call', '08712404000', 'immediately', 'urgent', 'message', 'waiting', 'review', 'keep', 'fantastic', 'nokia', 'n', 'gage', 'game', 'deck', 'club', 'nokia', 'go', '2', 'www', 'cnupdates', 'com', 'newsletter', 'unsubscribe', 'alerts', 'reply', 'word', '4mths', 'half', 'price', 'orange', 'line', 'rental', 'latest', 'camera', 'phones', '4', 'free', 'phone', '11mths', 'call', 'mobilesdirect', 'free', '08000938767', 'update', 'or2stoptxt', 'cs', '08714712388', '10am', '7pm', 'cost', '10p', '449071512431', 'urgent', '2nd', 'attempt', 'contact', 'u', 'u', '1250', 'call', '09071512433', 'b4', '050703', 'csbcm4235wc1n3xx', 'callcost', '150ppm', 'mobilesvary', 'max', '7', '50', 'guaranteed', '1000', 'cash', '2000', 'prize', 'claim', 'yr', 'prize', 'call', 'customer', 'service', 'representative', '08714712394', '10am', '7pm', 'email', 'alertfrom', 'jeri', 'stewartsize', '2kbsubject', 'low', 'cost', 'prescripiton', 'drvgsto', 'listen', 'email', 'call', '123', 'hi', 'customer', 'loyalty', 'offer', 'new', 'nokia6650', 'mobile', '10', 'txtauction', 'txt', 'word', 'start', '81151', 'get', '4t', 'ctxt', 'tc', '150p', 'mtmsg', 'u', 'subscribed', 'best', 'mobile', 'content', 'service', 'uk', '3', 'per', '10', 'days', 'send', 'stop', '82324', 'helpline', '08706091795', 'realize', '40', 'years', 'thousands', 'old', 'ladies', 'running', 'around', 'tattoos', 'important', 'customer', 'service', 'announcement', 'premier', 'romantic', 'paris', '2', 'nights', '2', 'flights', '79', 'book', '4', 'next', 'year', 'call', '08704439680ts', 'cs', 'apply', 'urgent', 'ur', '500', 'guaranteed', 'award', 'still', 'unclaimed', 'call', '09066368327', 'closingdate04', '09', '02', 'claimcode', 'm39m51', '1', '50pmmorefrommobile2bremoved', 'mobypobox734ls27yf', 'ur', 'awarded', 'city', 'break', 'could', 'win', '200', 'summer', 'shopping', 'spree', 'every', 'wk', 'txt', 'store', '88039', 'skilgme', 'tscs087147403231winawk', 'age16', '1', '50perwksub', 'important', 'customer', 'service', 'announcement', 'premier', 'call', 'freephone', '0800', '542', '0578', 'ever', 'thought', 'living', 'good', 'life', 'perfect', 'partner', 'txt', 'back', 'name', 'age', 'join', 'mobile', 'community', '100p', 'sms', '5', 'free', 'top', 'polyphonic', 'tones', 'call', '087018728737', 'national', 'rate', 'get', 'toppoly', 'tune', 'sent', 'every', 'week', 'text', 'subpoly', '81618', '3', 'per', 'pole', 'unsub', '08718727870', 'orange', 'customer', 'may', 'claim', 'free', 'camera', 'phone', 'upgrade', 'loyalty', 'call', '0207', '153', '9996', 'offer', 'ends', '14thmarch', 'c', 'apply', 'opt', 'availa', 'last', 'chance', 'claim', 'ur', '150', 'worth', 'discount', 'vouchers', 'today', 'text', 'shop', '85023', 'savamob', 'offers', 'mobile', 'cs', 'savamob', 'pobox84', 'm263uz', '3', '00', 'sub', '16', 'free', '1st', 'week', 'no1', 'nokia', 'tone', '4', 'ur', 'mobile', 'every', 'week', 'txt', 'nokia', '8077', 'get', 'txting', 'tell', 'ur', 'mates', 'www', 'getzed', 'co', 'uk', 'pobox', '36504', 'w45wq', '16', 'norm150p', 'tone', 'guaranteed', '200', 'award', 'even', '1000', 'cashto', 'claim', 'ur', 'award', 'call', 'free', '08000407165', '18', '2', 'stop', 'getstop', '88222', 'php', 'rg21', '4jx', 'congratulations', 'ur', 'awarded', 'either', '500', 'cd', 'gift', 'vouchers', 'free', 'entry', '2', '100', 'weekly', 'draw', 'txt', 'music', '87066', 'tncs', 'www', 'ldew', 'com1win150ppmx3age16', 'u', 'outbid', 'simonwatson5120', 'shinco', 'dvd', 'plyr', '2', 'bid', 'visit', 'sms', 'ac', 'smsrewards', '2', 'end', 'bid', 'notifications', 'reply', 'end', 'smsservices', 'yourinclusive', 'text', 'credits', 'pls', 'goto', 'www', 'comuk', 'net', 'login', '3qxj9', 'unsubscribe', 'stop', 'extra', 'charge', 'help', '08702840625', 'comuk', '220', 'cm2', '9ae', '25p', '4', 'alfie', 'moon', 'children', 'need', 'song', 'ur', 'mob', 'tell', 'ur', 'm8s', 'txt', 'tone', 'charity', '8007', 'nokias', 'poly', 'charity', 'polys', 'zed', '08701417012', 'profit', '2', 'charity', 'u', 'secret', 'admirer', 'reveal', 'thinks', 'u', 'r', 'special', 'call', '09065174042', 'opt', 'reply', 'reveal', 'stop', '1', '50', 'per', 'msg', 'recd', 'cust', 'care', '07821230901', 'dear', 'voucher', 'holder', 'claim', 'weeks', 'offer', 'pc', 'please', 'go', 'http', 'www', 'e', 'tlp', 'co', 'uk', 'expressoffer', 'ts', 'cs', 'apply', 'stop', 'texts', 'txt', 'stop', '80062', 'want', '750', 'anytime', 'network', 'mins', '150', 'text', 'new', 'video', 'phone', 'five', 'pounds', 'per', 'week', 'call', '08002888812', 'reply', 'delivery', 'tomorrow', 'tried', 'contact', 'offer', 'new', 'video', 'phone', '750', 'anytime', 'network', 'mins', 'half', 'price', 'rental', 'camcorder', 'call', '08000930705', 'reply', 'delivery', 'wed', 'last', 'chance', '2', 'claim', 'ur', '150', 'worth', 'discount', 'vouchers', 'text', 'yes', '85023', 'savamob', 'member', 'offers', 'mobile', 'cs', '08717898035', '3', '00', 'sub', '16', 'remove', 'txt', 'x', 'stop', 'urgent', 'call', '09066350750', 'landline', 'complimentary', '4', 'ibiza', 'holiday', '10', '000', 'cash', 'await', 'collection', 'sae', 'cs', 'po', 'box', '434', 'sk3', '8wp', '150', 'ppm', '18', 'talk', 'sexy', 'make', 'new', 'friends', 'fall', 'love', 'worlds', 'discreet', 'text', 'dating', 'service', 'text', 'vip', '83110', 'see', 'could', 'meet', 'congratulations', 'ur', 'awarded', 'either', 'yrs', 'supply', 'cds', 'virgin', 'records', 'mystery', 'gift', 'guaranteed', 'call', '09061104283', 'ts', 'cs', 'www', 'smsco', 'net', '1', '50pm', 'approx', '3mins', 'private', '2003', 'account', 'statement', '07808', 'xxxxxx', 'shows', '800', 'un', 'redeemed', 'points', 'call', '08719899217', 'identifier', 'code', '41685', 'expires', '07', '11', '04', 'hello', 'need', 'posh', 'birds', 'chaps', 'user', 'trial', 'prods', 'champneys', 'put', 'need', 'address', 'dob', 'asap', 'ta', 'r', 'u', 'want', 'xmas', '100', 'free', 'text', 'messages', 'new', 'video', 'phone', 'half', 'price', 'line', 'rental', 'call', 'free', '0800', '0721072', 'find', 'shop', 'till', 'u', 'drop', 'either', '10k', '5k', '500', 'cash', '100', 'travel', 'voucher', 'call', '09064011000', 'ntt', 'po', 'box', 'cr01327bt', 'fixedline', 'cost', '150ppm', 'mobile', 'vary', 'sunshine', 'quiz', 'wkly', 'q', 'win', 'top', 'sony', 'dvd', 'player', 'u', 'know', 'country', 'liverpool', 'played', 'mid', 'week', 'txt', 'ansr', '82277', '1', '50', 'sp', 'tyrone', 'u', 'secret', 'admirer', 'looking', '2', 'make', 'contact', 'u', 'find', 'r', 'reveal', 'thinks', 'ur', 'special', 'call', '09058094565', 'u', 'secret', 'admirer', 'looking', '2', 'make', 'contact', 'u', 'find', 'r', 'reveal', 'thinks', 'ur', 'special', 'call', '09065171142', 'stopsms', '08', 'reminder', 'downloaded', 'content', 'already', 'paid', 'goto', 'http', 'doit', 'mymoby', 'tv', 'collect', 'content', 'lastest', 'stereophonics', 'marley', 'dizzee', 'racal', 'libertines', 'strokes', 'win', 'nookii', 'games', 'flirt', 'click', 'themob', 'wap', 'bookmark', 'text', 'wap', '82468', 'january', 'male', 'sale', 'hot', 'gay', 'chat', 'cheaper', 'call', '08709222922', 'national', 'rate', '1', '5p', 'min', 'cheap', '7', '8p', 'min', 'peak', 'stop', 'texts', 'call', '08712460324', '10p', 'min', 'money', 'r', 'lucky', 'winner', '2', 'claim', 'prize', 'text', 'money', '2', '88600', '1million', 'give', 'away', 'ppt150x3', 'normal', 'text', 'rate', 'box403', 'w1t1jy', 'dear', 'matthew', 'please', 'call', '09063440451', 'landline', 'complimentary', '4', 'lux', 'tenerife', 'holiday', '1000', 'cash', 'await', 'collection', 'ppm150', 'sae', 'cs', 'box334', 'sk38xh', 'urgent', 'call', '09061749602', 'landline', 'complimentary', '4', 'tenerife', 'holiday', '10', '000', 'cash', 'await', 'collection', 'sae', 'cs', 'box', '528', 'hp20', '1yf', '150ppm', '18', 'getting', 'touch', 'folks', 'waiting', 'company', 'txt', 'back', 'name', 'age', 'opt', 'enjoy', 'community', '150p', 'sms', 'ur', 'cash', 'balance', 'currently', '500', 'pounds', 'maximize', 'ur', 'cash', 'send', 'go', '86688', '150p', 'msg', 'cc', '08718720201', 'po', 'box', '114', '14', 'tcr', 'w1', 'filthy', 'stories', 'girls', 'waiting', 'urgent', 'trying', 'contact', 'u', 'todays', 'draw', 'shows', '800', 'prize', 'guaranteed', 'call', '09050001808', 'land', 'line', 'claim', 'm95', 'valid12hrs', 'congrats', '2', 'mobile', '3g', 'videophones', 'r', 'call', '09063458130', 'videochat', 'wid', 'mates', 'play', 'java', 'games', 'dload', 'polyph', 'music', 'noline', 'rentl', 'panasonic', 'bluetoothhdset', 'free', 'nokia', 'free', 'motorola', 'free', 'doublemins', 'doubletxt', 'orange', 'contract', 'call', 'mobileupd8', '08000839402', 'call', '2optout', 'free', '1st', 'week', 'no1', 'nokia', 'tone', '4', 'ur', 'mob', 'every', 'week', 'txt', 'nokia', '8007', 'get', 'txting', 'tell', 'ur', 'mates', 'www', 'getzed', 'co', 'uk', 'pobox', '36504', 'w45wq', 'norm150p', 'tone', '16', 'guess', 'somebody', 'know', 'secretly', 'fancies', 'wanna', 'find', 'give', 'us', 'call', '09065394514', 'landline', 'datebox1282essexcm61xn', '150p', 'min', '18', 'know', 'someone', 'know', 'fancies', 'call', '09058097218', 'find', 'pobox', '6', 'ls15hb', '150p', '1000', 'flirting', 'txt', 'girl', 'bloke', 'ur', 'name', 'age', 'eg', 'girl', 'zoe', '18', '8007', 'join', 'get', 'chatting', '18', 'days', 'euro2004', 'kickoff', 'u', 'kept', 'informed', 'latest', 'news', 'results', 'daily', 'unsubscribe', 'send', 'get', 'euro', 'stop', '83222', 'eastenders', 'tv', 'quiz', 'flower', 'dot', 'compare', 'violet', 'e', 'tulip', 'f', 'lily', 'txt', 'e', 'f', '84025', '4', 'chance', '2', 'win', '100', 'cash', 'wkent', '150p16', 'new', 'local', 'dates', 'area', 'lots', 'new', 'people', 'registered', 'area', 'reply', 'date', 'start', '18', 'www', 'flirtparty', 'us', 'replys150', 'someone', 'u', 'know', 'asked', 'dating', 'service', '2', 'contact', 'cant', 'guess', 'call', '09058091854', 'revealed', 'po', 'box385', 'm6', '6wu', 'urgent', 'trying', 'contact', 'u', 'todays', 'draw', 'shows', '800', 'prize', 'guaranteed', 'call', '09050003091', 'land', 'line', 'claim', 'c52', 'valid12hrs', 'dear', 'u', 'invited', 'xchat', 'final', 'attempt', 'contact', 'u', 'txt', 'chat', '86688', 'awarded', 'sipix', 'digital', 'camera', 'call', '09061221061', 'landline', 'delivery', 'within', '28days', 'cs', 'box177', 'm221bp', '2yr', 'warranty', '150ppm', '16', 'p', 'p', '3', '99', 'win', 'urgent', 'mobile', 'number', 'awarded', '2000', 'prize', 'guaranteed', 'call', '09061790121', 'land', 'line', 'claim', '3030', 'valid', '12hrs', '150ppm', 'dear', 'subscriber', 'ur', 'draw', '4', '100', 'gift', 'voucher', 'b', 'entered', 'receipt', 'correct', 'ans', 'elvis', 'presleys', 'birthday', 'txt', 'answer', '80062', 'message', 'important', 'information', 'o2', 'user', 'today', 'lucky', 'day', '2', 'find', 'log', 'onto', 'http', 'www', 'urawinner', 'com', 'fantastic', 'surprise', 'awaiting', '449050000301', '2', '000', 'price', 'claim', 'call', '09050000301', 'bored', 'speed', 'dating', 'try', 'speedchat', 'txt', 'speedchat', '80155', 'like', 'em', 'txt', 'swap', 'get', 'new', 'chatter', 'chat80155', 'pobox36504w45wq', '150p', 'msg', 'rcd', '16', 'want', '750', 'anytime', 'network', 'mins', '150', 'text', 'new', 'video', 'phone', 'five', 'pounds', 'per', 'week', 'call', '08000776320', 'reply', 'delivery', 'tomorrow', 'taking', 'part', 'mobile', 'survey', 'yesterday', '500', 'texts', '2', 'use', 'however', 'wish', '2', 'get', 'txts', 'send', 'txt', '80160', 'c', 'www', 'txt43', 'com', '1', '50p', 'ur', 'hmv', 'quiz', 'cash', 'balance', 'currently', '500', 'maximize', 'ur', 'cash', 'send', 'hmv1', '86688', '150p', 'msg', 'dont', 'forget', 'place', 'many', 'free', 'requests', '1stchoice', 'co', 'uk', 'wish', 'information', 'call', '08707808226', 'know', 'u', 'u', 'know', 'send', 'chat', '86688', 'let', 'find', '150p', 'msg', 'rcvd', 'hg', 'suite342', '2lands', 'row', 'w1j6hl', 'ldn', '18', 'years', 'thank', 'winner', 'notified', 'sms', 'good', 'luck', 'future', 'marketing', 'reply', 'stop', '84122', 'customer', 'services', '08450542832', '1000', 'girls', 'many', 'local', '2', 'u', 'r', 'virgins', '2', 'r', 'ready', '2', '4fil', 'ur', 'every', 'sexual', 'need', 'u', '4fil', 'text', 'cute', '69911', '1', '50p', 'got', 'takes', '2', 'take', 'part', 'wrc', 'rally', 'oz', 'u', 'lucozade', 'energy', 'text', 'rally', 'le', '61200', '25p', 'see', 'packs', 'lucozade', 'co', 'uk', 'wrc', 'itcould', 'u', 'sex', 'ur', 'mobile', 'free', 'sexy', 'pic', 'jordan', 'text', 'babe', '88600', 'every', 'wk', 'get', 'sexy', 'celeb', 'pocketbabe', 'co', 'uk', '4', 'pics', '16', '3', 'wk', '087016248', '1', 'new', 'voicemail', 'please', 'call', '08719181503', 'win', 'year', 'supply', 'cds', '4', 'store', 'ur', 'choice', 'worth', '500', 'enter', '100', 'weekly', 'draw', 'txt', 'music', '87066', 'ts', 'cs', 'www', 'ldew', 'com', 'subs16', '1win150ppmx3', 'sim', 'subscriber', 'selected', 'receive', 'bonus', 'get', 'delivered', 'door', 'txt', 'word', 'ok', '88600', 'claim', '150p', 'msg', 'exp', '30apr', '1', 'new', 'voicemail', 'please', 'call', '08719181513', '1', 'nokia', 'tone', '4', 'ur', 'mob', 'every', 'week', 'txt', 'nok', '87021', '1st', 'tone', 'free', 'get', 'txtin', 'tell', 'ur', 'friends', '150p', 'tone', '16', 'reply', 'hl', '4info', 'reply', 'name', 'address', 'receive', 'post', 'weeks', 'completely', 'free', 'accommodation', 'various', 'global', 'locations', 'www', 'phb1', 'com', 'ph', '08700435505150p', 'free', 'entry', '250', 'weekly', 'comp', 'send', 'word', 'enter', '84128', '18', 'c', 'www', 'textcomp', 'com', 'cust', 'care', '08712405020', 'please', 'call', '08712402779', 'immediately', 'urgent', 'message', 'waiting', 'hungry', 'gay', 'guys', 'feeling', 'hungry', '4', 'call', '08718730555', '10p', 'min', 'stop', 'texts', 'call', '08712460324', '10p', 'min', 'u', 'get', '2', 'phone', 'wanna', 'chat', '2', 'set', 'meet', 'call', '09096102316', 'u', 'cum', '2moro', 'luv', 'jane', 'xx', 'calls', '1', 'minmoremobsemspobox45po139wa', 'network', 'operator', 'service', 'free', 'c', 'visit', '80488', 'biz', 'enjoy', 'jamster', 'videosound', 'gold', 'club', 'credits', '2', 'new', 'videosounds', '2', 'logos', 'musicnews', 'get', 'fun', 'jamster', 'co', 'uk', '16', 'help', 'call', '09701213186', 'get', '3', 'lions', 'england', 'tone', 'reply', 'lionm', '4', 'mono', 'lionp', '4', 'poly', '4', 'go', '2', 'www', 'ringtones', 'co', 'uk', 'original', 'n', 'best', 'tones', '3gbp', 'network', 'operator', 'rates', 'apply', 'win', 'newest', 'harry', 'potter', 'order', 'phoenix', 'book', '5', 'reply', 'harry', 'answer', '5', 'questions', 'chance', 'first', 'among', 'readers', 'ur', 'balance', '500', 'ur', 'next', 'question', 'sang', 'uptown', 'girl', '80', '2', 'answer', 'txt', 'ur', 'answer', '83600', 'good', 'luck', 'free2day', 'sexy', 'st', 'george', 'day', 'pic', 'jordan', 'txt', 'pic', '89080', 'dont', 'miss', 'every', 'wk', 'saucy', 'celeb', '4', 'pics', 'c', 'pocketbabe', 'co', 'uk', '0870241182716', '3', 'wk', 'hot', 'live', 'fantasies', 'call', '08707509020', '20p', 'per', 'min', 'ntt', 'ltd', 'po', 'box', '1327', 'croydon', 'cr9', '5wb', '0870', 'k', 'bears', 'pic', 'nick', 'tom', 'pete', 'dick', 'fact', 'types', 'try', 'gay', 'chat', 'photo', 'upload', 'call', '08718730666', '10p', 'min', '2', 'stop', 'texts', 'call', '08712460324', '500', 'new', 'mobiles', '2004', 'must', 'go', 'txt', 'nokia', '89545', 'collect', 'today', '1', 'www', '4', 'tc', 'biz', '2optout', '087187262701', '50gbp', 'mtmsg18', 'txtauction', 'double', 'mins', 'double', 'txt', '1', '2', 'price', 'linerental', 'latest', 'orange', 'bluetooth', 'mobiles', 'call', 'mobileupd8', 'latest', 'offers', '08000839402', 'call2optout', 'lf56', 'urgent', 'important', 'information', 'o2', 'user', 'today', 'lucky', 'day', '2', 'find', 'log', 'onto', 'http', 'www', 'urawinner', 'com', 'fantastic', 'surprise', 'awaiting', 'dear', 'u', 'invited', 'xchat', 'final', 'attempt', 'contact', 'u', 'txt', 'chat', '86688', '150p', 'msgrcvdhg', 'suite342', '2lands', 'row', 'w1j6hl', 'ldn', '18', 'yrs', 'congratulations', 'ur', 'awarded', 'either', '500', 'cd', 'gift', 'vouchers', 'free', 'entry', '2', '100', 'weekly', 'draw', 'txt', 'music', '87066', 'tncs', 'www', 'ldew', 'com', '1', 'win150ppmx3age16', 'sale', 'arsenal', 'dartboard', 'good', 'condition', 'doubles', 'trebles', 'free', '1st', 'week', 'entry', '2', 'textpod', '4', 'chance', '2', 'win', '40gb', 'ipod', '250', 'cash', 'every', 'wk', 'txt', 'pod', '84128', 'ts', 'cs', 'www', 'textpod', 'net', 'custcare', '08712405020', 'registered', 'optin', 'subscriber', 'ur', 'draw', '4', '100', 'gift', 'voucher', 'entered', 'receipt', 'correct', 'ans', '80062', 'whats', 'no1', 'bbc', 'charts', 'summers', 'finally', 'fancy', 'chat', 'flirt', 'sexy', 'singles', 'yr', 'area', 'get', 'matched', 'reply', 'summer', 'free', '2', 'join', 'optout', 'txt', 'stop', 'help08714742804', 'claire', 'havin', 'borin', 'time', 'alone', 'u', 'wanna', 'cum', '2nite', 'chat', '09099725823', 'hope', '2', 'c', 'u', 'luv', 'claire', 'xx', 'calls', '1', 'minmoremobsemspobox45po139wa', 'bought', 'one', 'ringtone', 'getting', 'texts', 'costing', '3', 'pound', 'offering', 'tones', 'etc', '09066362231', 'urgent', 'mobile', '07xxxxxxxxx', '2', '000', 'bonus', 'caller', 'prize', '02', '06', '03', '2nd', 'attempt', 'reach', 'call', '09066362231', 'asap', '07801543489', 'guaranteed', 'latests', 'nokia', 'phone', '40gb', 'ipod', 'mp3', 'player', '500', 'prize', 'txt', 'word', 'collect', '83355', 'tc', 'llc', 'ny', 'usa', '150p', 'mt', 'msgrcvd18', 'hi', 'lucy', 'hubby', 'meetins', 'day', 'fri', 'b', 'alone', 'hotel', 'u', 'fancy', 'cumin', 'pls', 'leave', 'msg', '2day', '09099726395', 'lucy', 'x', 'calls', '1', 'minmobsmorelkpobox177hp51fl', 'account', 'credited', '500', 'free', 'text', 'messages', 'activate', 'txt', 'word', 'credit', '80488', 'cs', 'www', '80488', 'biz', 'sms', 'ac', 'jsco', 'energy', 'high', 'u', 'may', 'know', '2channel', '2day', 'ur', 'leadership', 'skills', 'r', 'strong', 'psychic', 'reply', 'ans', 'w', 'question', 'end', 'reply', 'end', 'jsco', 'hot', 'live', 'fantasies', 'call', '08707509020', '20p', 'per', 'min', 'ntt', 'ltd', 'po', 'box', '1327', 'croydon', 'cr9', '5wb', '0870', 'national', 'rate', 'call', 'thanks', 'vote', 'sing', 'along', 'stars', 'karaoke', 'mobile', 'free', 'link', 'reply', 'sing', 'brand', 'new', 'mobile', 'music', 'service', 'live', 'free', 'music', 'player', 'arrive', 'shortly', 'install', 'phone', 'browse', 'content', 'top', 'artists', 'urgent', 'mobile', 'awarded', '2', '000', 'bonus', 'caller', 'prize', '1', '08', '03', '2nd', 'attempt', 'contact', 'call', '0871', '4719', '523', 'box95qu', 'bt', 'national', 'rate', 'nokia', '7250i', 'get', 'win', 'free', 'auction', 'take', 'part', 'send', 'nokia', '86021', 'hg', 'suite342', '2lands', 'row', 'w1jhl', '16', 'hello', 'orange', '1', 'month', 'free', 'access', 'games', 'news', 'sport', 'plus', '10', 'free', 'texts', '20', 'photo', 'messages', 'reply', 'yes', 'terms', 'apply', 'www', 'orange', 'co', 'uk', 'ow', 'ur', 'cash', 'balance', 'currently', '500', 'pounds', 'maximize', 'ur', 'cash', 'send', 'go', '86688', '150p', 'msg', 'cc', '08718720201', 'hg', 'suite342', '2lands', 'row', 'w1j6hl', 'sms', 'auction', 'brand', 'new', 'nokia', '7250', '4', 'auction', 'today', 'auction', 'free', '2', 'join', 'take', 'part', 'txt', 'nokia', '86021', 'hg', 'suite342', '2lands', 'row', 'w1j6hl', 'private', '2003', 'account', 'statement', 'shows', '800', 'un', 'redeemed', 'points', 'call', '08719899230', 'identifier', 'code', '41685', 'expires', '07', '11', '04', 'registered', 'subscriber', 'yr', 'draw', '4', '100', 'gift', 'voucher', 'b', 'entered', 'receipt', 'correct', 'ans', 'next', 'olympics', 'txt', 'ans', '80062', 'urgent', 'mobile', 'number', 'awarded', '2000', 'prize', 'guaranteed', 'call', '09061790121', 'land', 'line', 'claim', '3030', 'valid', '12hrs', '150ppm', 'rt', 'king', 'pro', 'video', 'club', 'need', 'help', 'info', 'ringtoneking', 'co', 'uk', 'call', '08701237397', 'must', '16', 'club', 'credits', 'redeemable', 'www', 'ringtoneking', 'co', 'uk', 'enjoy', 'u', 'secret', 'admirer', 'looking', '2', 'make', 'contact', 'u', 'find', 'r', 'reveal', 'thinks', 'ur', 'special', 'call', '09058094599', '500', 'free', 'text', 'msgs', 'text', 'ok', '80488', 'credit', 'account', 'selected', 'stay', '1', '250', 'top', 'british', 'hotels', 'nothing', 'holiday', 'worth', '350', 'claim', 'call', 'london', '02072069400', 'bx', '526', 'sw73ss', 'eerie', 'nokia', 'tones', '4u', 'rply', 'tone', 'title', '8007', 'eg', 'tone', 'dracula', '8007', 'titles', 'ghost', 'addamsfa', 'munsters', 'exorcist', 'twilight', 'www', 'getzed', 'co', 'uk', 'pobox36504w45wq', '150p', '0a', 'networks', 'allow', 'companies', 'bill', 'sms', 'responsible', 'suppliers', 'freemsg', 'feelin', 'kinda', 'lnly', 'hope', 'u', 'like', '2', 'keep', 'company', 'jst', 'got', 'cam', 'moby', 'wanna', 'c', 'pic', 'txt', 'reply', 'date', '82242', 'msg150p', '2rcv', 'hlp', '08712317606', 'stop', '82242', 'ur', 'chance', 'win', '250', 'cash', 'every', 'wk', 'txt', 'action', '80608', 'c', 'www', 'movietrivia', 'tv', 'custcare', '08712405022', '1x150p', 'wk', 'rgent', '2nd', 'attempt', 'contact', 'u', 'u', '1250', 'call', '09071512433', 'b4', '050703', 'csbcm4235wc1n3xx', 'callcost', '150ppm', 'mobilesvary', 'max', '7', '50', 'hi', 'ur', 'lookin', '4', 'saucy', 'daytime', 'fun', 'wiv', 'busty', 'married', 'woman', 'free', 'next', 'week', 'chat', '2', 'sort', 'time', '09099726429', 'janinexx', 'calls', '1', 'minmobsmorelkpobox177hp51fl', 'urgent', 'trying', 'contact', 'u', 'todays', 'draw', 'shows', '800', 'prize', 'guaranteed', 'call', '09050001295', 'land', 'line', 'claim', 'a21', 'valid', '12hrs', 'monthly', 'password', 'wap', 'mobsi', 'com', '391784', 'use', 'wap', 'phone', 'pc', 'todays', 'vodafone', 'numbers', 'ending', '0089', 'last', 'four', 'digits', 'selected', 'received', '350', 'award', 'number', 'matches', 'please', 'call', '09063442151', 'claim', '350', 'award', 'free', 'top', 'ringtone', 'sub', 'weekly', 'ringtone', 'get', '1st', 'week', 'free', 'send', 'subpoly', '81618', '3', 'per', 'week', 'stop', 'sms', '08718727870', 'free', 'msg', 'sorry', 'service', 'ordered', '81303', 'could', 'delivered', 'sufficient', 'credit', 'please', 'top', 'receive', 'service', 'hard', 'live', '121', 'chat', '60p', 'min', 'choose', 'girl', 'connect', 'live', 'call', '09094646899', 'cheap', 'chat', 'uk', 'biggest', 'live', 'service', 'vu', 'bcm1896wc1n3xx', 'wow', 'boys', 'r', 'back', 'take', '2007', 'uk', 'tour', 'win', 'vip', 'tickets', 'pre', 'book', 'vip', 'club', 'txt', 'club', '81303', 'trackmarque', 'ltd', 'info', 'vipclub4u', 'hi', 'mandy', 'sullivan', 'calling', 'hotmix', 'fm', 'chosen', 'receive', '5000', '00', 'easter', 'prize', 'draw', 'please', 'telephone', '09041940223', 'claim', '29', '03', '05', 'prize', 'transferred', 'someone', 'else', 'ur', 'going', '2', 'bahamas', 'callfreefone', '08081560665', 'speak', 'live', 'operator', 'claim', 'either', 'bahamas', 'cruise', '2000', 'cash', '18', 'opt', 'txt', 'x', '07786200117', 'someone', 'conacted', 'dating', 'service', 'entered', 'phone', 'fancy', 'find', 'call', 'landline', '09111030116', 'pobox12n146tf15', 'hi', '07734396839', 'ibh', 'customer', 'loyalty', 'offer', 'new', 'nokia6600', 'mobile', '10', 'txtauction', 'txt', 'word', 'start', '81151', 'get', '4t', 'sms', 'auction', 'nokia', '7250i', 'get', 'win', 'free', 'auction', 'take', 'part', 'send', 'nokia', '86021', 'hg', 'suite342', '2lands', 'row', 'w1jhl', '16', 'call', 'freephone', '0800', '542', '0578', 'buy', 'space', 'invaders', '4', 'chance', '2', 'win', 'orig', 'arcade', 'game', 'console', 'press', '0', 'games', 'arcade', 'std', 'wap', 'charge', 'see', 'o2', 'co', 'uk', 'games', '4', 'terms', 'settings', 'purchase', 'big', 'brother', 'alert', 'computer', 'selected', 'u', '10k', 'cash', '150', 'voucher', 'call', '09064018838', 'ntt', 'po', 'box', 'cro1327', '18', 'bt', 'landline', 'cost', '150ppm', 'mobiles', 'vary', 'win', 'winner', 'mr', 'foley', 'ipod', 'exciting', 'prizes', 'soon', 'keep', 'eye', 'ur', 'mobile', 'visit', 'www', 'win', '82050', 'co', 'uk', 'todays', 'voda', 'numbers', 'ending', '1225', 'selected', 'receive', '50award', 'match', 'please', 'call', '08712300220', 'quoting', 'claim', 'code', '3100', 'standard', 'rates', 'app', 'hottest', 'pics', 'straight', 'phone', 'see', 'getting', 'wet', 'wanting', 'xx', 'text', 'pics', '89555', 'txt', 'costs', '150p', 'textoperator', 'g696ga', '18', 'xxx', 'hack', 'chat', 'get', 'backdoor', 'entry', '121', 'chat', 'rooms', 'fraction', 'cost', 'reply', 'neo69', 'call', '09050280520', 'subscribe', '25p', 'pm', 'dps', 'bcm', 'box', '8027', 'ldn', 'wc1n3xx', 'free', 'nokia', 'motorola', 'upto', '12mths', '1', '2price', 'linerental', '500', 'free', 'x', 'net', 'mins', '100txt', 'mth', 'free', 'b', 'tooth', 'call', 'mobileupd8', '08001950382', 'call', '2optout', 'd3wv', '2nd', 'time', 'tried', '2', 'contact', 'u', 'u', '750', 'pound', 'prize', '2', 'claim', 'easy', 'call', '08718726970', '10p', 'per', 'min', 'bt', 'national', 'rate', 'guaranteed', '1000', 'cash', '2000', 'prize', 'claim', 'yr', 'prize', 'call', 'customer', 'service', 'representative', 'would', 'like', 'see', 'xxx', 'pics', 'hot', 'nearly', 'banned', 'uk', 'u', 'secret', 'admirer', 'looking', '2', 'make', 'contact', 'u', 'find', 'r', 'reveal', 'thinks', 'ur', 'special', 'call', '09058094594', 'dear', '0776xxxxxxx', 'u', 'invited', 'xchat', 'final', 'attempt', 'contact', 'u', 'txt', 'chat', '86688', '150p', 'msgrcvdhg', 'suite342', '2lands', 'row', 'w1j6hl', 'ldn', '18yrs', 'urgent', 'please', 'call', '09061743811', 'landline', 'abta', 'complimentary', '4', 'tenerife', 'holiday', '5000', 'cash', 'await', 'collection', 'sae', 'cs', 'box', '326', 'cw25wx', '150ppm', 'call', '09090900040', 'listen', 'extreme', 'dirty', 'live', 'chat', 'going', 'office', 'right', 'total', 'privacy', 'one', 'knows', 'sic', 'listening', '60p', 'min', '24', '7mp', '0870753331018', 'freemsg', 'hey', 'u', 'got', '1', 'video', 'pic', 'fones', 'reply', 'wild', 'txt', 'ill', 'send', 'u', 'pics', 'hurry', 'im', 'bored', 'work', 'xxx', '18', '150p', 'rcvd', 'stop2stop', 'free', 'entry', '2', 'weekly', 'comp', 'chance', 'win', 'ipod', 'txt', 'pod', '80182', 'get', 'entry', 'std', 'txt', 'rate', 'c', 'apply', '08452810073', 'details', '18', 'new', 'textbuddy', 'chat', '2', 'horny', 'guys', 'ur', 'area', '4', '25p', 'free', '2', 'receive', 'search', 'postcode', 'gaytextbuddy', 'com', 'txt', 'one', 'name', '89693', '08715500022', 'rpl', 'stop', '2', 'cnl', 'call', '08702490080', 'tells', 'u', '2', 'call', '09066358152', 'claim', '5000', 'prize', 'u', '2', 'enter', 'ur', 'mobile', 'personal', 'details', 'prompts', 'careful', 'free', '1st', 'week', 'entry', '2', 'textpod', '4', 'chance', '2', 'win', '40gb', 'ipod', '250', 'cash', 'every', 'wk', 'txt', 'vpod', '81303', 'ts', 'cs', 'www', 'textpod', 'net', 'custcare', '08712405020', 'people', 'dogging', 'area', 'call', '09090204448', 'join', 'like', 'minded', 'guys', 'arrange', '1', '1', 'evening', '1', '50', 'minapn', 'ls278bb', 'well', 'done', '4', 'costa', 'del', 'sol', 'holiday', '5000', 'await', 'collection', 'call', '09050090044', 'toclaim', 'sae', 'tcs', 'pobox334', 'stockport', 'sk38xh', 'cost', '1', '50', 'pm', 'max10mins', 'guess', 'somebody', 'know', 'secretly', 'fancies', 'wanna', 'find', 'give', 'us', 'call', '09065394973', 'landline', 'datebox1282essexcm61xn', '150p', 'min', '18', '80488', '500', 'free', 'text', 'messages', 'valid', '31', 'december', '2005', 'guaranteed', '200', 'award', 'even', '1000', 'cashto', 'claim', 'ur', 'award', 'call', 'free', '08000407165', '18', '2', 'stop', 'getstop', '88222', 'php', 'reply', 'win', '100', 'weekly', '2006', 'fifa', 'world', 'cup', 'held', 'send', 'stop', '87239', 'end', 'service', 'urgent', 'please', 'call', '09061743810', 'landline', 'abta', 'complimentary', '4', 'tenerife', 'holiday', '5000', 'cash', 'await', 'collection', 'sae', 'cs', 'box', '326', 'cw25wx', '150', 'ppm', 'free', 'tones', 'hope', 'enjoyed', 'new', 'content', 'text', 'stop', '61610', 'unsubscribe', 'help', '08712400602450p', 'provided', 'tones2you', 'co', 'uk', 'themob', 'yo', 'yo', 'yo', 'comes', 'new', 'selection', 'hot', 'downloads', 'members', 'get', 'free', 'click', 'open', 'next', 'link', 'sent', 'ur', 'fone', 'great', 'news', 'call', 'freefone', '08006344447', 'claim', 'guaranteed', '1000', 'cash', '2000', 'gift', 'speak', 'live', 'operator', 'u', 'win', '100', 'music', 'gift', 'vouchers', 'every', 'week', 'starting', 'txt', 'word', 'draw', '87066', 'tscs', 'www', 'ldew', 'com', 'skillgame', '1winaweek', 'age16', '150ppermesssubscription', 'call', '09094100151', 'use', 'ur', 'mins', 'calls', 'cast', '10p', 'min', 'mob', 'vary', 'service', 'provided', 'aom', 'gbp5', 'month', 'aom', 'box61', 'm60', '1er', 'u', 'stop', 'ages', '18', 'urgent', 'mobile', '2', '000', 'bonus', 'caller', 'prize', '02', '06', '03', '2nd', 'attempt', 'reach', 'call', '09066362220', 'asap', 'box97n7qp', '150ppm', 'eerie', 'nokia', 'tones', '4u', 'rply', 'tone', 'title', '8007', 'eg', 'tone', 'dracula', '8007', 'titles', 'ghost', 'addamsfa', 'munsters', 'exorcist', 'twilight', 'www', 'getzed', 'co', 'uk', 'pobox36504w45wq', '150p', 'sexy', 'singles', 'waiting', 'text', 'age', 'followed', 'gender', 'wither', 'f', 'e', 'g', '23f', 'gay', 'men', 'text', 'age', 'followed', 'g', 'e', 'g', '23g', 'freemsg', 'claim', 'ur', '250', 'sms', 'messages', 'text', 'ok', '84025', 'use', 'web2mobile', '2', 'ur', 'mates', 'etc', 'join', 'txt250', 'com', '1', '50p', 'wk', 'c', 'box139', 'la32wu', '16', 'remove', 'txtx', 'stop', '85233', 'free', 'ringtone', 'reply', 'real', 'well', 'done', 'england', 'get', 'official', 'poly', 'ringtone', 'colour', 'flag', 'yer', 'mobile', 'text', 'tone', 'flag', '84199', 'opt', 'txt', 'eng', 'stop', 'box39822', 'w111wx', '1', '50', 'final', 'chance', 'claim', 'ur', '150', 'worth', 'discount', 'vouchers', 'today', 'text', 'yes', '85023', 'savamob', 'member', 'offers', 'mobile', 'cs', 'savamob', 'pobox84', 'm263uz', '3', '00', 'subs', '16', 'sms', 'services', 'inclusive', 'text', 'credits', 'pls', 'goto', 'www', 'comuk', 'net', 'login', 'unsubscribe', 'stop', 'extra', 'charge', 'help', '08700469649', 'po', 'box420', 'ip4', '5we', 'winner', 'specially', 'selected', 'receive', '1000', 'cash', '2000', 'award', 'speak', 'live', 'operator', 'claim', 'call', '087123002209am', '7pm', 'cost', '10p', 'sunshine', 'hols', 'claim', 'ur', 'med', 'holiday', 'send', 'stamped', 'self', 'address', 'envelope', 'drinks', 'us', 'uk', 'po', 'box', '113', 'bray', 'wicklow', 'eire', 'quiz', 'starts', 'saturday', 'unsub', 'stop', 'u', 'win', '100', 'music', 'gift', 'vouchers', 'every', 'week', 'starting', 'txt', 'word', 'draw', '87066', 'tscs', 'www', 'idew', 'com', 'skillgame', '1winaweek', 'age16', '150ppermesssubscription', 'b4u', 'voucher', 'w', 'c', '27', '03', 'marsms', 'log', 'onto', 'www', 'b4utele', 'com', 'discount', 'credit', 'opt', 'reply', 'stop', 'customer', 'care', 'call', '08717168528', 'freemsg', 'hey', 'buffy', '25', 'love', 'satisfy', 'men', 'home', 'alone', 'feeling', 'randy', 'reply', '2', 'c', 'pix', 'qlynnbv', 'help08700621170150p', 'msg', 'send', 'stop', 'stop', 'txts', 'free', '1st', 'week', 'no1', 'nokia', 'tone', '4', 'ur', 'mob', 'every', 'week', 'txt', 'nokia', '87077', 'get', 'txting', 'tell', 'ur', 'mates', 'zed', 'pobox', '36504', 'w45wq', 'norm150p', 'tone', '16', 'free', 'camera', 'phones', 'linerental', '4', '49', 'month', '750', 'cross', 'ntwk', 'mins', '1', '2', 'price', 'txt', 'bundle', 'deals', 'also', 'avble', 'call', '08001950382', 'call2optout', 'j', 'mf', 'urgent', 'mobile', '07xxxxxxxxx', '2', '000', 'bonus', 'caller', 'prize', '02', '06', '03', '2nd', 'attempt', 'reach', 'call', '09066362231', 'asap', 'box97n7qp', '150ppm', 'urgent', '4', 'costa', 'del', 'sol', 'holiday', '5000', 'await', 'collection', 'call', '09050090044', 'toclaim', 'sae', 'tc', 'pobox334', 'stockport', 'sk38xh', 'cost', '1', '50', 'pm', 'max10mins', 'guaranteed', '1000', 'cash', '2000', 'prize', 'claim', 'yr', 'prize', 'call', 'customer', 'service', 'representative', '08714712379', '10am', '7pm', 'cost', '10p', 'thanks', 'ringtone', 'order', 'ref', 'number', 'k718', 'mobile', 'charged', '4', '50', 'tone', 'arrive', 'please', 'call', 'customer', 'services', '09065069120', 'hi', 'ya', 'babe', 'x', 'u', '4goten', 'bout', 'scammers', 'getting', 'smart', 'though', 'regular', 'vodafone', 'respond', 'get', 'prem', 'rate', 'msg', 'subscription', 'nos', 'used', 'also', 'beware', 'back', '2', 'work', '2morro', 'half', 'term', 'u', 'c', '2nite', '4', 'sexy', 'passion', 'b4', '2', 'go', 'back', 'chat', '09099726481', 'luv', 'dena', 'calls', '1', 'minmobsmorelkpobox177hp51fl', 'thanks', 'ringtone', 'order', 'ref', 'number', 'r836', 'mobile', 'charged', '4', '50', 'tone', 'arrive', 'please', 'call', 'customer', 'services', '09065069154', 'splashmobile', 'choose', '1000s', 'gr8', 'tones', 'wk', 'subscrition', 'service', 'weekly', 'tones', 'costing', '300p', 'u', 'one', 'credit', 'kick', 'back', 'enjoy', 'heard', 'u4', 'call', '4', 'rude', 'chat', 'private', 'line', '01223585334', 'cum', 'wan', '2c', 'pics', 'gettin', 'shagged', 'text', 'pix', '8552', '2end', 'send', 'stop', '8552', 'sam', 'xxx', 'forwarded', '88877', 'free', 'entry', '250', 'weekly', 'comp', 'send', 'word', 'enter', '88877', '18', 'c', 'www', 'textcomp', 'com', '88066', '88066', 'lost', '3pound', 'help', 'mobile', '11mths', 'update', 'free', 'oranges', 'latest', 'colour', 'camera', 'mobiles', 'unlimited', 'weekend', 'calls', 'call', 'mobile', 'upd8', 'freefone', '08000839402', '2stoptx', '1', 'new', 'message', 'please', 'call', '08718738034', 'forwarded', '21870000', 'hi', 'mailbox', 'messaging', 'sms', 'alert', '4', 'messages', '21', 'matches', 'please', 'call', 'back', '09056242159', 'retrieve', 'messages', 'matches', 'moby', 'pub', 'quiz', 'win', '100', 'high', 'street', 'prize', 'u', 'know', 'new', 'duchess', 'cornwall', 'txt', 'first', 'name', '82277', 'unsub', 'stop', '1', '50', '008704050406', 'sp', 'arrow', 'nokia', '7250i', 'get', 'win', 'free', 'auction', 'take', 'part', 'send', 'nokia', '86021', 'hg', 'suite342', '2lands', 'row', 'w1jhl', '16', 'congratulations', 'thanks', 'good', 'friend', 'u', '2', '000', 'xmas', 'prize', '2', 'claim', 'easy', 'call', '08718726971', '10p', 'per', 'minute', 'bt', 'national', 'rate', 'tddnewsletter', 'emc1', 'co', 'uk', 'games', 'thedailydraw', 'dear', 'helen', 'dozens', 'free', 'games', 'great', 'prizeswith', 'urgent', 'mobile', 'number', '2000', 'bonus', 'caller', 'prize', '10', '06', '03', '2nd', 'attempt', 'reach', 'call', '09066368753', 'asap', 'box', '97n7qp', '150ppm', 'double', 'mins', 'txts', 'orange', '1', '2', 'price', 'linerental', 'motorola', 'sonyericsson', 'b', 'tooth', 'free', 'nokia', 'free', 'call', 'mobileupd8', '08000839402', 'or2optout', 'hv9d', 'download', 'many', 'ringtones', 'u', 'like', 'restrictions', '1000s', '2', 'choose', 'u', 'even', 'send', '2', 'yr', 'buddys', 'txt', 'sir', '80082', '3', 'please', 'call', '08712402902', 'immediately', 'urgent', 'message', 'waiting', 'spook', 'mob', 'halloween', 'collection', 'logo', 'pic', 'message', 'plus', 'free', 'eerie', 'tone', 'txt', 'card', 'spook', '8007', 'zed', '08701417012150p', 'per', 'logo', 'pic', 'fantasy', 'football', 'back', 'tv', 'go', 'sky', 'gamestar', 'sky', 'active', 'play', '250k', 'dream', 'team', 'scoring', 'starts', 'saturday', 'register', 'sky', 'opt', '88088', 'tone', 'club', 'subs', 'expired', '2', 'sub', 'reply', 'monoc', '4', 'monos', 'polyc', '4', 'polys', '1', 'weekly', '150p', 'per', 'week', 'txt', 'stop', '2', 'stop', 'msg', 'free', 'stream', '0871212025016', 'xmas', 'prize', 'draws', 'trying', 'contact', 'u', 'todays', 'draw', 'shows', '2000', 'prize', 'guaranteed', 'call', '09058094565', 'land', 'line', 'valid', '12hrs', 'yes', 'place', 'town', 'meet', 'exciting', 'adult', 'singles', 'uk', 'txt', 'chat', '86688', '150p', 'msg', 'someone', 'contacted', 'dating', 'service', 'entered', 'phone', 'becausethey', 'fancy', 'find', 'call', 'landline', '09058098002', 'pobox1', 'w14rg', '150p', 'babe', 'u', 'want', 'dont', 'u', 'baby', 'im', 'nasty', 'thing', '4', 'filthyguys', 'fancy', 'rude', 'time', 'sexy', 'bitch', 'go', 'slo', 'n', 'hard', 'txt', 'xxx', 'slo', '4msgs', 'sms', 'services', 'inclusive', 'text', 'credits', 'pls', 'gotto', 'www', 'comuk', 'net', 'login', '3qxj9', 'unsubscribe', 'stop', 'extra', 'charge', 'help', '08702840625', 'comuk', '220cm2', '9ae', 'valentines', 'day', 'special', 'win', '1000', 'quiz', 'take', 'partner', 'trip', 'lifetime', 'send', 'go', '83600', '150p', 'msg', 'rcvd', 'custcare', '08718720201', 'guess', 'first', 'time', 'created', 'web', 'page', 'www', 'asjesus', 'com', 'read', 'wrote', 'waiting', 'opinions', 'want', 'friend', '1', '1', 'ur', 'chance', 'win', '250', 'cash', 'every', 'wk', 'txt', 'play', '83370', 'c', 'www', 'music', 'trivia', 'net', 'custcare', '08715705022', '1x150p', 'wk', 'sppok', 'ur', 'mob', 'halloween', 'collection', 'nokia', 'logo', 'pic', 'message', 'plus', 'free', 'eerie', 'tone', 'txt', 'card', 'spook', '8007', 'urgent', 'call', '09066612661', 'landline', 'complementary', '4', 'tenerife', 'holiday', '10', '000', 'cash', 'await', 'collection', 'sae', 'cs', 'po', 'box', '3', 'wa14', '2px', '150ppm', '18', 'sender', 'hol', 'offer', 'winner', 'valued', 'network', 'customer', 'hvae', 'selected', 'receive', '900', 'reward', 'collect', 'call', '09061701444', 'valid', '24', 'hours', 'acl03530150pm', 'u', 'nokia', '6230', 'plus', 'free', 'digital', 'camera', 'u', 'get', 'u', 'win', 'free', 'auction', 'take', 'part', 'send', 'nokia', '83383', 'pobox114', '14tcr', 'w1', '16', 'free', 'entry', '250', 'weekly', 'comp', 'send', 'word', 'win', '80086', '18', 'c', 'www', 'txttowin', 'co', 'uk', 'text82228', 'get', 'ringtones', 'logos', 'games', 'www', 'txt82228', 'com', 'questions', 'info', 'txt82228', 'co', 'uk', 'freemsg', 'awarded', 'free', 'mini', 'digital', 'camera', 'reply', 'snap', 'collect', 'prize', 'quizclub', 'opt', 'stop', '80122300p', 'wk', 'sp', 'rwm', 'ph', '08704050406', 'message', 'brought', 'gmw', 'ltd', 'connected', 'congrats', '2', 'mobile', '3g', 'videophones', 'r', 'call', '09063458130', 'videochat', 'wid', 'ur', 'mates', 'play', 'java', 'games', 'dload', 'polyph', 'music', 'noline', 'rentl', 'bx420', 'ip4', '5we', '150p', 'next', 'amazing', 'xxx', 'picsfree1', 'video', 'sent', 'enjoy', 'one', 'vid', 'enough', '2day', 'text', 'back', 'keyword', 'picsfree1', 'get', 'next', 'video', 'u', 'subscribed', 'best', 'mobile', 'content', 'service', 'uk', '3', 'per', 'ten', 'days', 'send', 'stop', '83435', 'helpline', '08706091795', '3', 'free', 'tarot', 'texts', 'find', 'love', 'life', 'try', '3', 'free', 'text', 'chance', '85555', '16', '3', 'free', 'msgs', '1', '50', 'join', 'uk', 'horniest', 'dogging', 'service', 'u', 'sex', '2nite', 'sign', 'follow', 'instructions', 'txt', 'entry', '69888', 'nyt', 'ec2a', '3lp', 'msg', '150p', 'knock', 'knock', 'txt', 'whose', '80082', 'enter', 'r', 'weekly', 'draw', '4', '250', 'gift', 'voucher', '4', 'store', 'yr', 'choice', 'cs', 'www', 'tkls', 'com', 'age16', 'stoptxtstop', '1', '50', 'week', 'forwarded', '21870000', 'hi', 'mailbox', 'messaging', 'sms', 'alert', '40', 'matches', 'please', 'call', 'back', '09056242159', 'retrieve', 'messages', 'matches', 'cc100p', 'min', 'free', 'ring', 'tone', 'text', 'polys', '87131', 'every', 'week', 'get', 'new', 'tone', '0870737910216yrs', '1', '50', 'wk', 'urgent', 'mobile', '077xxx', '2', '000', 'bonus', 'caller', 'prize', '02', '06', '03', '2nd', 'attempt', 'reach', 'call', '09066362206', 'asap', 'box97n7qp', '150ppm', 'guaranteed', 'latest', 'nokia', 'phone', '40gb', 'ipod', 'mp3', 'player', '500', 'prize', 'txt', 'word', 'collect', '83355', 'ibhltd', 'ldnw15h', '150p', 'mtmsgrcvd18', 'hello', 'darling', 'today', 'would', 'love', 'chat', 'dont', 'tell', 'look', 'like', 'sexy', '8007', 'free', '1st', 'week', 'no1', 'nokia', 'tone', '4', 'ur', 'mob', 'every', 'week', 'txt', 'nokia', '8007', 'get', 'txting', 'tell', 'ur', 'mates', 'www', 'getzed', 'co', 'uk', 'pobox', '36504', 'w4', '5wq', 'norm', '150p', 'tone', '16', 'wanna', 'get', 'laid', '2nite', 'want', 'real', 'dogging', 'locations', 'sent', 'direct', 'ur', 'mobile', 'join', 'uk', 'largest', 'dogging', 'network', 'txt', 'park', '69696', 'nyt', 'ec2a', '3lp', '1', '50', 'msg', 'tried', 'contact', 'response', 'offer', 'new', 'nokia', 'fone', 'camcorder', 'hit', 'reply', 'call', '08000930705', 'delivery', 'new', 'tones', 'week', 'include', '1', 'mcfly', 'ab', '2', 'sara', 'jorge', 'shock', '3', 'smith', 'switch', 'order', 'follow', 'instructions', 'next', 'message', 'urgent', 'trying', 'contact', 'u', 'todays', 'draw', 'shows', '800', 'prize', 'guaranteed', 'call', '09050003091', 'land', 'line', 'claim', 'c52', 'valid', '12hrs', 'sports', 'fans', 'get', 'latest', 'sports', 'news', 'str', '2', 'ur', 'mobile', '1', 'wk', 'free', 'plus', 'free', 'tone', 'txt', 'sport', '8007', 'www', 'getzed', 'co', 'uk', '0870141701216', 'norm', '4txt', '120p', 'urgent', 'urgent', '800', 'free', 'flights', 'europe', 'give', 'away', 'call', 'b4', '10th', 'sept', 'take', 'friend', '4', 'free', 'call', 'claim', '09050000555', 'ba128nnfwfly150ppm', '88066', 'lost', '12', 'help', 'freemsg', 'fancy', 'flirt', 'reply', 'date', 'join', 'uks', 'fastest', 'growing', 'mobile', 'dating', 'service', 'msgs', 'rcvd', '25p', 'optout', 'txt', 'stop', '83021', 'reply', 'date', 'great', 'new', 'offer', 'double', 'mins', 'double', 'txt', 'best', 'orange', 'tariffs', 'get', 'latest', 'camera', 'phones', '4', 'free', 'call', 'mobileupd8', 'free', '08000839402', '2stoptxt', 'cs', 'hope', 'enjoyed', 'new', 'content', 'text', 'stop', '61610', 'unsubscribe', 'help', '08712400602450p', 'provided', 'tones2you', 'co', 'uk', 'urgent', 'please', 'call', '09066612661', 'landline', '5000', 'cash', 'luxury', '4', 'canary', 'islands', 'holiday', 'await', 'collection', 'cs', 'sae', 'award', '20m12aq', '150ppm', '16', 'urgent', 'please', 'call', '09066612661', 'landline', 'complimentary', '4', 'lux', 'costa', 'del', 'sol', 'holiday', '1000', 'cash', 'await', 'collection', 'ppm', '150', 'sae', 'cs', 'james', '28', 'eh74rr', 'married', 'local', 'women', 'looking', 'discreet', 'action', '5', 'real', 'matches', 'instantly', 'phone', 'text', 'match', '69969', 'msg', 'cost', '150p', '2', 'stop', 'txt', 'stop', 'bcmsfwc1n3xx', 'burger', 'king', 'wanna', 'play', 'footy', 'top', 'stadium', 'get', '2', 'burger', 'king', '1st', 'sept', 'go', 'large', 'super', 'coca', 'cola', 'walk', 'winner', 'come', 'takes', 'little', 'time', 'child', 'afraid', 'dark', 'become', 'teenager', 'wants', 'stay', 'night', 'ur', 'chance', 'win', '250', 'cash', 'every', 'wk', 'txt', 'action', '80608', 'c', 'www', 'movietrivia', 'tv', 'custcare', '08712405022', '1x150p', 'wk', 'u', 'bin', 'awarded', '50', 'play', '4', 'instant', 'cash', 'call', '08715203028', 'claim', 'every', '9th', 'player', 'wins', 'min', '50', '500', 'optout', '08718727870', 'freemsg', 'fav', 'xmas', 'tones', 'reply', 'real', 'december', 'mobile', '11mths', 'entitled', 'update', 'latest', 'colour', 'camera', 'mobile', 'free', 'call', 'mobile', 'update', 'co', 'free', '08002986906', 'gr8', 'poly', 'tones', '4', 'mobs', 'direct', '2u', 'rply', 'poly', 'title', '8007', 'eg', 'poly', 'breathe1', 'titles', 'crazyin', 'sleepingwith', 'finest', 'ymca', 'getzed', 'co', 'uk', 'pobox365o4w45wq', '300p', 'interflora', 'late', 'order', 'interflora', 'flowers', 'christmas', 'call', '0800', '505060', 'place', 'order', 'midnight', 'tomorrow', 'romcapspam', 'everyone', 'around', 'responding', 'well', 'presence', 'since', 'warm', 'outgoing', 'bringing', 'real', 'breath', 'sunshine', 'congratulations', 'thanks', 'good', 'friend', 'u', '2', '000', 'xmas', 'prize', '2', 'claim', 'easy', 'call', '08712103738', '10p', 'per', 'minute', 'bt', 'national', 'rate', 'send', 'logo', '2', 'ur', 'lover', '2', 'names', 'joined', 'heart', 'txt', 'love', 'name1', 'name2', 'mobno', 'eg', 'love', 'adam', 'eve', '07123456789', '87077', 'yahoo', 'pobox36504w45wq', 'txtno', '4', 'ads', '150p', 'tkts', 'euro2004', 'cup', 'final', '800', 'cash', 'collect', 'call', '09058099801', 'b4190604', 'pobox', '7876150ppm', 'free', 'message', 'jamster', 'get', 'crazy', 'frog', 'sound', 'poly', 'text', 'mad1', 'real', 'text', 'mad2', '88888', '6', 'crazy', 'sounds', '3', 'gbp', 'week', '16', 'c', 'apply', 'chance', 'reality', 'fantasy', 'show', 'call', '08707509020', '20p', 'per', 'min', 'ntt', 'ltd', 'po', 'box', '1327', 'croydon', 'cr9', '5wb', '0870', 'national', 'rate', 'call', 'adult', '18', 'content', 'video', 'shortly', 'chance', 'reality', 'fantasy', 'show', 'call', '08707509020', '20p', 'per', 'min', 'ntt', 'ltd', 'po', 'box', '1327', 'croydon', 'cr9', '5wb', '0870', 'national', 'rate', 'call', 'hey', 'boys', 'want', 'hot', 'xxx', 'pics', 'sent', 'direct', '2', 'ur', 'phone', 'txt', 'porn', '69855', '24hrs', 'free', '50p', 'per', 'day', 'stop', 'text', 'stopbcm', 'sf', 'wc1n3xx', 'pdate', 'double', 'mins', '1000', 'txts', 'orange', 'tariffs', 'latest', 'motorola', 'sonyericsson', 'nokia', 'bluetooth', 'free', 'call', 'mobileupd8', '08000839402', 'call2optout', 'yhl', 'ur', 'cash', 'balance', 'currently', '500', 'pounds', 'maximize', 'ur', 'cash', 'send', 'cash', '86688', '150p', 'msg', 'cc', '08718720201', 'po', 'box', '114', '14', 'tcr', 'w1', 'urgent', 'mobile', 'number', 'awarded', '2000', 'prize', 'guaranteed', 'call', '09058094454', 'land', 'line', 'claim', '3030', 'valid', '12hrs', 'sorry', 'u', 'unsubscribe', 'yet', 'mob', 'offer', 'package', 'min', 'term', '54', 'weeks', 'pls', 'resubmit', 'request', 'expiry', 'reply', 'themob', 'help', '4', 'info', '1', 'new', 'message', 'please', 'call', '08712400200', 'currently', 'message', 'awaiting', 'collection', 'collect', 'message', 'call', '08718723815', 'urgent', 'mobile', 'awarded', '1', '500', 'bonus', 'caller', 'prize', '27', '6', '03', 'final', 'attempt', '2', 'contact', 'u', 'call', '08714714011', 'ever', 'notice', 'driving', 'anyone', 'going', 'slower', 'idiot', 'everyone', 'driving', 'faster', 'maniac', 'xmas', 'offer', 'latest', 'motorola', 'sonyericsson', 'nokia', 'free', 'bluetooth', 'dvd', 'double', 'mins', '1000', 'txt', 'orange', 'call', 'mobileupd8', '08000839402', 'call2optout', '4qf2', 'reply', 'win', '100', 'weekly', 'professional', 'sport', 'tiger', 'woods', 'play', 'send', 'stop', '87239', 'end', 'service', '1', 'polyphonic', 'tone', '4', 'ur', 'mob', 'every', 'week', 'txt', 'pt2', '87575', '1st', 'tone', 'free', 'get', 'txtin', 'tell', 'ur', 'friends', '150p', 'tone', '16', 'reply', 'hl', '4info', 'message', 'free', 'welcome', 'new', 'improved', 'sex', 'dogging', 'club', 'unsubscribe', 'service', 'reply', 'stop', 'msgs', '150p', '18', 'update', '12mths', 'half', 'price', 'orange', 'line', 'rental', '400mins', 'call', 'mobileupd8', '08000839402', 'call2optout', 'j5q', 'free', 'unlimited', 'hardcore', 'porn', 'direct', '2', 'mobile', 'txt', 'porn', '69200', 'get', 'free', 'access', '24', 'hrs', 'chrgd', '50p', 'per', 'day', 'txt', 'stop', '2exit', 'msg', 'free', 'unsubscribed', 'services', 'get', 'tons', 'sexy', 'babes', 'hunks', 'straight', 'phone', 'go', 'http', 'gotbabes', 'co', 'uk', 'subscriptions', 'hi', 'babe', 'jordan', 'r', 'u', 'im', 'home', 'abroad', 'lonely', 'text', 'back', 'u', 'wanna', 'chat', 'xxsp', 'visionsms', 'com', 'text', 'stop', 'stopcost', '150p', '08712400603', 'get', 'brand', 'new', 'mobile', 'phone', 'agent', 'mob', 'plus', 'loads', 'goodies', 'info', 'text', 'mat', '87021', 'lord', 'rings', 'return', 'king', 'store', 'reply', 'lotr', '2', 'june', '4', 'chance', '2', 'win', 'lotr', 'soundtrack', 'cds', 'stdtxtrate', 'reply', 'stop', 'end', 'txts', 'good', 'luck', 'draw', 'takes', 'place', '28th', 'feb', '06', 'good', 'luck', 'removal', 'send', 'stop', '87239', 'customer', 'services', '08708034412', '1st', 'wk', 'free', 'gr8', 'tones', 'str8', '2', 'u', 'wk', 'txt', 'nokia', '8007', 'classic', 'nokia', 'tones', 'hit', '8007', 'polys', 'nokia', '150p', 'poly', '200p', '16', 'lookatme', 'thanks', 'purchase', 'video', 'clip', 'lookatme', 'charged', '35p', 'think', 'better', 'send', 'video', 'mmsto', '32323', 'sexy', 'sexy', 'cum', 'text', 'im', 'wet', 'warm', 'ready', 'porn', 'u', 'fun', 'msg', 'free', 'recd', 'msgs', '150p', 'inc', 'vat', '2', 'cancel', 'text', 'stop', '2nd', 'time', 'tried', 'contact', 'u', 'u', '1450', 'prize', 'claim', 'call', '09053750005', 'b4', '310303', 'cs', 'stop', 'sms', '08718725756', '140ppm', 'dear', 'voucher', 'holder', 'claim', 'weeks', 'offer', 'pc', 'please', 'go', 'http', 'www', 'e', 'tlp', 'co', 'uk', 'reward', 'ts', 'cs', 'apply', '2nd', 'time', 'tried', '2', 'contact', 'u', 'u', '750', 'pound', 'prize', '2', 'claim', 'easy', 'call', '08712101358', '10p', 'per', 'min', 'bt', 'national', 'rate', 'ur', 'awarded', 'city', 'break', 'could', 'win', '200', 'summer', 'shopping', 'spree', 'every', 'wk', 'txt', 'store', '88039', 'skilgme', 'tscs087147403231winawk', 'age16', '1', '50perwksub', 'urgent', 'trying', 'contact', 'u', 'todays', 'draw', 'shows', '2000', 'prize', 'guaranteed', 'call', '09066358361', 'land', 'line', 'claim', 'y87', 'valid', '12hrs', 'thanks', 'ringtone', 'order', 'reference', 'number', 'x29', 'mobile', 'charged', '4', '50', 'tone', 'arrive', 'please', 'call', 'customer', 'services', '09065989180', 'ur', 'cash', 'balance', 'currently', '500', 'pounds', 'maximize', 'ur', 'cash', 'send', 'collect', '83600', '150p', 'msg', 'cc', '08718720201', 'po', 'box', '114', '14', 'tcr', 'w1', 'congratulations', 'thanks', 'good', 'friend', 'u', '2', '000', 'xmas', 'prize', '2', 'claim', 'easy', 'call', '08718726978', '10p', 'per', 'minute', 'bt', 'national', 'rate', '44', '7732584351', 'want', 'new', 'nokia', '3510i', 'colour', 'phone', 'deliveredtomorrow', '300', 'free', 'minutes', 'mobile', '100', 'free', 'texts', 'free', 'camcorder', 'reply', 'call', '08000930705', 'someone', 'u', 'know', 'asked', 'dating', 'service', '2', 'contact', 'cant', 'guess', 'call', '09058097189', 'revealed', 'pobox', '6', 'ls15hb', '150p', 'camera', 'awarded', 'sipix', 'digital', 'camera', 'call', '09061221066', 'fromm', 'landline', 'delivery', 'within', '28', 'days', 'todays', 'voda', 'numbers', 'ending', '5226', 'selected', 'receive', '350', 'award', 'hava', 'match', 'please', 'call', '08712300220', 'quoting', 'claim', 'code', '1131', 'standard', 'rates', 'app', 'message', 'free', 'welcome', 'new', 'improved', 'sex', 'dogging', 'club', 'unsubscribe', 'service', 'reply', 'stop', 'msgs', '150p', '18', 'rct', 'thnq', 'adrian', 'u', 'text', 'rgds', 'vatian', 'contacted', 'dating', 'service', 'someone', 'know', 'find', 'call', 'land', 'line', '09050000928', 'pobox45w2tg150p', 'sorry', 'missed', 'call', 'let', 'talk', 'time', '07090201529', 'complimentary', '4', 'star', 'ibiza', 'holiday', '10', '000', 'cash', 'needs', 'urgent', 'collection', '09066364349', 'landline', 'lose', 'box434sk38wp150ppm18', 'free', 'msg', 'billed', 'mobile', 'number', 'mistake', 'shortcode', '83332', 'please', 'call', '08081263000', 'charges', 'refunded', 'call', 'free', 'bt', 'landline', 'please', 'call', '08712402972', 'immediately', 'urgent', 'message', 'waiting', 'urgent', 'mobile', 'number', 'awarded', '2000', 'bonus', 'caller', 'prize', 'call', '09058095201', 'land', 'line', 'valid', '12hrs', 'want', 'new', 'nokia', '3510i', 'colour', 'phone', 'deliveredtomorrow', '300', 'free', 'minutes', 'mobile', '100', 'free', 'texts', 'free', 'camcorder', 'reply', 'call', '08000930705', 'life', 'never', 'much', 'fun', 'great', 'came', 'made', 'truly', 'special', 'forget', 'enjoy', 'one', 'gbp', 'sms', 'want', 'new', 'video', 'phone', '600', 'anytime', 'network', 'mins', '400', 'inclusive', 'video', 'calls', 'downloads', '5', 'per', 'week', 'free', 'deltomorrow', 'call', '08002888812', 'reply', 'valued', 'customer', 'pleased', 'advise', 'following', 'recent', 'review', 'mob', 'awarded', '1500', 'bonus', 'prize', 'call', '09066368470', 'welcome', 'please', 'reply', 'age', 'gender', 'begin', 'e', 'g', '24m', 'freemsg', '1', 'month', 'unlimited', 'free', 'calls', 'activate', 'smartcall', 'txt', 'call', '68866', 'subscriptn3gbp', 'wk', 'unlimited', 'calls', 'help', '08448714184', 'stop', 'txt', 'stop', 'landlineonly', 'mobile', '10', 'mths', 'update', 'latest', 'orange', 'camera', 'video', 'phones', 'free', 'save', 'free', 'texts', 'weekend', 'calls', 'text', 'yes', 'callback', 'orno', 'opt', 'new', '2', 'club', 'dont', 'fink', 'met', 'yet', 'b', 'gr8', '2', 'c', 'u', 'please', 'leave', 'msg', '2day', 'wiv', 'ur', 'area', '09099726553', 'reply', 'promised', 'carlie', 'x', 'calls', '1', 'minmobsmore', 'lkpobox177hp51fl', 'camera', 'awarded', 'sipix', 'digital', 'camera', 'call', '09061221066', 'fromm', 'landline', 'delivery', 'within', '28', 'days', 'get', 'free', 'mobile', 'video', 'player', 'free', 'movie', 'collect', 'text', 'go', '89105', 'free', 'extra', 'films', 'ordered', 'c', 'apply', '18', 'yrs', 'save', 'money', 'wedding', 'lingerie', 'www', 'bridal', 'petticoatdreams', 'co', 'uk', 'choose', 'superb', 'selection', 'national', 'delivery', 'brought', 'weddingfriend', 'heard', 'u4', 'call', 'night', 'knickers', 'make', 'beg', 'like', 'u', 'last', 'time', '01223585236', 'xx', 'luv', 'nikiyu4', 'net', 'bloomberg', 'message', 'center', '447797706009', 'wait', 'apply', 'future', 'http', 'careers', 'bloomberg', 'com', 'want', 'new', 'video', 'phone750', 'anytime', 'network', 'mins', '150', 'text', 'five', 'pounds', 'per', 'week', 'call', '08000776320', 'reply', 'delivery', 'tomorrow', 'contacted', 'dating', 'service', 'someone', 'know', 'find', 'call', 'land', 'line', '09050000878', 'pobox45w2tg150p', 'wan2', 'win', 'meet', 'greet', 'westlife', '4', 'u', 'm8', 'currently', 'tour', '1', 'unbreakable', '2', 'untamed', '3', 'unkempt', 'text', '1', '2', '3', '83049', 'cost', '50p', 'std', 'text', 'dorothy', 'kiefer', 'com', 'bank', 'granite', 'issues', 'strong', 'buy', 'explosive', 'pick', 'members', '300', 'nasdaq', 'symbol', 'cdgt', '5', '00', 'per', '1000', 'winner', 'guaranteed', 'caller', 'prize', 'final', 'attempt', 'contact', 'claim', 'call', '09071517866', '150ppmpobox10183bhamb64xe', 'xmas', 'new', 'years', 'eve', 'tickets', 'sale', 'club', 'day', '10am', 'till', '8pm', 'thurs', 'fri', 'sat', 'night', 'week', 'selling', 'fast', 'rock', 'yr', 'chik', 'get', '100', 'filthy', 'films', 'xxx', 'pics', 'yr', 'phone', 'rply', 'filth', '69669', 'saristar', 'ltd', 'e14', '9yt', '08701752560', '450p', 'per', '5', 'days', 'stop2', 'cancel', 'next', 'month', 'get', 'upto', '50', 'calls', '4', 'ur', 'standard', 'network', 'charge', '2', 'activate', 'call', '9061100010', 'c', 'wire3', 'net', '1st4terms', 'pobox84', 'm26', '3uz', 'cost', '1', '50', 'min', 'mobcudb', 'urgent', 'trying', 'contact', 'u', 'todays', 'draw', 'shows', '800', 'prize', 'guaranteed', 'call', '09050000460', 'land', 'line', 'claim', 'j89', 'po', 'box245c2150pm', 'text', 'banneduk', '89555', 'see', 'cost', '150p', 'textoperator', 'g696ga', '18', 'xxx', 'auction', 'round', '4', 'highest', 'bid', '54', 'next', 'maximum', 'bid', '71', 'bid', 'send', 'bids', 'e', 'g', '10', 'bid', '10', '83383', 'good', 'luck', 'collect', 'valentine', 'weekend', 'paris', 'inc', 'flight', 'hotel', '200', 'prize', 'guaranteed', 'text', 'paris', '69101', 'www', 'rtf', 'sphosting', 'com', 'customer', 'loyalty', 'offer', 'new', 'nokia6650', 'mobile', '10', 'txtauction', 'txt', 'word', 'start', '81151', 'get', '4t', 'ctxt', 'tc', '150p', 'mtmsg', 'believe', 'true', 'incredible', 'txts', 'reply', 'g', 'learn', 'truly', 'amazing', 'things', 'blow', 'mind', 'o2fwd', '18p', 'txt', 'hot', 'n', 'horny', 'willing', 'live', 'local', 'text', 'reply', 'hear', 'strt', 'back', '150p', 'per', 'msg', 'netcollex', 'ltdhelpdesk', '02085076972', 'reply', 'stop', 'end', 'want', 'new', 'nokia', '3510i', 'colour', 'phone', 'delivered', 'tomorrow', '200', 'free', 'minutes', 'mobile', '100', 'free', 'text', 'free', 'camcorder', 'reply', 'call', '08000930705', 'congratulations', 'winner', 'august', '1000', 'prize', 'draw', 'call', '09066660100', 'prize', 'code', '2309', '8007', '25p', '4', 'alfie', 'moon', 'children', 'need', 'song', 'ur', 'mob', 'tell', 'ur', 'm8s', 'txt', 'tone', 'charity', '8007', 'nokias', 'poly', 'charity', 'polys', 'zed', '08701417012', 'profit', '2', 'charity', 'get', 'official', 'england', 'poly', 'ringtone', 'colour', 'flag', 'yer', 'mobile', 'tonights', 'game', 'text', 'tone', 'flag', '84199', 'optout', 'txt', 'eng', 'stop', 'box39822', 'w111wx', '1', '50', 'customer', 'service', 'announcement', 'recently', 'tried', 'make', 'delivery', 'unable', 'please', 'call', '07090298926', 'schedule', 'ref', '9307622', 'stop', 'club', 'tones', 'replying', 'stop', 'mix', 'see', 'tone', 'com', 'enjoy', 'html', 'terms', 'club', 'tones', 'cost', 'gbp4', '50', 'week', 'mfl', 'wamma', 'get', 'laid', 'want', 'real', 'doggin', 'locations', 'sent', 'direct', 'mobile', 'join', 'uks', 'largest', 'dogging', 'network', 'txt', 'dogs', '69696', 'nyt', 'ec2a', '3lp', '1', '50', 'msg', 'promotion', 'number', '8714714', 'ur', 'awarded', 'city', 'break', 'could', 'win', '200', 'summer', 'shopping', 'spree', 'every', 'wk', 'txt', 'store', '88039', 'skilgme', 'tscs087147403231winawk', 'age16', '1', '50perwksub', 'winner', 'specially', 'selected', 'receive', '1000', 'cash', '2000', 'award', 'speak', 'live', 'operator', 'claim', 'call', '087147123779am', '7pm', 'cost', '10p', 'thanks', 'ringtone', 'order', 'reference', 'number', 'x49', 'mobile', 'charged', '4', '50', 'tone', 'arrive', 'please', 'call', 'customer', 'services', '09065989182', 'colour', 'red', 'text', 'colour', 'txtstar', 'hi', '2nights', 'ur', 'lucky', 'night', 'uve', 'invited', '2', 'xchat', 'uks', 'wildest', 'chat', 'txt', 'chat', '86688', '150p', 'msgrcvdhg', 'suite342', '2lands', 'row', 'w1j6hl', 'ldn', '18yrs', '2', '2', '146tf150p', 'dear', 'voucher', 'holder', '2', 'claim', '1st', 'class', 'airport', 'lounge', 'passes', 'using', 'holiday', 'voucher', 'call', '08704439680', 'booking', 'quote', '1st', 'class', 'x', '2', 'someone', 'u', 'know', 'asked', 'dating', 'service', '2', 'contact', 'cant', 'guess', 'call', '09058095107', 'revealed', 'pobox', '7', 's3xy', '150p', 'mila', 'age23', 'blonde', 'new', 'uk', 'look', 'sex', 'uk', 'guys', 'u', 'like', 'fun', 'text', 'mtalk', '69866', '18', '30pp', 'txt', '1st', '5free', '1', '50', 'increments', 'help08718728876', 'claim', '200', 'shopping', 'spree', 'call', '08717895698', 'mobstorequiz10ppm', 'want', 'funk', 'ur', 'fone', 'weekly', 'new', 'tone', 'reply', 'tones2u', '2', 'text', 'www', 'ringtones', 'co', 'uk', 'original', 'n', 'best', 'tones', '3gbp', 'network', 'operator', 'rates', 'apply', 'twinks', 'bears', 'scallies', 'skins', 'jocks', 'calling', 'miss', 'weekend', 'fun', 'call', '08712466669', '10p', 'min', '2', 'stop', 'texts', 'call', '08712460324', 'nat', 'rate', 'tried', 'contact', 'reply', 'offer', 'video', 'handset', '750', 'anytime', 'networks', 'mins', 'unlimited', 'text', 'camcorder', 'reply', 'call', '08000930705', 'urgent', 'trying', 'contact', 'last', 'weekends', 'draw', 'shows', '900', 'prize', 'guaranteed', 'call', '09061701851', 'claim', 'code', 'k61', 'valid', '12hours', '74355', 'xmas', 'iscoming', 'ur', 'awarded', 'either', '500', 'cd', 'gift', 'vouchers', 'free', 'entry', '2', 'r', '100', 'weekly', 'draw', 'txt', 'music', '87066', 'tnc', 'congratulations', 'u', 'claim', '2', 'vip', 'row', 'tickets', '2', 'c', 'blu', 'concert', 'november', 'blu', 'gift', 'guaranteed', 'call', '09061104276', 'claim', 'ts', 'cs', 'www', 'smsco', 'net', 'cost', '3', '75max', 'free', 'msg', 'single', 'find', 'partner', 'area', '1000s', 'real', 'people', 'waiting', 'chat', 'send', 'chat', '62220cncl', 'send', 'stopcs', '08717890890', '1', '50', 'per', 'msg', 'win', 'newest', 'harry', 'potter', 'order', 'phoenix', 'book', '5', 'reply', 'harry', 'answer', '5', 'questions', 'chance', 'first', 'among', 'readers', 'free', 'msg', 'ringtone', 'http', 'tms', 'widelive', 'com', 'index', 'wml', 'id', '1b6a5ecef91ff9', '37819', 'first', 'true18', '0430', 'jul', '05', 'oh', 'god', 'found', 'number', 'glad', 'text', 'back', 'xafter', 'msgs', 'cst', 'std', 'ntwk', 'chg', '1', '50', 'link', 'picture', 'sent', 'also', 'use', 'http', 'alto18', 'co', 'uk', 'wave', 'wave', 'asp', '44345', 'double', 'mins', '1000', 'txts', 'orange', 'tariffs', 'latest', 'motorola', 'sonyericsson', 'nokia', 'bluetooth', 'free', 'call', 'mobileupd8', '08000839402', 'call2optout', 'hf8', 'urgent', '2nd', 'attempt', 'contact', 'u', '900', 'prize', 'yesterday', 'still', 'awaiting', 'collection', 'claim', 'call', '09061702893', 'acl03530150pm', 'dear', 'dave', 'final', 'notice', 'collect', '4', 'tenerife', 'holiday', '5000', 'cash', 'award', 'call', '09061743806', 'landline', 'tcs', 'sae', 'box326', 'cw25wx', '150ppm', 'tells', 'u', '2', 'call', '09066358152', 'claim', '5000', 'prize', 'u', '2', 'enter', 'ur', 'mobile', 'personal', 'details', 'prompts', 'careful', '2004', 'account', '07xxxxxxxxx', 'shows', '786', 'unredeemed', 'points', 'claim', 'call', '08719181259', 'identifier', 'code', 'xxxxx', 'expires', '26', '03', '05', 'want', 'new', 'video', 'handset', '750', 'anytime', 'network', 'mins', 'half', 'price', 'line', 'rental', 'camcorder', 'reply', 'call', '08000930705', 'delivery', 'tomorrow', 'free', 'ringtone', 'reply', 'real', 'poly', 'eg', 'real1', '1', 'pushbutton', '2', 'dontcha', '3', 'babygoodbye', '4', 'golddigger', '5', 'webeburnin', '1st', 'tone', 'free', '6', 'u', 'join', '3', 'wk', 'free', 'msg', 'get', 'gnarls', 'barkleys', 'crazy', 'ringtone', 'totally', 'free', 'reply', 'go', 'message', 'right', 'refused', 'loan', 'secured', 'unsecured', 'get', 'credit', 'call', 'free', '0800', '195', '6669', 'text', 'back', 'help', 'specially', 'selected', 'receive', '3000', 'award', 'call', '08712402050', 'lines', 'close', 'cost', '10ppm', '16', 'cs', 'apply', 'ag', 'promo', 'valued', 'vodafone', 'customer', 'computer', 'picked', 'win', '150', 'prize', 'collect', 'easy', 'call', '09061743386', 'free', 'video', 'camera', 'phones', 'half', 'price', 'line', 'rental', '12', 'mths', '500', 'cross', 'ntwk', 'mins', '100', 'txts', 'call', 'mobileupd8', '08001950382', 'call2optout', '674', 'ringtoneking', '84484', 'ringtone', 'club', 'gr8', 'new', 'polys', 'direct', 'mobile', 'every', 'week', 'bank', 'granite', 'issues', 'strong', 'buy', 'explosive', 'pick', 'members', '300', 'nasdaq', 'symbol', 'cdgt', '5', '00', 'per', 'bored', 'housewives', 'chat', 'n', 'date', '0871750', '77', '11', 'bt', 'national', 'rate', '10p', 'min', 'landlines', 'tried', 'call', 'reply', 'sms', 'video', 'mobile', '750', 'mins', 'unlimited', 'text', 'free', 'camcorder', 'reply', 'call', '08000930705', 'del', 'thurs', '2nd', 'time', 'tried', 'contact', 'u', 'u', '400', 'prize', '2', 'claim', 'easy', 'call', '087104711148', '10p', 'per', 'minute', 'bt', 'national', 'rate', 'receiving', 'week', 'triple', 'echo', 'ringtone', 'shortly', 'enjoy', 'u', 'selected', 'stay', '1', '250', 'top', 'british', 'hotels', 'nothing', 'holiday', 'valued', '350', 'dial', '08712300220', 'claim', 'national', 'rate', 'call', 'bx526', 'sw73ss', 'chosen', 'receive', '350', 'award', 'pls', 'call', 'claim', 'number', '09066364311', 'collect', 'award', 'selected', 'receive', 'valued', 'mobile', 'customer', 'win', '1000', 'cash', 'prize', 'prize', 'worth', '5000', 'thanks', 'ringtone', 'order', 'reference', 'number', 'x49', 'mobile', 'charged', '4', '50', 'tone', 'arrive', 'please', 'call', 'customer', 'services', '09065989182', 'moby', 'pub', 'quiz', 'win', '100', 'high', 'street', 'prize', 'u', 'know', 'new', 'duchess', 'cornwall', 'txt', 'first', 'name', '82277', 'unsub', 'stop', '1', '50', '008704050406', 'sp', 'weeks', 'savamob', 'member', 'offers', 'accessible', 'call', '08709501522', 'details', 'savamob', 'pobox', '139', 'la3', '2wu', '1', '50', 'week', 'savamob', 'offers', 'mobile', 'contacted', 'dating', 'service', 'someone', 'know', 'find', 'call', 'mobile', 'landline', '09064017305', 'pobox75ldns7', 'tbs', 'persolvo', 'chasing', 'us', 'since', 'sept', '38', 'definitely', 'paying', 'thanks', 'information', 'ignore', 'kath', 'manchester', 'loans', 'purpose', 'even', 'bad', 'credit', 'tenants', 'welcome', 'call', 'noworriesloans', 'com', '08717111821', '87077', 'kick', 'new', 'season', '2wks', 'free', 'goals', 'news', 'ur', 'mobile', 'txt', 'ur', 'club', 'name', '87077', 'eg', 'villa', '87077', 'orange', 'brings', 'ringtones', 'time', 'chart', 'heroes', 'free', 'hit', 'week', 'go', 'ringtones', 'pics', 'wap', 'stop', 'receiving', 'tips', 'reply', 'stop', 'private', '2003', 'account', 'statement', '07973788240', 'shows', '800', 'un', 'redeemed', 'points', 'call', '08715203649', 'identifier', 'code', '40533', 'expires', '31', '10', '04', 'tried', 'call', 'reply', 'sms', 'video', 'mobile', '750', 'mins', 'unlimited', 'text', 'free', 'camcorder', 'reply', 'call', '08000930705', 'gsoh', 'good', 'spam', 'ladies', 'u', 'could', 'b', 'male', 'gigolo', '2', 'join', 'uk', 'fastest', 'growing', 'mens', 'club', 'reply', 'oncall', 'mjzgroup', '08714342399', '2stop', 'reply', 'stop', 'msg', '1', '50rcvd', 'hot', 'live', 'fantasies', 'call', '08707500020', '20p', 'per', 'min', 'ntt', 'ltd', 'po', 'box', '1327', 'croydon', 'cr9', '5wb', '0870', 'national', 'rate', 'call', 'urgent', 'mobile', 'number', 'awarded', 'ukp', '2000', 'prize', 'guaranteed', 'call', '09061790125', 'landline', 'claim', '3030', 'valid', '12hrs', '150ppm', 'spjanuary', 'male', 'sale', 'hot', 'gay', 'chat', 'cheaper', 'call', '08709222922', 'national', 'rate', '1', '5p', 'min', 'cheap', '7', '8p', 'min', 'peak', 'stop', 'texts', 'call', '08712460324', '10p', 'min', 'freemsg', 'today', 'day', 'ready', 'horny', 'live', 'town', 'love', 'sex', 'fun', 'games', 'netcollex', 'ltd', '08700621170150p', 'per', 'msg', 'reply', 'stop', 'end', 'simpsons', 'movie', 'released', 'july', '2007', 'name', 'band', 'died', 'start', 'film', 'green', 'day', 'b', 'blue', 'day', 'c', 'red', 'day', 'send', 'b', 'c', 'please', 'call', 'amanda', 'regard', 'renewing', 'upgrading', 'current', 'mobile', 'handset', 'free', 'charge', 'offer', 'ends', 'today', 'tel', '0845', '021', '3680', 'subject', 'c', 'want', 'new', 'video', 'phone', '750', 'anytime', 'network', 'mins', 'half', 'price', 'line', 'rental', 'free', 'text', '3', 'months', 'reply', 'call', '08000930705', 'free', 'delivery', 'dear', 'voucher', 'holder', 'claim', 'weeks', 'offer', 'pc', 'please', 'go', 'http', 'www', 'wtlp', 'co', 'uk', 'text', 'ts', 'cs', 'apply', 'urgent', 'please', 'call', '0906346330', 'abta', 'complimentary', '4', 'spanish', 'holiday', '10', '000', 'cash', 'await', 'collection', 'sae', 'cs', 'box', '47', 'po19', '2ez', '150ppm', '18', 'cmon', 'babe', 'make', 'horny', 'turn', 'txt', 'fantasy', 'babe', 'im', 'hot', 'sticky', 'need', 'replies', 'cost', '1', '50', '2', 'cancel', 'send', 'stop', 'important', 'information', '4', 'orange', 'user', '0796xxxxxx', 'today', 'ur', 'lucky', 'day', '2', 'find', 'log', 'onto', 'http', 'www', 'urawinner', 'com', 'fantastic', 'prizeawaiting', 'missed', 'call', 'alert', 'numbers', 'called', 'left', 'message', '07008009200', 'freemsg', 'records', 'indicate', 'may', 'entitled', '3750', 'pounds', 'accident', 'claim', 'free', 'reply', 'yes', 'msg', 'opt', 'text', 'stop', 'show', 'ur', 'colours', 'euro', '2004', '2', '4', '1', 'offer', 'get', 'england', 'flag', '3lions', 'tone', 'ur', 'phone', 'click', 'following', 'service', 'message', 'info', 'text', 'pass', '69669', 'collect', 'polyphonic', 'ringtones', 'normal', 'gprs', 'charges', 'apply', 'enjoy', 'tones', 'accordingly', 'repeat', 'text', 'word', 'ok', 'mobile', 'phone', 'send', 'block', 'breaker', 'comes', 'deluxe', 'format', 'new', 'features', 'great', 'graphics', 'mobile', 'buy', '5', 'replying', 'get', 'bbdeluxe', 'take', 'challenge', 'important', 'information', '4', 'orange', 'user', 'today', 'lucky', 'day', '2find', 'log', 'onto', 'http', 'www', 'urawinner', 'com', 'fantastic', 'surprise', 'awaiting', 'natalja', '25', 'f', 'inviting', 'friend', 'reply', 'yes', '440', '440', 'see', 'www', 'sms', 'ac', 'u', 'nat27081980', 'stop', 'send', 'stop', 'frnd', '62468', 'urgent', 'important', 'information', '02', 'user', 'today', 'lucky', 'day', '2', 'find', 'log', 'onto', 'http', 'www', 'urawinner', 'com', 'fantastic', 'surprise', 'awaiting', 'kit', 'strip', 'billed', '150p', 'netcollex', 'ltd', 'po', 'box', '1013', 'ig11', 'oja', 'please', 'call', '08712402578', 'immediately', 'urgent', 'message', 'waiting', 'thesmszone', 'com', 'lets', 'send', 'free', 'anonymous', 'masked', 'messages', 'im', 'sending', 'message', 'see', 'potential', 'abuse', 'congrats', '2', 'mobile', '3g', 'videophones', 'r', 'call', '09061744553', 'videochat', 'wid', 'ur', 'mates', 'play', 'java', 'games', 'dload', 'polyh', 'music', 'noline', 'rentl', 'bx420', 'ip4', '5we', '150pm', 'important', 'information', '4', 'orange', 'user', '0789xxxxxxx', 'today', 'lucky', 'day', '2find', 'log', 'onto', 'http', 'www', 'urawinner', 'com', 'fantastic', 'surprise', 'awaiting', 'dating', 'service', 'asked', '2', 'contact', 'u', 'someone', 'shy', 'call', '09058091870', 'revealed', 'pobox84', 'm26', '3uz', '150p', 'want', 'new', 'video', 'handset', '750', 'time', 'network', 'mins', 'unlimited', 'text', 'camcorder', 'reply', 'call', '08000930705', 'del', 'sat', 'ur', 'balance', '600', 'next', 'question', 'complete', 'landmark', 'big', 'bob', 'b', 'barry', 'c', 'ben', 'text', 'b', 'c', '83738', 'good', 'luck', 'ur', 'tonexs', 'subscription', 'renewed', 'charged', '4', '50', 'choose', '10', 'polys', 'month', 'www', 'clubzed', 'co', 'uk', 'billing', 'msg', 'prize', 'go', 'another', 'customer', 'c', 'www', 'c', 'biz', '18', '150p', 'min', 'polo', 'ltd', 'suite', '373', 'london', 'w1j', '6hl', 'please', 'call', 'back', 'busy', 'want', 'new', 'nokia', '3510i', 'colour', 'phone', 'delivered', 'tomorrow', '200', 'free', 'minutes', 'mobile', '100', 'free', 'text', 'free', 'camcorder', 'reply', 'call', '8000930705', 'recpt', '1', '3', 'ordered', 'ringtone', 'order', 'processed', 'one', 'registered', 'subscribers', 'u', 'enter', 'draw', '4', '100', 'g', 'b', 'gift', 'voucher', 'replying', 'enter', 'unsubscribe', 'text', 'stop', 'chance', 'win', 'free', 'bluetooth', 'headset', 'simply', 'reply', 'back', 'adp', 'b', 'floppy', 'b', 'snappy', 'happy', 'gay', 'chat', 'service', 'photo', 'upload', 'call', '08718730666', '10p', 'min', '2', 'stop', 'texts', 'call', '08712460324', 'welcome', 'uk', 'mobile', 'date', 'msg', 'free', 'giving', 'free', 'calling', '08719839835', 'future', 'mgs', 'billed', '150p', 'daily', 'cancel', 'send', 'go', 'stop', '89123', '3', 'received', 'mobile', 'content', 'enjoy', 'want', 'explicit', 'sex', '30', 'secs', 'ring', '02073162414', 'costs', '20p', 'min', 'latest', 'nokia', 'mobile', 'ipod', 'mp3', 'player', '400', 'proze', 'guaranteed', 'reply', 'win', '83355', 'norcorp', 'ltd', '1', '50', 'mtmsgrcvd18', 'sms', 'services', 'inclusive', 'text', 'credits', 'pls', 'goto', 'www', 'comuk', 'net', 'login', '3qxj9', 'unsubscribe', 'stop', 'extra', 'charge', 'help', '08702840625', 'comuk', '220', 'cm2', '9ae', 'mobile', 'club', 'choose', 'top', 'quality', 'items', 'mobile', '7cfca1a', 'money', 'wining', 'number', '946', 'wot', 'next', 'want', 'cock', 'hubby', 'away', 'need', 'real', 'man', '2', 'satisfy', 'txt', 'wife', '89938', 'strings', 'action', 'txt', 'stop', '2', 'end', 'txt', 'rec', '1', '50ea', 'otbox', '731', 'la1', '7ws', 'gr8', 'new', 'service', 'live', 'sex', 'video', 'chat', 'mob', 'see', 'sexiest', 'dirtiest', 'girls', 'live', 'ur', 'phone', '4', 'details', 'text', 'horny', '89070', 'cancel', 'send', 'stop', '89070', 'freemsg', 'hi', 'baby', 'wow', 'got', 'new', 'cam', 'moby', 'wanna', 'c', 'hot', 'pic', 'fancy', 'chat', 'im', 'w8in', '4utxt', 'rply', 'chat', '82242', 'hlp', '08712317606', 'msg150p', '2rcv', 'wanna', 'laugh', 'try', 'chit', 'chat', 'mobile', 'logon', 'txting', 'word', 'chat', 'send', '8883', 'cm', 'po', 'box', '4217', 'london', 'w1a', '6zf', '16', '118p', 'msg', 'rcvd', 'urgent', '2nd', 'attempt', 'contact', 'u', 'u', '1000call', '09071512432', 'b4', '300603t', 'csbcm4235wc1n3xx', 'callcost150ppmmobilesvary', 'max', '7', '50', 'congratulations', 'ur', 'awarded', '500', 'cd', 'vouchers', '125gift', 'guaranteed', 'free', 'entry', '2', '100', 'wkly', 'draw', 'txt', 'music', '87066', 'contract', 'mobile', '11', 'mnths', 'latest', 'motorola', 'nokia', 'etc', 'free', 'double', 'mins', 'text', 'orange', 'tariffs', 'text', 'yes', 'callback', 'remove', 'records', 'urgent', 'call', '09066350750', 'landline', 'complimentary', '4', 'ibiza', 'holiday', '10', '000', 'cash', 'await', 'collection', 'sae', 'cs', 'po', 'box', '434', 'sk3', '8wp', '150', 'ppm', '18', 'u', 'secret', 'admirer', 'looking', '2', 'make', 'contact', 'u', 'find', 'r', 'reveal', 'thinks', 'ur', 'special', 'call', '09065171142', 'stopsms', '08718727870150ppm', 'freemsg', 'txt', 'call', '86888', 'claim', 'reward', '3', 'hours', 'talk', 'time', 'use', 'phone', 'subscribe6gbp', 'mnth', 'inc', '3hrs', '16', 'stop', 'txtstop', 'sunshine', 'quiz', 'win', 'super', 'sony', 'dvd', 'recorder', 'canname', 'capital', 'australia', 'text', 'mquiz', '82277', 'b', 'todays', 'voda', 'numbers', 'ending', '7634', 'selected', 'receive', '350', 'reward', 'match', 'please', 'call', '08712300220', 'quoting', 'claim', 'code', '7684', 'standard', 'rates', 'apply', 'ripped', 'get', 'mobile', 'content', 'www', 'clubmoby', 'com', 'call', '08717509990', 'poly', 'true', 'pix', 'ringtones', 'games', 'six', 'downloads', '3', 'tried', 'contact', 'reply', 'offer', 'video', 'phone', '750', 'anytime', 'network', 'mins', 'half', 'price', 'line', 'rental', 'camcorder', 'reply', 'call', '08000930705', '400', 'xmas', 'reward', 'waiting', 'computer', 'randomly', 'picked', 'loyal', 'mobile', 'customers', 'receive', '400', 'reward', 'call', '09066380611', 'private', '2003', 'account', 'statement', 'shows', '800', 'un', 'redeemed', 'points', 'call', '08718738002', 'identifier', 'code', '48922', 'expires', '21', '11', '04', 'customer', 'service', 'announcement', 'recently', 'tried', 'make', 'delivery', 'unable', 'please', 'call', '07099833605', 'schedule', 'ref', '9280114', 'hi', 'babe', 'chloe', 'r', 'u', 'smashed', 'saturday', 'night', 'great', 'weekend', 'u', 'missing', 'sp', 'visionsms', 'com', 'text', 'stop', 'stop', '150p', 'text', 'urgent', 'mobile', '07808726822', 'awarded', '2', '000', 'bonus', 'caller', 'prize', '02', '09', '03', '2nd', 'attempt', 'contact', 'call', '0871', '872', '9758', 'box95qu', 'free', 'game', 'get', 'rayman', 'golf', '4', 'free', 'o2', 'games', 'arcade', '1st', 'get', 'ur', 'games', 'settings', 'reply', 'post', 'save', 'activ8', 'press', '0', 'key', 'arcade', 'termsapply', 'mobile', '10', 'mths', 'update', 'latest', 'camera', 'video', 'phones', 'free', 'keep', 'ur', 'number', 'get', 'extra', 'free', 'mins', 'texts', 'text', 'yes', 'call', 'weekly', 'cool', 'mob', 'tones', 'ready', 'download', 'weeks', 'new', 'tones', 'include', '1', 'crazy', 'frog', 'axel', 'f', '2', 'akon', 'lonely', '3', 'black', 'eyed', 'dont', 'p', 'info', 'n', 'cashbin', 'co', 'uk', 'get', 'lots', 'cash', 'weekend', 'www', 'cashbin', 'co', 'uk', 'dear', 'welcome', 'weekend', 'got', 'biggest', 'best', 'ever', 'cash', 'give', 'away', 'thanks', '4', 'continued', 'support', 'question', 'week', 'enter', 'u', 'in2', 'draw', '4', '100', 'cash', 'name', 'new', 'us', 'president', 'txt', 'ans', '80082', 'unique', 'user', 'id', '1172', 'removal', 'send', 'stop', '87239', 'customer', 'services', '08708034412', 'urgent', 'call', '09066649731from', 'landline', 'complimentary', '4', 'ibiza', 'holiday', '10', '000', 'cash', 'await', 'collection', 'sae', 'cs', 'po', 'box', '434', 'sk3', '8wp', '150ppm', '18', 'urgent', '2nd', 'attempt', 'contact', 'u', '900', 'prize', 'yesterday', 'still', 'awaiting', 'collection', 'claim', 'call', '09061702893', 'santa', 'calling', 'would', 'little', 'ones', 'like', 'call', 'santa', 'xmas', 'eve', 'call', '09077818151', 'book', 'time', 'calls1', '50ppm', 'last', '3mins', '30s', 'c', 'www', 'santacalling', 'com', 'private', '2004', 'account', 'statement', '078498', '7', 'shows', '786', 'unredeemed', 'bonus', 'points', 'claim', 'call', '08719180219', 'identifier', 'code', '45239', 'expires', '06', '05', '05', 'check', 'choose', 'babe', 'videos', 'sms', 'shsex', 'netun', 'fgkslpopw', 'fgkslpo', 'u', 'r', 'winner', 'u', 'ave', 'specially', 'selected', '2', 'receive', '1000', 'cash', '4', 'holiday', 'flights', 'inc', 'speak', 'live', 'operator', '2', 'claim', '0871277810710p', 'min', '18', 'new', 'mobiles', '2004', 'must', 'go', 'txt', 'nokia', '89545', 'collect', 'today', '1', 'www', '4', 'tc', 'biz', '2optout', '087187262701', '50gbp', 'mtmsg18', 'txtauction', 'private', '2003', 'account', 'statement', 'shows', '800', 'un', 'redeemed', 'points', 'call', '08715203652', 'identifier', 'code', '42810', 'expires', '29', '10', '0', 'valued', 'vodafone', 'customer', 'computer', 'picked', 'win', '150', 'prize', 'collect', 'easy', 'call', '09061743386', 'free', 'message', 'thanks', 'using', 'auction', 'subscription', 'service', '18', '150p', 'msgrcvd', '2', 'skip', 'auction', 'txt', '2', 'unsubscribe', 'txt', 'stop', 'customercare', '08718726270', 'lyricalladie', '21', 'f', 'inviting', 'friend', 'reply', 'yes', '910', '910', 'see', 'www', 'sms', 'ac', 'u', 'hmmross', 'stop', 'send', 'stop', 'frnd', '62468', 'want', 'latest', 'video', 'handset', '750', 'anytime', 'network', 'mins', 'half', 'price', 'line', 'rental', 'reply', 'call', '08000930705', 'delivery', 'tomorrow', 'ou', 'guaranteed', 'latest', 'nokia', 'phone', '40gb', 'ipod', 'mp3', 'player', '500', 'prize', 'txt', 'word', 'collect', '83355', 'ibhltd', 'ldnw15h', '150p', 'mtmsgrcvd18', 'free', 'polyphonic', 'ringtone', 'text', 'super', '87131', 'get', 'free', 'poly', 'tone', 'week', '16', 'sn', 'pobox202', 'nr31', '7zs', 'subscription', '450pw', 'warner', 'village', '83118', 'c', 'colin', 'farrell', 'swat', 'wkend', 'warner', 'village', 'get', '1', 'free', 'med', 'popcorn', 'show', 'msg', 'ticket', 'kiosk', 'valid', '4', '7', '12', 'c', 'c', 'kiosk', 'reply', 'sony', '4', 'mre', 'film', 'offers', 'goal', 'arsenal', '4', 'henry', '7', 'v', 'liverpool', '2', 'henry', 'scores', 'simple', 'shot', '6', 'yards', 'pass', 'bergkamp', 'give', 'arsenal', '2', 'goal', 'margin', '78', 'mins', 'hi', 'sexychat', 'girls', 'waiting', 'text', 'text', 'great', 'night', 'chatting', 'send', 'stop', 'stop', 'service', 'hi', 'amy', 'sending', 'free', 'phone', 'number', 'couple', 'days', 'give', 'access', 'adult', 'parties', 'welcome', 'select', 'o2', 'service', 'added', 'benefits', 'call', 'specially', 'trained', 'advisors', 'free', 'mobile', 'dialling', '402', 'dear', 'voucher', 'holder', 'next', 'meal', 'us', 'use', 'following', 'link', 'pc', '2', 'enjoy', '2', '4', '1', 'dining', 'experiencehttp', 'www', 'vouch4me', 'com', 'etlp', 'dining', 'asp', 'urgent', 'trying', 'contact', 'u', 'todays', 'draw', 'shows', '2000', 'prize', 'guaranteed', 'call', '09058094507', 'land', 'line', 'claim', '3030', 'valid', '12hrs', 'donate', '2', '50', 'unicef', 'asian', 'tsunami', 'disaster', 'support', 'fund', 'texting', 'donate', '864233', '2', '50', 'added', 'next', 'bill', 'goldviking', '29', 'inviting', 'friend', 'reply', 'yes', '762', '762', 'see', 'www', 'sms', 'ac', 'u', 'goldviking', 'stop', 'send', 'stop', 'frnd', '62468', 'phony', '350', 'award', 'todays', 'voda', 'numbers', 'ending', 'xxxx', 'selected', 'receive', '350', 'award', 'match', 'please', 'call', '08712300220', 'quoting', 'claim', 'code', '3100', 'standard', 'rates', 'app', 'cds', '4u', 'congratulations', 'ur', 'awarded', '500', 'cd', 'gift', 'vouchers', '125', 'gift', 'guaranteed', 'freeentry', '2', '100', 'wkly', 'draw', 'xt', 'music', '87066', 'tncs', 'www', 'ldew', 'com1win150ppmx3age16', 'guaranteed', '1000', 'cash', '2000', 'prize', 'claim', 'yr', 'prize', 'call', 'customer', 'service', 'representative', '08714712412', '10am', '7pm', 'cost', '10p', 'dear', '0776xxxxxxx', 'u', 'invited', 'xchat', 'final', 'attempt', 'contact', 'u', 'txt', 'chat', '86688', '150p', 'msgrcvdhg', 'suite342', '2lands', 'row', 'w1j6hl', 'ldn', '18yrs', 'ur', 'cash', 'balance', 'currently', '500', 'pounds', 'maximize', 'ur', 'cash', 'send', 'go', '86688', '150p', 'meg', 'cc', '08718720201', 'hg', 'suite342', '2lands', 'row', 'w1j6hl', 'private', '2003', 'account', 'statement', 'shows', '800', 'un', 'redeemed', 'points', 'call', '08715203685', 'identifier', 'code', '4xx26', 'expires', '13', '10', '04', 'like', 'tell', 'deepest', 'darkest', 'fantasies', 'call', '09094646631', '60p', 'min', 'stop', 'texts', 'call', '08712460324', 'nat', 'rate', 'natalie', '20', 'f', 'inviting', 'friend', 'reply', 'yes', '165', '165', 'see', 'www', 'sms', 'ac', 'u', 'natalie2k9', 'stop', 'send', 'stop', 'frnd', '62468', 'jamster', 'get', 'free', 'wallpaper', 'text', 'heart', '88888', 'c', 'apply', '16', 'need', 'help', 'call', '08701213186', 'free', 'video', 'camera', 'phones', 'half', 'price', 'line', 'rental', '12', 'mths', '500', 'cross', 'ntwk', 'mins', '100', 'txts', 'call', 'mobileupd8', '08001950382', 'call2optout', '674', '83039', '62735', '450', 'uk', 'break', 'accommodationvouchers', 'terms', 'conditions', 'apply', '2', 'claim', 'mustprovide', 'claim', 'number', '15541', '5p', '4', 'alfie', 'moon', 'children', 'need', 'song', 'ur', 'mob', 'tell', 'ur', 'm8s', 'txt', 'tone', 'charity', '8007', 'nokias', 'poly', 'charity', 'polys', 'zed', '08701417012', 'profit', '2', 'charity', 'win', '200', 'shopping', 'spree', 'every', 'week', 'starting', '2', 'play', 'text', 'store', '88039', 'skilgme', 'tscs08714740323', '1winawk', 'age16', '1', '50perweeksub', '2nd', 'attempt', 'contract', 'u', 'weeks', 'top', 'prize', 'either', '1000', 'cash', '200', 'prize', 'call', '09066361921', 'want', 'new', 'nokia', '3510i', 'colour', 'phone', 'deliveredtomorrow', '300', 'free', 'minutes', 'mobile', '100', 'free', 'texts', 'free', 'camcorder', 'reply', 'call', '08000930705', 'themob', 'hit', 'link', 'get', 'premium', 'pink', 'panther', 'game', 'new', '1', 'sugababes', 'crazy', 'zebra', 'animation', 'badass', 'hoody', 'wallpaper', '4', 'free', 'msg', 'mobile', 'content', 'order', 'resent', 'previous', 'attempt', 'failed', 'due', 'network', 'error', 'queries', 'customersqueries', 'netvision', 'uk', 'com', '1', 'new', 'message', 'please', 'call', '08715205273', 'december', 'mobile', '11mths', 'entitled', 'update', 'latest', 'colour', 'camera', 'mobile', 'free', 'call', 'mobile', 'update', 'vco', 'free', '08002986906', 'get', '3', 'lions', 'england', 'tone', 'reply', 'lionm', '4', 'mono', 'lionp', '4', 'poly', '4', 'go', '2', 'www', 'ringtones', 'co', 'uk', 'original', 'n', 'best', 'tones', '3gbp', 'network', 'operator', 'rates', 'apply', 'private', '2003', 'account', 'statement', '078', '4', 'costa', 'del', 'sol', 'holiday', '5000', 'await', 'collection', 'call', '09050090044', 'toclaim', 'sae', 'tc', 'pobox334', 'stockport', 'sk38xh', 'cost', '1', '50', 'pm', 'max10mins', 'get', 'garden', 'ready', 'summer', 'free', 'selection', 'summer', 'bulbs', 'seeds', 'worth', '33', '50', 'scotsman', 'saturday', 'stop', 'go2', 'notxt', 'co', 'uk', 'sms', 'auction', 'brand', 'new', 'nokia', '7250', '4', 'auction', 'today', 'auction', 'free', '2', 'join', 'take', 'part', 'txt', 'nokia', '86021', 'ree', 'entry', '2', 'weekly', 'comp', 'chance', 'win', 'ipod', 'txt', 'pod', '80182', 'get', 'entry', 'std', 'txt', 'rate', 'c', 'apply', '08452810073', 'details', '18', 'records', 'indicate', 'u', 'maybe', 'entitled', '5000', 'pounds', 'compensation', 'accident', 'claim', '4', 'free', 'reply', 'claim', 'msg', '2', 'stop', 'txt', 'stop', 'spook', 'mob', 'halloween', 'collection', 'logo', 'pic', 'message', 'plus', 'free', 'eerie', 'tone', 'txt', 'card', 'spook', '8007', 'zed', '08701417012150p', 'per', 'logo', 'pic', 'call', 'germany', '1', 'pence', 'per', 'minute', 'call', 'fixed', 'line', 'via', 'access', 'number', '0844', '861', '85', '85', 'prepayment', 'direct', 'access', 'www', 'telediscount', 'co', 'uk', 'mobile', '11mths', 'update', 'free', 'oranges', 'latest', 'colour', 'camera', 'mobiles', 'unlimited', 'weekend', 'calls', 'call', 'mobile', 'upd8', 'freefone', '08000839402', '2stoptxt', 'private', '2003', 'account', 'statement', 'fone', 'shows', '800', 'un', 'redeemed', 'points', 'call', '08715203656', 'identifier', 'code', '42049', 'expires', '26', '10', '04', 'someonone', 'know', 'trying', 'contact', 'via', 'dating', 'service', 'find', 'could', 'call', 'mobile', 'landline', '09064015307', 'box334sk38ch', 'urgent', 'please', 'call', '09061213237', 'landline', '5000', 'cash', '4', 'holiday', 'await', 'collection', 'cs', 'sae', 'po', 'box', '177', 'm227xy', '16', 'prize', 'go', 'another', 'customer', 'c', 'www', 'c', 'biz', '18', '150p', 'min', 'polo', 'ltd', 'suite', '373', 'london', 'w1j', '6hl', 'please', 'call', 'back', 'busy', 'urgent', 'mobile', 'number', 'awarded', '2000', 'prize', 'guaranteed', 'call', '09061790126', 'land', 'line', 'claim', '3030', 'valid', '12hrs', '150ppm', 'urgent', 'please', 'call', '09061213237', 'landline', '5000', 'cash', 'luxury', '4', 'canary', 'islands', 'holiday', 'await', 'collection', 'cs', 'sae', 'po', 'box', '177', 'm227xy', '150ppm', '16', 'xmas', 'iscoming', 'ur', 'awarded', 'either', '500', 'cd', 'gift', 'vouchers', 'free', 'entry', '2', 'r', '100', 'weekly', 'draw', 'txt', 'music', '87066', 'tnc', 'www', 'ldew', 'com1win150ppmx3age16subscription', 'u', 'r', 'subscribed', '2', 'textcomp', '250', 'wkly', 'comp', '1st', 'wk', 'free', 'question', 'follows', 'subsequent', 'wks', 'charged', '150p', 'msg', '2', 'unsubscribe', 'txt', 'stop', '2', '84128', 'custcare', '08712405020', 'call', '09095350301', 'send', 'girls', 'erotic', 'ecstacy', '60p', 'min', 'stop', 'texts', 'call', '08712460324', 'nat', 'rate', '400', 'xmas', 'reward', 'waiting', 'computer', 'randomly', 'picked', 'loyal', 'mobile', 'customers', 'receive', '400', 'reward', 'call', '09066380611', 'important', 'message', 'final', 'contact', 'attempt', 'important', 'messages', 'waiting', 'customer', 'claims', 'dept', 'expires', '13', '4', '04', 'call', '08717507382', 'dating', 'two', 'started', 'sent', 'text', 'talk', 'sport', 'radio', 'last', 'week', 'connection', 'think', 'coincidence', 'current', 'leading', 'bid', '151', 'pause', 'auction', 'send', 'customer', 'care', '08718726270', 'free', 'entry', 'gr8prizes', 'wkly', 'comp', '4', 'chance', 'win', 'latest', 'nokia', '8800', 'psp', '250', 'cash', 'every', 'wk', 'txt', 'great', '80878', 'http', 'www', 'gr8prizes', 'com', '08715705022', '1', 'new', 'message', 'call', '0207', '083', '6089', 'santa', 'calling', 'would', 'little', 'ones', 'like', 'call', 'santa', 'xmas', 'eve', 'call', '09058094583', 'book', 'time', 'guaranteed', '32000', 'award', 'maybe', 'even', '1000', 'cash', 'claim', 'ur', 'award', 'call', 'free', '0800', '18', 'legitimat', 'efreefone', 'number', 'wat', 'u', 'think', 'latest', 'news', 'police', 'station', 'toilet', 'stolen', 'cops', 'nothing', 'go', 'sparkling', 'shopping', 'breaks', '45', 'per', 'person', 'call', '0121', '2025050', 'visit', 'www', 'shortbreaks', 'org', 'uk', 'txt', 'call', '86888', 'claim', 'reward', '3', 'hours', 'talk', 'time', 'use', 'phone', 'subscribe6gbp', 'mnth', 'inc', '3hrs', '16', 'stop', 'txtstop', 'www', 'gamb', 'tv', 'http', 'tms', 'widelive', 'com', 'index', 'wml', 'id', '820554ad0a1705572711', 'first', 'true', 'c', 'c', 'ringtone', 'urgent', 'last', 'weekend', 'draw', 'shows', '1000', 'cash', 'spanish', 'holiday', 'call', '09050000332', 'claim', 'c', 'rstm', 'sw7', '3ss', '150ppm', 'urgent', 'trying', 'contact', 'last', 'weekends', 'draw', 'shows', 'u', '1000', 'prize', 'guaranteed', 'call', '09064017295', 'claim', 'code', 'k52', 'valid', '12hrs', '150p', 'pm', '2p', 'per', 'min', 'call', 'germany', '08448350055', 'bt', 'line', '2p', 'per', 'min', 'check', 'planettalkinstant', 'com', 'info', 'c', 'text', 'stop', 'opt', 'marvel', 'mobile', 'play', 'official', 'ultimate', 'spider', 'man', 'game', '4', '50', 'ur', 'mobile', 'right', 'text', 'spider', '83338', 'game', 'send', 'u', 'free', '8ball', 'wallpaper', 'private', '2003', 'account', 'statement', '07808247860', 'shows', '800', 'un', 'redeemed', 'points', 'call', '08719899229', 'identifier', 'code', '40411', 'expires', '06', '11', '04', 'private', '2003', 'account', 'statement', 'shows', '800', 'un', 'redeemed', 'points', 'call', '08718738001', 'identifier', 'code', '49557', 'expires', '26', '11', '04', 'want', 'explicit', 'sex', '30', 'secs', 'ring', '02073162414', 'costs', '20p', 'min', 'gsex', 'pobox', '2667', 'wc1n', '3xx', 'asked', '3mobile', '0870', 'chatlines', 'inclu', 'free', 'mins', 'india', 'cust', 'servs', 'sed', 'yes', 'l8er', 'got', 'mega', 'bill', '3', 'dont', 'giv', 'shit', 'bailiff', 'due', 'days', '250', '3', 'want', '800', 'contract', 'mobile', '11', 'mnths', 'latest', 'motorola', 'nokia', 'etc', 'free', 'double', 'mins', 'text', 'orange', 'tariffs', 'text', 'yes', 'callback', 'remove', 'records', 'reminder', 'o2', 'get', '2', '50', 'pounds', 'free', 'call', 'credit', 'details', 'great', 'offers', 'pls', 'reply', '2', 'text', 'valid', 'name', 'house', 'postcode', '2nd', 'time', 'tried', '2', 'contact', 'u', 'u', '750', 'pound', 'prize', '2', 'claim', 'easy', 'call', '087187272008', 'now1', '10p', 'per', 'minute', 'bt', 'national', 'rate']\n"
          ]
        }
      ],
      "source": [
        "from collections import Counter\n",
        "import matplotlib.pyplot as plt\n",
        "spam_corpus= []\n",
        "for msg in df[df['Class']== 1]['Cleaned_text'].tolist():\n",
        "    for word in msg.split():\n",
        "        spam_corpus.append(word)\n",
        "print(spam_corpus)"
      ]
    },
    {
      "attachments": {},
      "cell_type": "markdown",
      "metadata": {
        "id": "1hPfzAT2Wmch"
      },
      "source": [
        "# **Model Building**"
      ]
    },
    {
      "cell_type": "code",
      "execution_count": null,
      "metadata": {
        "id": "UxLaITPpWnyA"
      },
      "outputs": [],
      "source": [
        "from sklearn.feature_extraction.text import CountVectorizer , TfidfVectorizer\n",
        "tf= TfidfVectorizer(max_features=3000)\n",
        "X = tf.fit_transform(df['Cleaned_text']).toarray()"
      ]
    },
    {
      "cell_type": "code",
      "execution_count": null,
      "metadata": {
        "colab": {
          "base_uri": "https://localhost:8080/"
        },
        "id": "ySATxKo0WsHl",
        "outputId": "3c679ff3-dee8-4803-e189-2152bb5b49f8"
      },
      "outputs": [
        {
          "data": {
            "text/plain": [
              "(5169, 3000)"
            ]
          },
          "execution_count": 141,
          "metadata": {},
          "output_type": "execute_result"
        }
      ],
      "source": [
        "X.shape"
      ]
    },
    {
      "cell_type": "code",
      "execution_count": null,
      "metadata": {
        "id": "gQJvTzF5WtiW"
      },
      "outputs": [],
      "source": [
        "y = df['Class'].values"
      ]
    },
    {
      "cell_type": "code",
      "execution_count": null,
      "metadata": {
        "id": "7FzxvCQfWvz-"
      },
      "outputs": [],
      "source": [
        "from sklearn.model_selection import train_test_split\n",
        "X_train,X_test,y_train,y_test=train_test_split(X,y,test_size=0.2,random_state=42,stratify=y)"
      ]
    },
    {
      "cell_type": "code",
      "execution_count": null,
      "metadata": {
        "id": "90VIt2I-W21H"
      },
      "outputs": [],
      "source": [
        "from sklearn.naive_bayes import GaussianNB , MultinomialNB , BernoulliNB\n",
        "from sklearn.metrics import accuracy_score, confusion_matrix,precision_score\n",
        "gnb=GaussianNB()\n",
        "mnb=MultinomialNB()\n",
        "bnb=BernoulliNB()"
      ]
    },
    {
      "cell_type": "code",
      "execution_count": null,
      "metadata": {
        "colab": {
          "base_uri": "https://localhost:8080/"
        },
        "id": "AKqD3CLTW-8f",
        "outputId": "3487d1d9-b799-4d1c-e407-1a191de2c92d"
      },
      "outputs": [
        {
          "name": "stdout",
          "output_type": "stream",
          "text": [
            "              precision    recall  f1-score   support\n",
            "\n",
            "         Ham       0.98      0.88      0.93       903\n",
            "        Spam       0.52      0.88      0.65       131\n",
            "\n",
            "    accuracy                           0.88      1034\n",
            "   macro avg       0.75      0.88      0.79      1034\n",
            "weighted avg       0.92      0.88      0.89      1034\n",
            "\n"
          ]
        }
      ],
      "source": [
        "#Gaussian Naive Bayes algorithm\n",
        "from sklearn.metrics import classification_report\n",
        "gnb.fit(X_train,y_train)\n",
        "y_pred_gnb = gnb.predict(X_test)\n",
        "print(classification_report(y_test,y_pred_gnb,target_names=['Ham','Spam']))"
      ]
    },
    {
      "cell_type": "code",
      "execution_count": null,
      "metadata": {
        "colab": {
          "base_uri": "https://localhost:8080/"
        },
        "id": "P0xUDiIQXAPn",
        "outputId": "f1534f43-7ef9-4c89-90b7-6de2a38c157b"
      },
      "outputs": [
        {
          "name": "stdout",
          "output_type": "stream",
          "text": [
            "              precision    recall  f1-score   support\n",
            "\n",
            "         Ham       0.98      1.00      0.99       903\n",
            "        Spam       0.99      0.83      0.90       131\n",
            "\n",
            "    accuracy                           0.98      1034\n",
            "   macro avg       0.98      0.92      0.95      1034\n",
            "weighted avg       0.98      0.98      0.98      1034\n",
            "\n"
          ]
        }
      ],
      "source": [
        "#Multinomial Naive Bayes algorithm\n",
        "mnb.fit(X_train,y_train)\n",
        "y_pred_mnb = mnb.predict(X_test)\n",
        "print(classification_report(y_test,y_pred_mnb,target_names=['Ham','Spam']))"
      ]
    },
    {
      "cell_type": "code",
      "execution_count": null,
      "metadata": {
        "colab": {
          "base_uri": "https://localhost:8080/"
        },
        "id": "zpN-IwoeXDyQ",
        "outputId": "726eee59-6e3a-4635-cf8a-5b3790640e6f"
      },
      "outputs": [
        {
          "name": "stdout",
          "output_type": "stream",
          "text": [
            "              precision    recall  f1-score   support\n",
            "\n",
            "         Ham       0.99      1.00      0.99       903\n",
            "        Spam       0.99      0.92      0.95       131\n",
            "\n",
            "    accuracy                           0.99      1034\n",
            "   macro avg       0.99      0.96      0.97      1034\n",
            "weighted avg       0.99      0.99      0.99      1034\n",
            "\n"
          ]
        }
      ],
      "source": [
        "#Bernoulli naive Bayes algorithm\n",
        "bnb.fit(X_train,y_train)\n",
        "y_pred_bnb = bnb.predict(X_test)\n",
        "print(classification_report(y_test,y_pred_bnb,target_names=['Ham','Spam']))"
      ]
    },
    {
      "attachments": {},
      "cell_type": "markdown",
      "metadata": {
        "id": "NH9DXU9cXKlr"
      },
      "source": [
        "## **Choosing/Testing Best Model**"
      ]
    },
    {
      "cell_type": "code",
      "execution_count": null,
      "metadata": {
        "id": "bJw3SiDyXMCK"
      },
      "outputs": [],
      "source": [
        "from sklearn.linear_model import LogisticRegression\n",
        "from sklearn.svm import SVC\n",
        "from sklearn.naive_bayes import MultinomialNB\n",
        "from sklearn.tree import DecisionTreeClassifier\n",
        "from sklearn.neighbors import KNeighborsClassifier\n",
        "from sklearn.ensemble import RandomForestClassifier\n",
        "from sklearn.ensemble import GradientBoostingClassifier"
      ]
    },
    {
      "cell_type": "code",
      "execution_count": null,
      "metadata": {
        "id": "IHoqfPHsXNWA"
      },
      "outputs": [],
      "source": [
        "svc = SVC(kernel='sigmoid', gamma=1.0)\n",
        "knc = KNeighborsClassifier()\n",
        "mnb = MultinomialNB()\n",
        "dtc = DecisionTreeClassifier(max_depth=5)\n",
        "lrc = LogisticRegression(solver='liblinear', penalty='l1')\n",
        "rfc = RandomForestClassifier(n_estimators=50, random_state=2)\n",
        "gbdt = GradientBoostingClassifier(n_estimators=50,random_state=2)\n"
      ]
    },
    {
      "cell_type": "code",
      "execution_count": null,
      "metadata": {
        "id": "DBPi2a0nXOtx"
      },
      "outputs": [],
      "source": [
        "clfs = {\n",
        "    'SVC' : svc,\n",
        "    'KN' : knc, \n",
        "    'NB': mnb, \n",
        "    'DT': dtc, \n",
        "    'LR': lrc, \n",
        "    'RF': rfc, \n",
        "    'GBDT':gbdt,\n",
        "}"
      ]
    },
    {
      "cell_type": "code",
      "execution_count": null,
      "metadata": {
        "id": "X4ZgiL5vXP_Y"
      },
      "outputs": [],
      "source": [
        "def train_classifier(clf,X_train,y_train,X_test,y_test):\n",
        "    clf.fit(X_train,y_train)\n",
        "    y_pred = clf.predict(X_test)\n",
        "    accuracy = accuracy_score(y_test,y_pred)\n",
        "    precision = precision_score(y_test,y_pred)\n",
        "    return accuracy,precision"
      ]
    },
    {
      "cell_type": "code",
      "execution_count": null,
      "metadata": {
        "colab": {
          "base_uri": "https://localhost:8080/"
        },
        "id": "sLrxcGFRXSOQ",
        "outputId": "57359ed1-ef8b-44b1-a1b3-ab592806d666"
      },
      "outputs": [
        {
          "name": "stdout",
          "output_type": "stream",
          "text": [
            "For  SVC :\n",
            "Accuracy =  0.9738878143133463\n",
            "Precision =  0.9482758620689655\n",
            "For  KN :\n",
            "Accuracy =  0.9052224371373307\n",
            "Precision =  1.0\n",
            "For  NB :\n",
            "Accuracy =  0.9777562862669246\n",
            "Precision =  0.990909090909091\n",
            "For  DT :\n",
            "Accuracy =  0.9400386847195358\n",
            "Precision =  0.822429906542056\n",
            "For  LR :\n",
            "Accuracy =  0.9526112185686654\n",
            "Precision =  0.9183673469387755\n",
            "For  RF :\n",
            "Accuracy =  0.9738878143133463\n",
            "Precision =  0.9642857142857143\n",
            "For  GBDT :\n",
            "Accuracy =  0.965183752417795\n",
            "Precision =  0.9439252336448598\n"
          ]
        }
      ],
      "source": [
        "accuracy_scores = []\n",
        "precision_scores = []\n",
        "\n",
        "for name,clf in clfs.items():\n",
        "    current_accuracy,current_precision = train_classifier(clf, X_train,y_train,X_test,y_test)\n",
        "    print(\"For \",name,\":\")\n",
        "    print(\"Accuracy = \",current_accuracy)\n",
        "    print(\"Precision = \",current_precision)\n",
        "    accuracy_scores.append(current_accuracy)\n",
        "    precision_scores.append(current_precision)"
      ]
    },
    {
      "attachments": {},
      "cell_type": "markdown",
      "metadata": {
        "id": "m0eTzyJvebRY"
      },
      "source": [
        "## **Assessing top 2 Models**"
      ]
    },
    {
      "cell_type": "code",
      "execution_count": null,
      "metadata": {
        "colab": {
          "base_uri": "https://localhost:8080/",
          "height": 108
        },
        "id": "HIGMdPATXXpa",
        "outputId": "a433426e-cc5f-4634-9574-5ebba784c9de"
      },
      "outputs": [
        {
          "data": {
            "text/html": [
              "<style>#sk-container-id-3 {color: black;background-color: white;}#sk-container-id-3 pre{padding: 0;}#sk-container-id-3 div.sk-toggleable {background-color: white;}#sk-container-id-3 label.sk-toggleable__label {cursor: pointer;display: block;width: 100%;margin-bottom: 0;padding: 0.3em;box-sizing: border-box;text-align: center;}#sk-container-id-3 label.sk-toggleable__label-arrow:before {content: \"▸\";float: left;margin-right: 0.25em;color: #696969;}#sk-container-id-3 label.sk-toggleable__label-arrow:hover:before {color: black;}#sk-container-id-3 div.sk-estimator:hover label.sk-toggleable__label-arrow:before {color: black;}#sk-container-id-3 div.sk-toggleable__content {max-height: 0;max-width: 0;overflow: hidden;text-align: left;background-color: #f0f8ff;}#sk-container-id-3 div.sk-toggleable__content pre {margin: 0.2em;color: black;border-radius: 0.25em;background-color: #f0f8ff;}#sk-container-id-3 input.sk-toggleable__control:checked~div.sk-toggleable__content {max-height: 200px;max-width: 100%;overflow: auto;}#sk-container-id-3 input.sk-toggleable__control:checked~label.sk-toggleable__label-arrow:before {content: \"▾\";}#sk-container-id-3 div.sk-estimator input.sk-toggleable__control:checked~label.sk-toggleable__label {background-color: #d4ebff;}#sk-container-id-3 div.sk-label input.sk-toggleable__control:checked~label.sk-toggleable__label {background-color: #d4ebff;}#sk-container-id-3 input.sk-hidden--visually {border: 0;clip: rect(1px 1px 1px 1px);clip: rect(1px, 1px, 1px, 1px);height: 1px;margin: -1px;overflow: hidden;padding: 0;position: absolute;width: 1px;}#sk-container-id-3 div.sk-estimator {font-family: monospace;background-color: #f0f8ff;border: 1px dotted black;border-radius: 0.25em;box-sizing: border-box;margin-bottom: 0.5em;}#sk-container-id-3 div.sk-estimator:hover {background-color: #d4ebff;}#sk-container-id-3 div.sk-parallel-item::after {content: \"\";width: 100%;border-bottom: 1px solid gray;flex-grow: 1;}#sk-container-id-3 div.sk-label:hover label.sk-toggleable__label {background-color: #d4ebff;}#sk-container-id-3 div.sk-serial::before {content: \"\";position: absolute;border-left: 1px solid gray;box-sizing: border-box;top: 0;bottom: 0;left: 50%;z-index: 0;}#sk-container-id-3 div.sk-serial {display: flex;flex-direction: column;align-items: center;background-color: white;padding-right: 0.2em;padding-left: 0.2em;position: relative;}#sk-container-id-3 div.sk-item {position: relative;z-index: 1;}#sk-container-id-3 div.sk-parallel {display: flex;align-items: stretch;justify-content: center;background-color: white;position: relative;}#sk-container-id-3 div.sk-item::before, #sk-container-id-3 div.sk-parallel-item::before {content: \"\";position: absolute;border-left: 1px solid gray;box-sizing: border-box;top: 0;bottom: 0;left: 50%;z-index: -1;}#sk-container-id-3 div.sk-parallel-item {display: flex;flex-direction: column;z-index: 1;position: relative;background-color: white;}#sk-container-id-3 div.sk-parallel-item:first-child::after {align-self: flex-end;width: 50%;}#sk-container-id-3 div.sk-parallel-item:last-child::after {align-self: flex-start;width: 50%;}#sk-container-id-3 div.sk-parallel-item:only-child::after {width: 0;}#sk-container-id-3 div.sk-dashed-wrapped {border: 1px dashed gray;margin: 0 0.4em 0.5em 0.4em;box-sizing: border-box;padding-bottom: 0.4em;background-color: white;}#sk-container-id-3 div.sk-label label {font-family: monospace;font-weight: bold;display: inline-block;line-height: 1.2em;}#sk-container-id-3 div.sk-label-container {text-align: center;}#sk-container-id-3 div.sk-container {/* jupyter's `normalize.less` sets `[hidden] { display: none; }` but bootstrap.min.css set `[hidden] { display: none !important; }` so we also need the `!important` here to be able to override the default hidden behavior on the sphinx rendered scikit-learn.org. See: https://github.com/scikit-learn/scikit-learn/issues/21755 */display: inline-block !important;position: relative;}#sk-container-id-3 div.sk-text-repr-fallback {display: none;}</style><div id=\"sk-container-id-3\" class=\"sk-top-container\"><div class=\"sk-text-repr-fallback\"><pre>VotingClassifier(estimators=[(&#x27;mnb&#x27;, MultinomialNB()), (&#x27;bnb&#x27;, BernoulliNB())],\n",
              "                 voting=&#x27;soft&#x27;)</pre><b>In a Jupyter environment, please rerun this cell to show the HTML representation or trust the notebook. <br />On GitHub, the HTML representation is unable to render, please try loading this page with nbviewer.org.</b></div><div class=\"sk-container\" hidden><div class=\"sk-item sk-dashed-wrapped\"><div class=\"sk-label-container\"><div class=\"sk-label sk-toggleable\"><input class=\"sk-toggleable__control sk-hidden--visually\" id=\"sk-estimator-id-7\" type=\"checkbox\" ><label for=\"sk-estimator-id-7\" class=\"sk-toggleable__label sk-toggleable__label-arrow\">VotingClassifier</label><div class=\"sk-toggleable__content\"><pre>VotingClassifier(estimators=[(&#x27;mnb&#x27;, MultinomialNB()), (&#x27;bnb&#x27;, BernoulliNB())],\n",
              "                 voting=&#x27;soft&#x27;)</pre></div></div></div><div class=\"sk-parallel\"><div class=\"sk-parallel-item\"><div class=\"sk-item\"><div class=\"sk-label-container\"><div class=\"sk-label sk-toggleable\"><label>mnb</label></div></div><div class=\"sk-serial\"><div class=\"sk-item\"><div class=\"sk-estimator sk-toggleable\"><input class=\"sk-toggleable__control sk-hidden--visually\" id=\"sk-estimator-id-8\" type=\"checkbox\" ><label for=\"sk-estimator-id-8\" class=\"sk-toggleable__label sk-toggleable__label-arrow\">MultinomialNB</label><div class=\"sk-toggleable__content\"><pre>MultinomialNB()</pre></div></div></div></div></div></div><div class=\"sk-parallel-item\"><div class=\"sk-item\"><div class=\"sk-label-container\"><div class=\"sk-label sk-toggleable\"><label>bnb</label></div></div><div class=\"sk-serial\"><div class=\"sk-item\"><div class=\"sk-estimator sk-toggleable\"><input class=\"sk-toggleable__control sk-hidden--visually\" id=\"sk-estimator-id-9\" type=\"checkbox\" ><label for=\"sk-estimator-id-9\" class=\"sk-toggleable__label sk-toggleable__label-arrow\">BernoulliNB</label><div class=\"sk-toggleable__content\"><pre>BernoulliNB()</pre></div></div></div></div></div></div></div></div></div></div>"
            ],
            "text/plain": [
              "VotingClassifier(estimators=[('mnb', MultinomialNB()), ('bnb', BernoulliNB())],\n",
              "                 voting='soft')"
            ]
          },
          "execution_count": 153,
          "metadata": {},
          "output_type": "execute_result"
        }
      ],
      "source": [
        "mnb = MultinomialNB()\n",
        "bnb= BernoulliNB()\n",
        "from sklearn.ensemble import VotingClassifier\n",
        "voting = VotingClassifier(estimators=[('mnb',mnb),('bnb',bnb)],voting='soft')\n",
        "voting.fit(X_train,y_train)"
      ]
    },
    {
      "cell_type": "code",
      "execution_count": null,
      "metadata": {
        "colab": {
          "base_uri": "https://localhost:8080/"
        },
        "id": "y9Xa5-TRYUmC",
        "outputId": "fde01f7c-6daf-44df-faf7-e086fca39f5f"
      },
      "outputs": [
        {
          "name": "stdout",
          "output_type": "stream",
          "text": [
            "Accuracy 0.9874274661508704\n",
            "Precision 0.9916666666666667\n"
          ]
        }
      ],
      "source": [
        "y_pred = voting.predict(X_test)\n",
        "print(\"Accuracy\",accuracy_score(y_test,y_pred))\n",
        "print(\"Precision\",precision_score(y_test,y_pred))"
      ]
    }
  ],
  "metadata": {
    "colab": {
      "provenance": []
    },
    "kernelspec": {
      "display_name": "Python 3",
      "name": "python3"
    },
    "language_info": {
      "name": "python"
    }
  },
  "nbformat": 4,
  "nbformat_minor": 0
}
